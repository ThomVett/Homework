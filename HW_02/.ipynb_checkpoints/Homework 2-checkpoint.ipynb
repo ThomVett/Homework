{
 "cells": [
  {
   "cell_type": "markdown",
   "metadata": {},
   "source": [
    "In this notebook we will guide you through our solution for the second homework of ADA.\n",
    "\n",
    "# Part 1: Extracting the options from the dropdown menu\n",
    "\n",
    "We start with the URL from the [homepage](http://isa.epfl.ch/imoniteur_ISAP/%21gedpublicreports.htm?ww_i_reportmodel=133685247) where you can the select the different years/semesters etc.."
   ]
  },
  {
   "cell_type": "code",
   "execution_count": 1,
   "metadata": {
    "collapsed": false
   },
   "outputs": [],
   "source": [
    "%matplotlib inline\n",
    "import pandas as pd\n",
    "import requests\n",
    "from bs4 import BeautifulSoup\n",
    "import sys\n",
    "import numpy as np\n",
    "import matplotlib.pyplot as plt\n",
    "\n",
    "\n",
    "urlHome = 'http://isa.epfl.ch/imoniteur_ISAP/\\\n",
    "%21gedpublicreports.htm?ww_i_reportmodel=133685247'"
   ]
  },
  {
   "cell_type": "markdown",
   "metadata": {},
   "source": [
    "We then use requests and BeautifulSoup to import the HTML data from the homepage."
   ]
  },
  {
   "cell_type": "code",
   "execution_count": 2,
   "metadata": {
    "collapsed": false
   },
   "outputs": [],
   "source": [
    "home = requests.get(urlHome)\n",
    "homeSoup = BeautifulSoup(home.content,'lxml')"
   ]
  },
  {
   "cell_type": "markdown",
   "metadata": {},
   "source": [
    "The insepetion tool of our browser helped learn that we were to access a #document that is in the frame of one of the framesets of the HTML page, the document is sourced from another page of IS-Academia that we have to access. To access it, we scroll through the framesets and create a list of all the frames. "
   ]
  },
  {
   "cell_type": "code",
   "execution_count": 3,
   "metadata": {
    "collapsed": false
   },
   "outputs": [
    {
     "name": "stdout",
     "output_type": "stream",
     "text": [
      "!GEDPUBLICREPORTS.filter?ww_i_reportModel=133685247\n"
     ]
    }
   ],
   "source": [
    "iframe = []\n",
    "for frame in homeSoup.frameset.find_all('frame'):\n",
    "    iframe.append(frame)\n",
    "\n",
    "urlOptions = iframe[1]['src']\n",
    "\n",
    "print(urlOptions)"
   ]
  },
  {
   "cell_type": "markdown",
   "metadata": {},
   "source": [
    "The url of the source page is found, we can use it to get the other HTML page. Again we use request and beautifulsoup \n",
    "to import the HTML data from this new page."
   ]
  },
  {
   "cell_type": "code",
   "execution_count": 4,
   "metadata": {
    "collapsed": false
   },
   "outputs": [],
   "source": [
    "urlOptions = 'http://isa.epfl.ch/imoniteur_ISAP/' + urlOptions\n",
    "options = requests.get(urlOptions)\n",
    "soupOptions = BeautifulSoup(options.content,'lxml')\n",
    "\n",
    "\n",
    "\n"
   ]
  },
  {
   "cell_type": "markdown",
   "metadata": {},
   "source": [
    "From this beautifulsoup object we can create a dictionary containing the name of each form parameters as key and the value of each parameters as value. We do this by scrolling to the option tag which contains this information."
   ]
  },
  {
   "cell_type": "code",
   "execution_count": 5,
   "metadata": {
    "collapsed": false
   },
   "outputs": [
    {
     "name": "stdout",
     "output_type": "stream",
     "text": [
      "{'Science et génie des matériaux': '944917', 'Architecture': '942293', 'Stage printemps 4ème année': '2226626', '2014-2015': '213637922', 'Master semestre 1': '2230106', 'Mise à niveau': '2063602308', 'Stage automne 4ème année': '2226616', 'Microtechnique': '945244', 'Master semestre 3': '2230128', '2009-2010': '978195', 'Cours de mathématiques spéciales': '943282', '2016-2017': '355925344', '2013-2014': '213637754', 'Physique': '945571', None: 'null', 'Bachelor semestre 6b': '2226785', 'Mineur semestre 2': '2335676', '2012-2013': '123456101', 'Projet Master printemps': '3781783', 'Bachelor semestre 1': '249108', 'EME (EPFL Middle East)': '637841336', '2015-2016': '213638028', 'Bachelor semestre 2': '249114', 'Bachelor semestre 4': '942163', '2008-2009': '978187', 'Stage printemps 3ème année': '983606', '2011-2012': '123455150', 'Informatique': '249847', 'Master semestre 2': '942192', 'Humanités digitales': '2054839157', 'Stage automne 3ème année': '953137', 'Semestre de printemps': '2936295', 'Stage printemps master': '2227132', 'Chimie et génie chimique': '246696', \"Sciences et ingénierie de l'environnement\": '942953', '2010-2011': '39486325', 'Bachelor semestre 3': '942155', 'Semestre automne': '953159', 'Bachelor semestre 5': '942120', 'Projet Master automne': '249127', 'Sciences et technologies du vivant': '945901', 'Master semestre 4': '2230140', 'Génie civil': '942623', 'Mineur semestre 1': '2335667', 'Section FCUE': '1574548993', 'Mathématiques': '944590', 'Ingénierie financière': '120623110', 'Génie électrique et électronique ': '943936', '2007-2008': '978181', 'Bachelor semestre 6': '942175', 'Systèmes de communication': '946228', \"Semestre d'automne\": '2936286', 'Génie mécanique': '944263', 'Bachelor semestre 5b': '2226768', 'Semestre printemps': '2754553', 'Management de la technologie': '946882'}\n"
     ]
    }
   ],
   "source": [
    "#dictionary with the name and the value of each parameters\n",
    "dic_name_value = {}\n",
    "\n",
    "#Loop that passes trough all the option tag\n",
    "for f in soupOptions.find_all('option'):\n",
    "    \n",
    "    #Filling of the dictionary\n",
    "    dic = {f.string : f.attrs[\"value\"]}\n",
    "    dic_name_value.update(dic)\n",
    "\n",
    "\n",
    "    \n",
    "print(dic_name_value)"
   ]
  },
  {
   "cell_type": "markdown",
   "metadata": {},
   "source": [
    "We separate this dictionary into smaller dictionaries specific to each form parameters. Which means one for the section, one for the academic period, etc. We do this specifically for the bachelor students, in order to complete the first task."
   ]
  },
  {
   "cell_type": "code",
   "execution_count": 8,
   "metadata": {
    "collapsed": false
   },
   "outputs": [
    {
     "name": "stdout",
     "output_type": "stream",
     "text": [
      "{'Informatique': '249847'}\n",
      "Parameter for semesters \n",
      " {'Semestre de printemps': '2936295', \"Semestre d'automne\": '2936286'}\n",
      "Year Parameters \n",
      " {'2013-2014': '213637754', '2015-2016': '213638028', '2014-2015': '213637922', '2010-2011': '39486325', '2007-2008': '978181', '2008-2009': '978187', '2009-2010': '978195', '2012-2013': '123456101', '2016-2017': '355925344', '2011-2012': '123455150'}\n",
      "Parameters for period \n",
      " {'Bachelor semestre 2': '249114', 'Bachelor semestre 3': '942155', 'Bachelor semestre 6b': '2226785', 'Bachelor semestre 4': '942163', 'Bachelor semestre 5': '942120', 'Bachelor semestre 5b': '2226768', 'Bachelor semestre 6': '942175', 'Bachelor semestre 1': '249108'}\n"
     ]
    }
   ],
   "source": [
    "#From the dictionnary we created before with the name and the value, we extract the parameters that we want. \n",
    "#We create separated dictionary for every form parameters.\n",
    "\n",
    "#First parameter: Informatique\n",
    "parameter_section = {'Informatique' : (dic_name_value['Informatique'])}\n",
    "print(parameter_section)\n",
    "\n",
    "#Seconde parameter: Semester\n",
    "\n",
    "#Initialization of the dictionary\n",
    "parameter_semester = {}\n",
    "\n",
    "#Loop that will pass trough the whole dictionary and select the ones that start with Semestre\n",
    "for key,value in dic_name_value.items():\n",
    "    if key is not None: #checking for none because it exist in the keys. With this no error will be returned due to nonetype\n",
    "        if key.startswith('Semestre d'):\n",
    "            parameter_semester[key]=value\n",
    "print('Parameter for semesters \\n',parameter_semester)\n",
    "\n",
    "#Third parameter: years\n",
    "parameter_years = {}\n",
    "\n",
    "for key,value in dic_name_value.items():\n",
    "    if key is not None: #checking for none because it exist in the keys. With this no error will be returned due to nonetype\n",
    "        if key.startswith('2'):\n",
    "            parameter_years[key]=value\n",
    "            \n",
    "print('Year Parameters \\n',parameter_years)\n",
    "\n",
    "#Fourth parameter: Pedagogical period\n",
    "\n",
    "test = [\"Ba\"]   #test = [\"Ba\", \"Ma\",\"Min\",\"Mis\",\"Pro\",\"Sem\",\"Sta\"]\n",
    "parameter_period = {};\n",
    "for key,value in dic_name_value.items():\n",
    "    if key is not None: #checking for none because it exist in the keys. With this no error will be returned due to nonetype\n",
    "        if key.startswith(tuple(test)):\n",
    "            parameter_period[key]=value\n",
    "print('Parameters for period \\n',parameter_period)\n",
    "\n"
   ]
  },
  {
   "cell_type": "markdown",
   "metadata": {},
   "source": [
    "From theses dictionaries, we load the data directly from the IS-academia servers using pd.read_html. We use the standard url and we change the form parameters values for each values in each dictionaries using the %s method. We do the assumption that no two students have the same name."
   ]
  },
  {
   "cell_type": "code",
   "execution_count": 14,
   "metadata": {
    "collapsed": false
   },
   "outputs": [
    {
     "data": {
      "text/html": [
       "<div>\n",
       "<table border=\"1\" class=\"dataframe\">\n",
       "  <thead>\n",
       "    <tr style=\"text-align: right;\">\n",
       "      <th></th>\n",
       "      <th>Civilité</th>\n",
       "      <th>Nom Prénom</th>\n",
       "      <th>Periode Académique</th>\n",
       "    </tr>\n",
       "  </thead>\n",
       "  <tbody>\n",
       "    <tr>\n",
       "      <th>2</th>\n",
       "      <td>Monsieur</td>\n",
       "      <td>Alfonso Peterssen Alfonso</td>\n",
       "      <td>Bachelor semestre 2</td>\n",
       "    </tr>\n",
       "    <tr>\n",
       "      <th>3</th>\n",
       "      <td>Monsieur</td>\n",
       "      <td>Antelo Blanco Lucas</td>\n",
       "      <td>Bachelor semestre 2</td>\n",
       "    </tr>\n",
       "    <tr>\n",
       "      <th>4</th>\n",
       "      <td>Monsieur</td>\n",
       "      <td>Antunes Nelson Tiago</td>\n",
       "      <td>Bachelor semestre 2</td>\n",
       "    </tr>\n",
       "    <tr>\n",
       "      <th>5</th>\n",
       "      <td>Monsieur</td>\n",
       "      <td>Ballerini Marco Roberto Julian</td>\n",
       "      <td>Bachelor semestre 2</td>\n",
       "    </tr>\n",
       "    <tr>\n",
       "      <th>6</th>\n",
       "      <td>Madame</td>\n",
       "      <td>Baraschi Zoé</td>\n",
       "      <td>Bachelor semestre 2</td>\n",
       "    </tr>\n",
       "  </tbody>\n",
       "</table>\n",
       "</div>"
      ],
      "text/plain": [
       "   Civilité                      Nom Prénom   Periode Académique\n",
       "2  Monsieur       Alfonso Peterssen Alfonso  Bachelor semestre 2\n",
       "3  Monsieur             Antelo Blanco Lucas  Bachelor semestre 2\n",
       "4  Monsieur            Antunes Nelson Tiago  Bachelor semestre 2\n",
       "5  Monsieur  Ballerini Marco Roberto Julian  Bachelor semestre 2\n",
       "6    Madame                    Baraschi Zoé  Bachelor semestre 2"
      ]
     },
     "execution_count": 14,
     "metadata": {},
     "output_type": "execute_result"
    }
   ],
   "source": [
    "# Now we want to request the is-academia servers for the specific data we need, using the dictionaries that we created\n",
    "#before. We will use for loop passing trough every dictionaries in order to compose the multiple requests needed.\n",
    "\n",
    "data_all = pd.DataFrame()\n",
    "\n",
    "#Multiple loop that permits to use each values in each dictionaries\n",
    "for value_section in parameter_section.values():\n",
    "    for value_years in parameter_years.values(): \n",
    "        for key_period, value_period in parameter_period.items(): #here we also retrieve the key, because it is needed afterward\n",
    "            for value_semester in parameter_semester.values():\n",
    "                \n",
    "                #We use a try to prevent the problem when there is a empty list.\n",
    "                try:\n",
    "                    #The url is changed for every values in each loops\n",
    "                    student_data = pd.read_html('http://isa.epfl.ch/imoniteur_ISAP//!GEDPUBLICREPORTS.html?ww_x_GPS=-1&ww_i_reportModel=133685247&ww_i_reportModelXsl=133685270&ww_x_UNITE_ACAD=%s&ww_x_PERIODE_ACAD=%s&ww_x_PERIODE_PEDAGO=%s&ww_x_HIVERETE=%s' % (value_section, value_years, value_period, value_semester))\n",
    "                    \n",
    "                    \n",
    "                    #The data is reshaped to be more suite for subsequent analysis\n",
    "                    student_data[0].columns = student_data[0].loc[[1]].values.reshape(12,)\n",
    "                    student_data[0].drop(student_data[0].index[[0,1]],inplace=True)\n",
    "                    student_data[0] = student_data[0][['Civilité','Nom Prénom',]]\n",
    "                    student_data[0]['Periode Académique'] = key_period\n",
    "                    \n",
    "                    #Each block of data is concatenated to have a unique dataframe\n",
    "                    data_all = pd.concat([data_all, student_data[0]], axis = 0)  \n",
    "                    \n",
    "                except:\n",
    "                    pass\n",
    "                \n",
    "data_all.head()"
   ]
  },
  {
   "cell_type": "markdown",
   "metadata": {},
   "source": [
    "Now we have all the data in a proper order and labeled with their academic period (For the bachelor only). We want ot compute the time made by students to achieve their bachelor. So first we will need to select student that have an entry in both Bachelor semestre 1 and Bachelor semestre 6. The process is a bit circonvoluted so here is a summary.\n",
    "\n",
    "- Select student that are in bachelor 1 and remove the duplicates from this list. (using isin and drop_duplicates)\n",
    "- Select student that are in bachelor 6 and remove tthe duplicates form this list (using isin and drop_duplicates)\n",
    "- Concatenate these two new dataframes\n",
    "- Select the duplicates in this dataframe with the function duplicated. \n",
    "\n",
    "Now we have a dataframe containing only the student that have an entry in both bach. 1 and 6. "
   ]
  },
  {
   "cell_type": "code",
   "execution_count": 15,
   "metadata": {
    "collapsed": false
   },
   "outputs": [
    {
     "data": {
      "text/html": [
       "<div>\n",
       "<table border=\"1\" class=\"dataframe\">\n",
       "  <thead>\n",
       "    <tr style=\"text-align: right;\">\n",
       "      <th></th>\n",
       "      <th>Civilité</th>\n",
       "      <th>Nom Prénom</th>\n",
       "      <th>Periode Académique</th>\n",
       "    </tr>\n",
       "  </thead>\n",
       "  <tbody>\n",
       "    <tr>\n",
       "      <th>2</th>\n",
       "      <td>Monsieur</td>\n",
       "      <td>Aiulfi Loris Sandro</td>\n",
       "      <td>Bachelor semestre 6</td>\n",
       "    </tr>\n",
       "    <tr>\n",
       "      <th>3</th>\n",
       "      <td>Monsieur</td>\n",
       "      <td>Alonso Seisdedos Florian</td>\n",
       "      <td>Bachelor semestre 6</td>\n",
       "    </tr>\n",
       "    <tr>\n",
       "      <th>4</th>\n",
       "      <td>Monsieur</td>\n",
       "      <td>Amorim Afonso Caldeira Da Silva Pedro Maria</td>\n",
       "      <td>Bachelor semestre 6</td>\n",
       "    </tr>\n",
       "    <tr>\n",
       "      <th>5</th>\n",
       "      <td>Monsieur</td>\n",
       "      <td>Beaud Guillaume François Paul</td>\n",
       "      <td>Bachelor semestre 6</td>\n",
       "    </tr>\n",
       "    <tr>\n",
       "      <th>6</th>\n",
       "      <td>Monsieur</td>\n",
       "      <td>Benhamadi Yassine</td>\n",
       "      <td>Bachelor semestre 6</td>\n",
       "    </tr>\n",
       "  </tbody>\n",
       "</table>\n",
       "</div>"
      ],
      "text/plain": [
       "   Civilité                                   Nom Prénom   Periode Académique\n",
       "2  Monsieur                          Aiulfi Loris Sandro  Bachelor semestre 6\n",
       "3  Monsieur                     Alonso Seisdedos Florian  Bachelor semestre 6\n",
       "4  Monsieur  Amorim Afonso Caldeira Da Silva Pedro Maria  Bachelor semestre 6\n",
       "5  Monsieur                Beaud Guillaume François Paul  Bachelor semestre 6\n",
       "6  Monsieur                            Benhamadi Yassine  Bachelor semestre 6"
      ]
     },
     "execution_count": 15,
     "metadata": {},
     "output_type": "execute_result"
    }
   ],
   "source": [
    "#Here we take the student that are in bachelor 1 and we remove the duplicates\n",
    "\n",
    "student_bachelor_1 = data_all[data_all['Periode Académique'].isin(['Bachelor semestre 1'])]\n",
    "\n",
    "student_bachelor_1_unique = student_bachelor_1.drop_duplicates(subset='Nom Prénom')\n",
    "\n",
    "\n",
    "#Here we take the student that are in bachelor 6 and we remove the duplicates\n",
    "\n",
    "student_bachelor_6 = data_all[data_all['Periode Académique'].isin(['Bachelor semestre 6'])]\n",
    "\n",
    "student_bachelor_6_unique = student_bachelor_6.drop_duplicates(subset='Nom Prénom')\n",
    "\n",
    "#Concatenation of the 2 duplicates.\n",
    "student_bachelor_1_6 = pd.concat([student_bachelor_1_unique, student_bachelor_6_unique])\n",
    "\n",
    "#Select the duplicates\n",
    "student_bachelor_unique = student_bachelor_1_6[student_bachelor_1_6.duplicated(subset='Nom Prénom')]\n",
    "student_bachelor_unique.head()"
   ]
  },
  {
   "cell_type": "markdown",
   "metadata": {},
   "source": [
    "We separate the group between men and women using groupby"
   ]
  },
  {
   "cell_type": "code",
   "execution_count": 16,
   "metadata": {
    "collapsed": false
   },
   "outputs": [
    {
     "data": {
      "text/html": [
       "<div>\n",
       "<table border=\"1\" class=\"dataframe\">\n",
       "  <thead>\n",
       "    <tr style=\"text-align: right;\">\n",
       "      <th></th>\n",
       "      <th>Civilité</th>\n",
       "      <th>Nom Prénom</th>\n",
       "      <th>Periode Académique</th>\n",
       "    </tr>\n",
       "  </thead>\n",
       "  <tbody>\n",
       "    <tr>\n",
       "      <th>24</th>\n",
       "      <td>Madame</td>\n",
       "      <td>Duré Laurence</td>\n",
       "      <td>Bachelor semestre 6</td>\n",
       "    </tr>\n",
       "    <tr>\n",
       "      <th>38</th>\n",
       "      <td>Madame</td>\n",
       "      <td>Gucevska Zhivka</td>\n",
       "      <td>Bachelor semestre 6</td>\n",
       "    </tr>\n",
       "    <tr>\n",
       "      <th>43</th>\n",
       "      <td>Madame</td>\n",
       "      <td>Henrioux Manon</td>\n",
       "      <td>Bachelor semestre 6</td>\n",
       "    </tr>\n",
       "    <tr>\n",
       "      <th>51</th>\n",
       "      <td>Madame</td>\n",
       "      <td>Löffel Audrey Stéphanie</td>\n",
       "      <td>Bachelor semestre 6</td>\n",
       "    </tr>\n",
       "    <tr>\n",
       "      <th>64</th>\n",
       "      <td>Madame</td>\n",
       "      <td>Pignat Eliéva Arlette</td>\n",
       "      <td>Bachelor semestre 6</td>\n",
       "    </tr>\n",
       "  </tbody>\n",
       "</table>\n",
       "</div>"
      ],
      "text/plain": [
       "   Civilité               Nom Prénom   Periode Académique\n",
       "24   Madame            Duré Laurence  Bachelor semestre 6\n",
       "38   Madame          Gucevska Zhivka  Bachelor semestre 6\n",
       "43   Madame           Henrioux Manon  Bachelor semestre 6\n",
       "51   Madame  Löffel Audrey Stéphanie  Bachelor semestre 6\n",
       "64   Madame    Pignat Eliéva Arlette  Bachelor semestre 6"
      ]
     },
     "execution_count": 16,
     "metadata": {},
     "output_type": "execute_result"
    }
   ],
   "source": [
    "grouped_sex = student_bachelor_unique.groupby('Civilité')\n",
    "# Survival statistics for men\n",
    "men = grouped_sex.get_group('Monsieur')\n",
    "\n",
    "# Survival statistics for men\n",
    "women = grouped_sex.get_group('Madame')\n",
    "women.head()"
   ]
  },
  {
   "cell_type": "markdown",
   "metadata": {},
   "source": [
    "We create a dataframe containing the name and the number of times each students appears. To do so we first compute the number of unique entries in the dataframe containing all the data using value_counts(). The number returned represent the number of Bachelor semester that each unique student has been registered. Then ,to collect this data, wefor each unique student we create a dictionary that will be used to created a dataframe containing the final value. The column Semestre represent the number of semestre done by each student. The dataframe is created both for men and women. "
   ]
  },
  {
   "cell_type": "code",
   "execution_count": 17,
   "metadata": {
    "collapsed": false
   },
   "outputs": [],
   "source": [
    "#Computation for the men\n",
    "dic_counts_men = []\n",
    "\n",
    "#Count the number of unique value in all the data. This represent the number of semester done by each student\n",
    "list_count_all = data_all['Nom Prénom'].value_counts()\n",
    "\n",
    "\n",
    "#We ceate a list of dictionary that can be used to create a dataframe. We pass trough each \n",
    "#unique student name for men and for women (see next cell)\n",
    "for name in men['Nom Prénom']:\n",
    "\n",
    "    dic_counts_trans = {'Nom Prénom' : name, 'Semestre' : list_count_all[name]}\n",
    "    dic_counts_men.append(dic_counts_trans)\n",
    "    \n",
    "\n",
    "#Creation of the dataframe. \n",
    "men_counts_raw = pd.DataFrame(dic_counts_men)\n",
    "\n",
    "#Here we filter the students that less than 6 semester. This should not be necessary as the minimum number should be \n",
    "#6 semester but by using a histogramme we find out that there was a very small number of students with 4 semester.\n",
    "#That should not be possible with our code and we did not find out the reason why it happen. \n",
    "#As it was a really small number and that normally student should have a minimum of 6 semester, we decided to filter\n",
    "#them out.\n",
    "men_counts = men_counts_raw.query('Semestre > 5')"
   ]
  },
  {
   "cell_type": "code",
   "execution_count": 19,
   "metadata": {
    "collapsed": false
   },
   "outputs": [
    {
     "data": {
      "text/html": [
       "<div>\n",
       "<table border=\"1\" class=\"dataframe\">\n",
       "  <thead>\n",
       "    <tr style=\"text-align: right;\">\n",
       "      <th></th>\n",
       "      <th>Nom Prénom</th>\n",
       "      <th>Semestre</th>\n",
       "    </tr>\n",
       "  </thead>\n",
       "  <tbody>\n",
       "    <tr>\n",
       "      <th>0</th>\n",
       "      <td>Duré Laurence</td>\n",
       "      <td>8</td>\n",
       "    </tr>\n",
       "    <tr>\n",
       "      <th>1</th>\n",
       "      <td>Gucevska Zhivka</td>\n",
       "      <td>6</td>\n",
       "    </tr>\n",
       "    <tr>\n",
       "      <th>2</th>\n",
       "      <td>Henrioux Manon</td>\n",
       "      <td>6</td>\n",
       "    </tr>\n",
       "    <tr>\n",
       "      <th>3</th>\n",
       "      <td>Löffel Audrey Stéphanie</td>\n",
       "      <td>8</td>\n",
       "    </tr>\n",
       "    <tr>\n",
       "      <th>4</th>\n",
       "      <td>Pignat Eliéva Arlette</td>\n",
       "      <td>6</td>\n",
       "    </tr>\n",
       "  </tbody>\n",
       "</table>\n",
       "</div>"
      ],
      "text/plain": [
       "                Nom Prénom  Semestre\n",
       "0            Duré Laurence         8\n",
       "1          Gucevska Zhivka         6\n",
       "2           Henrioux Manon         6\n",
       "3  Löffel Audrey Stéphanie         8\n",
       "4    Pignat Eliéva Arlette         6"
      ]
     },
     "execution_count": 19,
     "metadata": {},
     "output_type": "execute_result"
    }
   ],
   "source": [
    "#Computation for the men\n",
    "dic_counts_women = []\n",
    "\n",
    "#Count the number of unique value in all the data. This represent the number of semester done by each student\n",
    "list_count_all = data_all['Nom Prénom'].value_counts()\n",
    "\n",
    "\n",
    "#We ceate a list of dictionary that can be used to create a dataframe\n",
    "for name in women['Nom Prénom']:\n",
    "\n",
    "    dic_counts_trans = {'Nom Prénom' : name, 'Semestre' : list_count_all[name]}\n",
    "    dic_counts_women.append(dic_counts_trans)\n",
    "    \n",
    "\n",
    "#Creation of the dataframe.\n",
    "women_counts = pd.DataFrame(dic_counts_women)\n",
    "\n",
    "\n",
    "women_counts.head()"
   ]
  },
  {
   "cell_type": "markdown",
   "metadata": {},
   "source": [
    "Now we can average the number of semester students did, for men and women."
   ]
  },
  {
   "cell_type": "code",
   "execution_count": 20,
   "metadata": {
    "collapsed": false
   },
   "outputs": [
    {
     "data": {
      "text/plain": [
       "Semestre    7.114441\n",
       "dtype: float64"
      ]
     },
     "execution_count": 20,
     "metadata": {},
     "output_type": "execute_result"
    }
   ],
   "source": [
    "men_counts.mean()"
   ]
  },
  {
   "cell_type": "code",
   "execution_count": 21,
   "metadata": {
    "collapsed": false
   },
   "outputs": [
    {
     "data": {
      "text/plain": [
       "Semestre    6.793103\n",
       "dtype: float64"
      ]
     },
     "execution_count": 21,
     "metadata": {},
     "output_type": "execute_result"
    }
   ],
   "source": [
    "women_counts.mean()"
   ]
  },
  {
   "cell_type": "markdown",
   "metadata": {},
   "source": [
    "We can visualize the distribution of these two group using histogram.\n"
   ]
  },
  {
   "cell_type": "code",
   "execution_count": 22,
   "metadata": {
    "collapsed": false
   },
   "outputs": [
    {
     "data": {
      "text/plain": [
       "<matplotlib.axes._subplots.AxesSubplot at 0x112cf9518>"
      ]
     },
     "execution_count": 22,
     "metadata": {},
     "output_type": "execute_result"
    },
    {
     "data": {
      "image/png": "[encoded data removed]",
      "text/plain": [
       "<matplotlib.figure.Figure at 0x112d13c88>"
      ]
     },
     "metadata": {},
     "output_type": "display_data"
    }
   ],
   "source": [
    "men_data = men_counts['Semestre']\n",
    "women_data = women_counts['Semestre']\n",
    "\n",
    "men_data.hist(bins = 50)\n"
   ]
  },
  {
   "cell_type": "markdown",
   "metadata": {},
   "source": []
  },
  {
   "cell_type": "code",
   "execution_count": 23,
   "metadata": {
    "collapsed": false
   },
   "outputs": [
    {
     "data": {
      "text/plain": [
       "<matplotlib.axes._subplots.AxesSubplot at 0x112d13e48>"
      ]
     },
     "execution_count": 23,
     "metadata": {},
     "output_type": "execute_result"
    },
    {
     "data": {
      "image/png": "[encoded data removed]",
      "text/plain": [
       "<matplotlib.figure.Figure at 0x115305518>"
      ]
     },
     "metadata": {},
     "output_type": "display_data"
    }
   ],
   "source": [
    "women_data.hist(bins = 50)"
   ]
  },
  {
   "cell_type": "markdown",
   "metadata": {},
   "source": [
    "We test if the difference of the means between men and women is statistically significant."
   ]
  },
  {
   "cell_type": "code",
   "execution_count": 120,
   "metadata": {
    "collapsed": false
   },
   "outputs": [
    {
     "data": {
      "text/plain": [
       "Ttest_indResult(statistic=1.0643000334248733, pvalue=0.2878429746516184)"
      ]
     },
     "execution_count": 120,
     "metadata": {},
     "output_type": "execute_result"
    }
   ],
   "source": [
    "from scipy.stats import ttest_ind\n",
    "\n",
    "ttest_ind(men_data, women_data)\n"
   ]
  },
  {
   "cell_type": "markdown",
   "metadata": {},
   "source": [
    "We can see that it is not."
   ]
  },
  {
   "cell_type": "markdown",
   "metadata": {
    "collapsed": true
   },
   "source": [
    "# Parameter Generation for the Master Students \n",
    "\n",
    "We begin by creating the new dictionary to get all of the list of master students"
   ]
  },
  {
   "cell_type": "code",
   "execution_count": 24,
   "metadata": {
    "collapsed": false
   },
   "outputs": [
    {
     "name": "stdout",
     "output_type": "stream",
     "text": [
      "{'Master semestre 2': '942192', 'Master semestre 1': '2230106', 'Mineur semestre 2': '2335676', 'Mineur semestre 1': '2335667', 'Master semestre 3': '2230128', 'Projet Master printemps': '3781783', 'Projet Master automne': '249127', 'Master semestre 4': '2230140'}\n"
     ]
    }
   ],
   "source": [
    "#parameters Period Master :Only the period (Bachelor to Master will be changed)\n",
    "\n",
    "test = ['Mas','Pro','Min']#test = [\"Ba\", \"Ma\",\"Min\",\"Mis\",\"Pro\",\"Sem\",\"Sta\"]\n",
    "parameter_period_Master = {};\n",
    "for key,value in dic_name_value.items():\n",
    "    if key is not None: #checking for none because it exist in the keys. With this no error will be returned due to nonetype\n",
    "        if key.startswith(tuple(test)):\n",
    "            parameter_period_Master[key]=value\n",
    "print(parameter_period_Master)"
   ]
  },
  {
   "cell_type": "markdown",
   "metadata": {},
   "source": [
    "We now do as with the bachelor students and extract all the data in a single dataframe. For the extraction of the data, we choose to keep the data from 2016 so that we can count all of those who finish, and we will erase those who just arrive in 2016 from our dataset."
   ]
  },
  {
   "cell_type": "code",
   "execution_count": 25,
   "metadata": {
    "collapsed": true
   },
   "outputs": [],
   "source": [
    "data_master = pd.DataFrame()\n",
    "for key_section,value_section in parameter_section.items():\n",
    "    for key_years,value_years in parameter_years.items():\n",
    "        for key_period,value_period in parameter_period_Master.items():\n",
    "            for key_semester,value_semester in parameter_semester.items():\n",
    "                  #We use a try to prevent the problem when there is a empty list.\n",
    "                try:\n",
    "                    #The url is changed for every values in each loops\n",
    "                    student_data = pd.read_html('http://isa.epfl.ch/imoniteur_ISAP//!GEDPUBLICREPORTS.html?ww_x_GPS=-1&ww_i_reportModel=133685247&ww_i_reportModelXsl=133685270&ww_x_UNITE_ACAD=%s&ww_x_PERIODE_ACAD=%s&ww_x_PERIODE_PEDAGO=%s&ww_x_HIVERETE=%s' % (value_section, value_years, value_period, value_semester),header=None)\n",
    "                    \n",
    "                    #The data is reshaped to be more suite for subsequent analysis\n",
    "                    student_data = student_data[0]\n",
    "                    student_data.columns = student_data.loc[[1]].values.reshape(12,)\n",
    "                    student_data.drop(student_data.index[[0,1]],inplace=True)\n",
    "                    student_data = student_data[['Civilité','Nom Prénom','Spécialisation','Mineur']]\n",
    "                    student_data['Période Académique'] = key_period\n",
    "                    student_data['Year'] = key_years\n",
    "                    data_master = pd.concat([data_master, student_data], axis = 0)# we could use keys here\n",
    "                except:\n",
    "                    pass\n",
    "                \n",
    "                #Each block of data is concatenated to have a unique dataframe\n"
   ]
  },
  {
   "cell_type": "markdown",
   "metadata": {},
   "source": [
    "We first take a look at the data we extracted"
   ]
  },
  {
   "cell_type": "code",
   "execution_count": 27,
   "metadata": {
    "collapsed": false
   },
   "outputs": [
    {
     "data": {
      "text/html": [
       "<div>\n",
       "<table border=\"1\" class=\"dataframe\">\n",
       "  <thead>\n",
       "    <tr style=\"text-align: right;\">\n",
       "      <th></th>\n",
       "      <th>Civilité</th>\n",
       "      <th>Nom Prénom</th>\n",
       "      <th>Spécialisation</th>\n",
       "      <th>Mineur</th>\n",
       "      <th>Période Académique</th>\n",
       "      <th>Year</th>\n",
       "    </tr>\n",
       "  </thead>\n",
       "  <tbody>\n",
       "    <tr>\n",
       "      <th>2</th>\n",
       "      <td>Madame</td>\n",
       "      <td>Abbadi Hajar</td>\n",
       "      <td>NaN</td>\n",
       "      <td>Mineur en Management, technologie et entrepren...</td>\n",
       "      <td>Master semestre 2</td>\n",
       "      <td>2013-2014</td>\n",
       "    </tr>\n",
       "    <tr>\n",
       "      <th>3</th>\n",
       "      <td>Monsieur</td>\n",
       "      <td>Ahmed Fayzan</td>\n",
       "      <td>NaN</td>\n",
       "      <td>Mineur en Neuroprosthétiques</td>\n",
       "      <td>Master semestre 2</td>\n",
       "      <td>2013-2014</td>\n",
       "    </tr>\n",
       "    <tr>\n",
       "      <th>4</th>\n",
       "      <td>Monsieur</td>\n",
       "      <td>Angel Axel</td>\n",
       "      <td>NaN</td>\n",
       "      <td>NaN</td>\n",
       "      <td>Master semestre 2</td>\n",
       "      <td>2013-2014</td>\n",
       "    </tr>\n",
       "    <tr>\n",
       "      <th>5</th>\n",
       "      <td>Madame</td>\n",
       "      <td>Antic Jelena</td>\n",
       "      <td>NaN</td>\n",
       "      <td>NaN</td>\n",
       "      <td>Master semestre 2</td>\n",
       "      <td>2013-2014</td>\n",
       "    </tr>\n",
       "    <tr>\n",
       "      <th>6</th>\n",
       "      <td>Monsieur</td>\n",
       "      <td>Antognini Marco</td>\n",
       "      <td>NaN</td>\n",
       "      <td>NaN</td>\n",
       "      <td>Master semestre 2</td>\n",
       "      <td>2013-2014</td>\n",
       "    </tr>\n",
       "  </tbody>\n",
       "</table>\n",
       "</div>"
      ],
      "text/plain": [
       "   Civilité       Nom Prénom Spécialisation  \\\n",
       "2    Madame     Abbadi Hajar            NaN   \n",
       "3  Monsieur     Ahmed Fayzan            NaN   \n",
       "4  Monsieur       Angel Axel            NaN   \n",
       "5    Madame     Antic Jelena            NaN   \n",
       "6  Monsieur  Antognini Marco            NaN   \n",
       "\n",
       "                                              Mineur Période Académique  \\\n",
       "2  Mineur en Management, technologie et entrepren...  Master semestre 2   \n",
       "3                       Mineur en Neuroprosthétiques  Master semestre 2   \n",
       "4                                                NaN  Master semestre 2   \n",
       "5                                                NaN  Master semestre 2   \n",
       "6                                                NaN  Master semestre 2   \n",
       "\n",
       "        Year  \n",
       "2  2013-2014  \n",
       "3  2013-2014  \n",
       "4  2013-2014  \n",
       "5  2013-2014  \n",
       "6  2013-2014  "
      ]
     },
     "execution_count": 27,
     "metadata": {},
     "output_type": "execute_result"
    }
   ],
   "source": [
    "data_master.head()"
   ]
  },
  {
   "cell_type": "markdown",
   "metadata": {},
   "source": [
    "We have  extract all of the data for the master students. The first step will be to check how many of them have only been signep up only once. We choose to look only at the type of semester the student is signed up in, and not to look at the timeline of his inscriptions. Due to this, if the master student is leaving 1 semester for a long internship it will not be counted in the total time for his master. We think this assumption is okay because we are only looking at the time that is required to finis the master courses, and not making internships in between!"
   ]
  },
  {
   "cell_type": "code",
   "execution_count": 28,
   "metadata": {
    "collapsed": false
   },
   "outputs": [
    {
     "name": "stdout",
     "output_type": "stream",
     "text": [
      "How many are signed up only once : 185\n",
      "Total number of students :  977\n"
     ]
    }
   ],
   "source": [
    "signUprate = data_master['Nom Prénom'].value_counts()\n",
    "print('How many are signed up only once :',signUprate.value_counts().loc[1])\n",
    "print('Total number of students : ',len(signUprate))"
   ]
  },
  {
   "cell_type": "markdown",
   "metadata": {},
   "source": [
    "As we see that 185 students are only signed up once, it's hard to believe that 20 % have stopped the masters in mid course.\n",
    "\n",
    "We want to take a look at these 185 students and see if it is an IS_academia artifact or if they really signed up only in the first semester and left. We will extract these from the whole data_master dataFrame."
   ]
  },
  {
   "cell_type": "code",
   "execution_count": 29,
   "metadata": {
    "collapsed": false
   },
   "outputs": [
    {
     "name": "stdout",
     "output_type": "stream",
     "text": [
      "Période Académique\n",
      " Master semestre 1    137\n",
      "Master semestre 3     45\n",
      "Master semestre 2      3\n",
      "Name: Période Académique, dtype: int64\n"
     ]
    }
   ],
   "source": [
    "import numpy as np\n",
    "signUponce = (data_master['Nom Prénom'].value_counts()==1)\n",
    "signUponcename = signUponce.loc[signUponce == True].index\n",
    "signUponcename = np.array(signUponcename)\n",
    "\n",
    "Students_once = data_master[data_master['Nom Prénom'].isin(signUponcename)]\n",
    "print('Période Académique\\n',Students_once['Période Académique'].value_counts())"
   ]
  },
  {
   "cell_type": "markdown",
   "metadata": {},
   "source": [
    "We can see that about 10% of the registered students were signed up only once in Master Semester 1, and then are not seen any more. We will look more closely at the three types of students. These disappearances are also due that some students have only signed up to masters in 2016 and have just started, not yet finished. We do not want to count them in our statistics."
   ]
  },
  {
   "cell_type": "code",
   "execution_count": 30,
   "metadata": {
    "collapsed": false
   },
   "outputs": [
    {
     "name": "stdout",
     "output_type": "stream",
     "text": [
      "Number MA1 137 No minor 135 No Specialization 128\n",
      "Number MA2 3 No minor 3 No Specialization 3\n",
      "Number MA3 45 No minor 41 No Specialization 23\n"
     ]
    }
   ],
   "source": [
    "MA1 = Students_once[Students_once['Période Académique'] == 'Master semestre 1']\n",
    "MA2 = Students_once[Students_once['Période Académique'] == 'Master semestre 2']\n",
    "MA3 = Students_once[Students_once['Période Académique'] == 'Master semestre 3']\n",
    "print('Number MA1',len(MA1),'No minor',MA1['Mineur'].isnull().sum(),\\\n",
    "     'No Specialization',MA1['Spécialisation'].isnull().sum())\n",
    "print('Number MA2',len(MA2),'No minor',MA2['Mineur'].isnull().sum(),\\\n",
    "     'No Specialization',MA2['Spécialisation'].isnull().sum())\n",
    "print('Number MA3',len(MA3),'No minor',MA3['Mineur'].isnull().sum(),\\\n",
    "     'No Specialization',MA3['Spécialisation'].isnull().sum())"
   ]
  },
  {
   "cell_type": "markdown",
   "metadata": {},
   "source": [
    "We see that most of the students that are signed up in a minor or a specialization are in MA2 or MA3, therefore we will make the assumption that the students that have disapeared from MA1 have left EPFL for good. For the other students we will take into account the fact that they are only registered in one semester and add the according number. \n",
    "\n",
    "We will begin by removing all the students registered only in MA1 from the database"
   ]
  },
  {
   "cell_type": "code",
   "execution_count": 31,
   "metadata": {
    "collapsed": true
   },
   "outputs": [],
   "source": [
    "MA1names = Students_once.loc[Students_once['Période Académique'] =='Master semestre 1']\n",
    "names = np.array(MA1names['Nom Prénom'])\n",
    "masterStudents = data_master[data_master['Nom Prénom'].isin(names) == False]"
   ]
  },
  {
   "cell_type": "markdown",
   "metadata": {},
   "source": [
    "Now that we have removed the data that is of no interest to us we will check for missing entries. We have decided on several parameters that will alter the number of semesters a student is signed up in. \n",
    "\n",
    "- If the student has not been signed up to the master project: + 1 semester\n",
    "- If the student has a specialization or minor, no master project and only 2 semesters: + 2 semester\n",
    "- If the student has a master project and a specialization or minor but only 3 semesters : + 1 semester\n"
   ]
  },
  {
   "cell_type": "code",
   "execution_count": 32,
   "metadata": {
    "collapsed": true
   },
   "outputs": [],
   "source": [
    "def check_student(studentDF):\n",
    "    #check if signed if to master project, in autumn or spring\n",
    "    numberSem = len(studentDF)\n",
    "    \n",
    "    #boolean value to represent that will be true if the student was signed in a Master project\n",
    "    PDM = ((studentDF['Période Académique'] == 'Projet Master printemps').any()\\\n",
    "    or (studentDF['Période Académique'] == 'Projet Master automne').any())\n",
    "    \n",
    "    #Booleans for minor and specialization that will be true if no minor\n",
    "    Minor = studentDF['Mineur'].notnull().any()\n",
    "    Specialization = studentDF['Spécialisation'].notnull().any()\n",
    "    \n",
    "    #add a semester when he is not signed up to PDM\n",
    "    if not PDM:\n",
    "        numberSem+=1\n",
    "    \n",
    "    \n",
    "    if Minor or Specialization:\n",
    "        if numberSem < 3:\n",
    "            numberSem+=2\n",
    "        elif numberSem < 4:\n",
    "            numberSem+=1\n",
    "        #with this last statement we take care of the students that are only signed up once\n",
    "        #with no spec / minor and PDM, and who should end up with 3 semesters\n",
    "        else:\n",
    "            numberSem+=1\n",
    "    \n",
    "    #last check to be sure that no one has less than 3 semesters\n",
    "    if numberSem<3:\n",
    "        numberSem=3\n",
    "        \n",
    "    return numberSem"
   ]
  },
  {
   "cell_type": "markdown",
   "metadata": {},
   "source": [
    "Now we can groupby the remaining students, and check for each students if they have the appropriate smester number, and change the value if necessary."
   ]
  },
  {
   "cell_type": "code",
   "execution_count": 33,
   "metadata": {
    "collapsed": true
   },
   "outputs": [],
   "source": [
    "groupedStudents = masterStudents.groupby('Nom Prénom')"
   ]
  },
  {
   "cell_type": "markdown",
   "metadata": {},
   "source": [
    "Now we scroll through each student, compute the appropriate number of semesters"
   ]
  },
  {
   "cell_type": "code",
   "execution_count": 35,
   "metadata": {
    "collapsed": false
   },
   "outputs": [
    {
     "name": "stdout",
     "output_type": "stream",
     "text": [
      "Mean number of semesters :  4.56666666667\n"
     ]
    }
   ],
   "source": [
    "listSemester = []\n",
    "i = 1\n",
    "for student in groupedStudents.groups:\n",
    "    Stud = groupedStudents.get_group(student)\n",
    "    Sem = check_student(Stud)\n",
    "    listSemester.append(Sem)\n",
    "\n",
    "listSemester = np.asarray(listSemester)\n",
    "print('Mean number of semesters : ',np.mean(listSemester))"
   ]
  },
  {
   "cell_type": "markdown",
   "metadata": {},
   "source": [
    "As we can see, on average a master student at EPFL in computer science takes 4.55 semesters to finish his masters. We think it's normal that's is a bit higher than 4 because until now each time a student leaves for an internship / other, sometimes he will disappear from IS-Academia, and sometimes he will be signed up as MA-1 or MA-2 and we will count these semesters as study time even if it was not our goal.\n",
    "\n",
    "## Separate by Specialization\n",
    "\n",
    "We will first extract the different specialization by grouping and then counting the number of semesters for each specialization."
   ]
  },
  {
   "cell_type": "code",
   "execution_count": 36,
   "metadata": {
    "collapsed": true
   },
   "outputs": [],
   "source": [
    "specGroup = data_master.groupby('Spécialisation')\n",
    "nameSpec =[]\n",
    "\n",
    "yearSpec = pd.DataFrame()\n",
    "\n",
    "#We scroll through each specialization and then we group by student\n",
    "#to compute their number of years. and then we put the values for each student in a Data Frame\n",
    "for gr in specGroup.groups:\n",
    "    sp = specGroup.get_group(gr)\n",
    "    spGroups = sp.groupby('Nom Prénom')\n",
    "    specList = []\n",
    "    nameSpec.append(gr)\n",
    "    for nameStudent in spGroups.groups:\n",
    "        nStudent = spGroups.get_group(nameStudent)\n",
    "        year = check_student(nStudent)\n",
    "        specList.append(year)\n",
    "        \n",
    "    intStudent = pd.DataFrame()\n",
    "    intStudent[gr]= np.asarray(specList).astype(np.float)\n",
    "    yearSpec = pd.concat([yearSpec,intStudent],axis=1)"
   ]
  },
  {
   "cell_type": "markdown",
   "metadata": {},
   "source": [
    "We just take a look at the data!"
   ]
  },
  {
   "cell_type": "code",
   "execution_count": 39,
   "metadata": {
    "collapsed": false
   },
   "outputs": [
    {
     "data": {
      "text/html": [
       "<div>\n",
       "<table border=\"1\" class=\"dataframe\">\n",
       "  <thead>\n",
       "    <tr style=\"text-align: right;\">\n",
       "      <th></th>\n",
       "      <th>Computer Science Theory</th>\n",
       "      <th>Software Systems</th>\n",
       "      <th>Foundations of Software</th>\n",
       "      <th>Information Security - SP</th>\n",
       "      <th>Computer Engineering - SP</th>\n",
       "      <th>Data Analytics</th>\n",
       "      <th>Internet Information Systems</th>\n",
       "      <th>Signals, Images and Interfaces</th>\n",
       "      <th>Service science</th>\n",
       "      <th>Biocomputing</th>\n",
       "      <th>Internet computing</th>\n",
       "    </tr>\n",
       "  </thead>\n",
       "  <tbody>\n",
       "    <tr>\n",
       "      <th>0</th>\n",
       "      <td>4.0</td>\n",
       "      <td>4.0</td>\n",
       "      <td>7.0</td>\n",
       "      <td>4.0</td>\n",
       "      <td>4.0</td>\n",
       "      <td>4.0</td>\n",
       "      <td>4.0</td>\n",
       "      <td>4.0</td>\n",
       "      <td>4.0</td>\n",
       "      <td>4.0</td>\n",
       "      <td>4.0</td>\n",
       "    </tr>\n",
       "    <tr>\n",
       "      <th>1</th>\n",
       "      <td>NaN</td>\n",
       "      <td>6.0</td>\n",
       "      <td>4.0</td>\n",
       "      <td>4.0</td>\n",
       "      <td>6.0</td>\n",
       "      <td>4.0</td>\n",
       "      <td>NaN</td>\n",
       "      <td>6.0</td>\n",
       "      <td>4.0</td>\n",
       "      <td>4.0</td>\n",
       "      <td>5.0</td>\n",
       "    </tr>\n",
       "    <tr>\n",
       "      <th>2</th>\n",
       "      <td>NaN</td>\n",
       "      <td>6.0</td>\n",
       "      <td>5.0</td>\n",
       "      <td>6.0</td>\n",
       "      <td>6.0</td>\n",
       "      <td>4.0</td>\n",
       "      <td>NaN</td>\n",
       "      <td>4.0</td>\n",
       "      <td>4.0</td>\n",
       "      <td>4.0</td>\n",
       "      <td>5.0</td>\n",
       "    </tr>\n",
       "    <tr>\n",
       "      <th>3</th>\n",
       "      <td>NaN</td>\n",
       "      <td>4.0</td>\n",
       "      <td>4.0</td>\n",
       "      <td>4.0</td>\n",
       "      <td>5.0</td>\n",
       "      <td>4.0</td>\n",
       "      <td>NaN</td>\n",
       "      <td>5.0</td>\n",
       "      <td>5.0</td>\n",
       "      <td>4.0</td>\n",
       "      <td>7.0</td>\n",
       "    </tr>\n",
       "    <tr>\n",
       "      <th>4</th>\n",
       "      <td>NaN</td>\n",
       "      <td>4.0</td>\n",
       "      <td>6.0</td>\n",
       "      <td>4.0</td>\n",
       "      <td>4.0</td>\n",
       "      <td>5.0</td>\n",
       "      <td>NaN</td>\n",
       "      <td>4.0</td>\n",
       "      <td>5.0</td>\n",
       "      <td>4.0</td>\n",
       "      <td>4.0</td>\n",
       "    </tr>\n",
       "  </tbody>\n",
       "</table>\n",
       "</div>"
      ],
      "text/plain": [
       "   Computer Science Theory  Software Systems  Foundations of Software  \\\n",
       "0                      4.0               4.0                      7.0   \n",
       "1                      NaN               6.0                      4.0   \n",
       "2                      NaN               6.0                      5.0   \n",
       "3                      NaN               4.0                      4.0   \n",
       "4                      NaN               4.0                      6.0   \n",
       "\n",
       "   Information Security - SP  Computer Engineering - SP  Data Analytics  \\\n",
       "0                        4.0                        4.0             4.0   \n",
       "1                        4.0                        6.0             4.0   \n",
       "2                        6.0                        6.0             4.0   \n",
       "3                        4.0                        5.0             4.0   \n",
       "4                        4.0                        4.0             5.0   \n",
       "\n",
       "   Internet Information Systems  Signals, Images and Interfaces  \\\n",
       "0                           4.0                             4.0   \n",
       "1                           NaN                             6.0   \n",
       "2                           NaN                             4.0   \n",
       "3                           NaN                             5.0   \n",
       "4                           NaN                             4.0   \n",
       "\n",
       "   Service science  Biocomputing  Internet computing  \n",
       "0              4.0           4.0                 4.0  \n",
       "1              4.0           4.0                 5.0  \n",
       "2              4.0           4.0                 5.0  \n",
       "3              5.0           4.0                 7.0  \n",
       "4              5.0           4.0                 4.0  "
      ]
     },
     "execution_count": 39,
     "metadata": {},
     "output_type": "execute_result"
    }
   ],
   "source": [
    "yearSpec.head()"
   ]
  },
  {
   "cell_type": "markdown",
   "metadata": {},
   "source": [
    "Now that we have separated the students in each specialization we can look at the mean number of semesters, and then do the t test to check if they are significant. We can already see that for most of the specializations there are not enough students to come to an appropriate conclusion."
   ]
  },
  {
   "cell_type": "code",
   "execution_count": 40,
   "metadata": {
    "collapsed": false
   },
   "outputs": [
    {
     "data": {
      "text/plain": [
       "Computer Science Theory           4.000000\n",
       "Software Systems                  4.473684\n",
       "Foundations of Software           4.884058\n",
       "Information Security - SP         4.285714\n",
       "Computer Engineering - SP         4.590909\n",
       "Data Analytics                    4.125000\n",
       "Internet Information Systems      4.000000\n",
       "Signals, Images and Interfaces    4.800000\n",
       "Service science                   4.400000\n",
       "Biocomputing                      4.166667\n",
       "Internet computing                4.666667\n",
       "dtype: float64"
      ]
     },
     "execution_count": 40,
     "metadata": {},
     "output_type": "execute_result"
    }
   ],
   "source": [
    "yearSpec.mean()"
   ]
  },
  {
   "cell_type": "markdown",
   "metadata": {},
   "source": [
    "Even without the t test we already see that the more samples a specialization has the higher the mean is, so it will be hard to make a correct conclusion. \n",
    "\n",
    "We use the listSemester variable containing the numbero of semesters for all students, that represents the mean of the population and we will do a one sample t-test to know if the students from one specialization are different from the population."
   ]
  },
  {
   "cell_type": "code",
   "execution_count": 42,
   "metadata": {
    "collapsed": false
   },
   "outputs": [
    {
     "name": "stderr",
     "output_type": "stream",
     "text": [
      "/Users/thomasvetterli/anaconda/lib/python3.5/site-packages/numpy/core/_methods.py:82: RuntimeWarning: Degrees of freedom <= 0 for slice\n",
      "  warnings.warn(\"Degrees of freedom <= 0 for slice\", RuntimeWarning)\n"
     ]
    }
   ],
   "source": [
    "import scipy.stats as stats\n",
    "\n",
    "#We go through each specialization and test in respect to each\n",
    "TTest = pd.DataFrame()\n",
    "\n",
    "for name in yearSpec:\n",
    "    t_result = []\n",
    "    t_test = stats.ttest_1samp(a= yearSpec[name].dropna().values,\n",
    "                                 popmean=listSemester.mean()) \n",
    "                          \n",
    "    t_result.append(t_test[1]) \n",
    "     \n",
    "    TTest[name]=np.asarray(t_result).astype(np.float)      "
   ]
  },
  {
   "cell_type": "markdown",
   "metadata": {},
   "source": [
    "We choost a 5% p value and will check which specialization have a mean differene which is significant.\n",
    "\n",
    "In the next table we show which combinations are significant. We can see that not a lot of differences in distribution are significant."
   ]
  },
  {
   "cell_type": "code",
   "execution_count": 44,
   "metadata": {
    "collapsed": false
   },
   "outputs": [
    {
     "data": {
      "text/html": [
       "<div>\n",
       "<table border=\"1\" class=\"dataframe\">\n",
       "  <thead>\n",
       "    <tr style=\"text-align: right;\">\n",
       "      <th></th>\n",
       "      <th>Computer Science Theory</th>\n",
       "      <th>Software Systems</th>\n",
       "      <th>Foundations of Software</th>\n",
       "      <th>Information Security - SP</th>\n",
       "      <th>Computer Engineering - SP</th>\n",
       "      <th>Data Analytics</th>\n",
       "      <th>Internet Information Systems</th>\n",
       "      <th>Signals, Images and Interfaces</th>\n",
       "      <th>Service science</th>\n",
       "      <th>Biocomputing</th>\n",
       "      <th>Internet computing</th>\n",
       "    </tr>\n",
       "  </thead>\n",
       "  <tbody>\n",
       "    <tr>\n",
       "      <th>0</th>\n",
       "      <td>NaN</td>\n",
       "      <td>NaN</td>\n",
       "      <td>0.006137</td>\n",
       "      <td>NaN</td>\n",
       "      <td>NaN</td>\n",
       "      <td>0.009555</td>\n",
       "      <td>NaN</td>\n",
       "      <td>NaN</td>\n",
       "      <td>NaN</td>\n",
       "      <td>0.004475</td>\n",
       "      <td>NaN</td>\n",
       "    </tr>\n",
       "  </tbody>\n",
       "</table>\n",
       "</div>"
      ],
      "text/plain": [
       "   Computer Science Theory  Software Systems  Foundations of Software  \\\n",
       "0                      NaN               NaN                 0.006137   \n",
       "\n",
       "   Information Security - SP  Computer Engineering - SP  Data Analytics  \\\n",
       "0                        NaN                        NaN        0.009555   \n",
       "\n",
       "   Internet Information Systems  Signals, Images and Interfaces  \\\n",
       "0                           NaN                             NaN   \n",
       "\n",
       "   Service science  Biocomputing  Internet computing  \n",
       "0              NaN      0.004475                 NaN  "
      ]
     },
     "execution_count": 44,
     "metadata": {},
     "output_type": "execute_result"
    }
   ],
   "source": [
    "signif = TTest[TTest<0.05]\n",
    "signif"
   ]
  },
  {
   "cell_type": "markdown",
   "metadata": {},
   "source": [
    "We see that only Foundations of Software, Biocomputing and Data Analytics specialisation have an average that is statistically signficant."
   ]
  },
  {
   "cell_type": "code",
   "execution_count": 45,
   "metadata": {
    "collapsed": false
   },
   "outputs": [
    {
     "name": "stdout",
     "output_type": "stream",
     "text": [
      "Specialization :  Computer Science Theory -- Number of students : 1\n",
      "Specialization :  Software Systems -- Number of students : 19\n",
      "Specialization :  Foundations of Software -- Number of students : 69\n",
      "Specialization :  Information Security - SP -- Number of students : 7\n",
      "Specialization :  Computer Engineering - SP -- Number of students : 22\n",
      "Specialization :  Data Analytics -- Number of students : 8\n",
      "Specialization :  Internet Information Systems -- Number of students : 1\n",
      "Specialization :  Signals, Images and Interfaces -- Number of students : 40\n",
      "Specialization :  Service science -- Number of students : 5\n",
      "Specialization :  Biocomputing -- Number of students : 12\n",
      "Specialization :  Internet computing -- Number of students : 108\n"
     ]
    }
   ],
   "source": [
    "for name in yearSpec:\n",
    "    numberObs = yearSpec[name].notnull().sum()\n",
    "    print('Specialization : ', name, '-- Number of students :', numberObs)"
   ]
  },
  {
   "cell_type": "markdown",
   "metadata": {},
   "source": [
    "We see that for Data Analytics and Biocomputing there are not a lot of students, sot we do not trust the 1 sample t-test. \n",
    "\n",
    "But for the foundations of software students, as a lot of them are signed up we can trust that the difference is significant. Let's look at the actual difference to see if it is larger or smaller."
   ]
  },
  {
   "cell_type": "code",
   "execution_count": 48,
   "metadata": {
    "collapsed": false
   },
   "outputs": [
    {
     "name": "stdout",
     "output_type": "stream",
     "text": [
      "Mean number of semester :  4.56666666667\n",
      "Mean number of semester for Foundations of Soft Students : 4.884057971014493\n"
     ]
    }
   ],
   "source": [
    "print('Mean number of semester : ', np.mean(listSemester))\n",
    "print('Mean number of semester for Foundations of Soft Students :',\n",
    "      yearSpec['Foundations of Software'].mean())"
   ]
  },
  {
   "cell_type": "markdown",
   "metadata": {},
   "source": [
    "So we can see that on average they take 0.2 semesters longer!\n",
    "\n",
    "## Bonus question\n",
    "\n",
    "Firstly, seeing the very small numbers of girls that are signed up to the masters in Informatics it will be hard to compute over time if the value changes. We will start by doing a general comparison as we did in bachelor."
   ]
  },
  {
   "cell_type": "code",
   "execution_count": 50,
   "metadata": {
    "collapsed": false
   },
   "outputs": [],
   "source": [
    "groupCiv = masterStudents.groupby('Civilité')\n",
    "men = groupCiv.get_group('Monsieur')\n",
    "women = groupCiv.get_group('Madame')"
   ]
  },
  {
   "cell_type": "markdown",
   "metadata": {},
   "source": [
    "As before we will loop through all of the students to compute their average number of years."
   ]
  },
  {
   "cell_type": "code",
   "execution_count": 51,
   "metadata": {
    "collapsed": true
   },
   "outputs": [],
   "source": [
    "menGroup = men.groupby('Nom Prénom')\n",
    "womenGroup = women.groupby('Nom Prénom')\n",
    "\n",
    "menSem = []\n",
    "womenSem = []\n",
    "\n",
    "for name in menGroup.groups:\n",
    "    guy = menGroup.get_group(name)\n",
    "    numberYear = check_student(guy)\n",
    "    menSem.append(numberYear)\n",
    "    \n",
    "for name in womenGroup.groups:\n",
    "    girl = womenGroup.get_group(name)\n",
    "    nyear = check_student(girl)\n",
    "    womenSem.append(nyear)\n",
    "\n",
    "menSem = np.asarray(menSem).astype(np.float)\n",
    "womenSem= np.asarray(womenSem).astype(np.float)"
   ]
  },
  {
   "cell_type": "markdown",
   "metadata": {},
   "source": [
    "Now that we have the number of years for men and women we can test if they are statistically significant. \n",
    "\n",
    "We use a 2 sample t test, and we assume that the variance is equal"
   ]
  },
  {
   "cell_type": "code",
   "execution_count": 58,
   "metadata": {
    "collapsed": false
   },
   "outputs": [
    {
     "name": "stdout",
     "output_type": "stream",
     "text": [
      "Ttest_indResult(statistic=0.0027122023582316175, pvalue=0.99783662376363136)\n",
      "Women Mean : 4.56637168142\n",
      "Men Mean : 4.56671251719\n"
     ]
    }
   ],
   "source": [
    "print(stats.ttest_ind(a=menSem,b=womenSem))\n",
    "print('Women Mean :',womenSem.mean())\n",
    "print('Men Mean :', menSem.mean())"
   ]
  },
  {
   "cell_type": "markdown",
   "metadata": {},
   "source": [
    "As expected by looking at the means, there is no difference between the number of semesters that a woman or a man has to do to do the masters."
   ]
  },
  {
   "cell_type": "code",
   "execution_count": 59,
   "metadata": {
    "collapsed": false
   },
   "outputs": [
    {
     "data": {
      "text/plain": [
       "<matplotlib.text.Text at 0x11779d978>"
      ]
     },
     "execution_count": 59,
     "metadata": {},
     "output_type": "execute_result"
    },
    {
     "data": {
      "image/png": "[encoded data removed]",
      "text/plain": [
       "<matplotlib.figure.Figure at 0x11757b4e0>"
      ]
     },
     "metadata": {},
     "output_type": "display_data"
    }
   ],
   "source": [
    "plt.subplot(2,1,1)\n",
    "plt.hist(menSem)\n",
    "plt.title('Number of semesters for men')\n",
    "\n",
    "plt.subplot(2,1,2)\n",
    "plt.hist(womenSem)\n",
    "plt.title('Number of semesters for women')\n"
   ]
  },
  {
   "cell_type": "markdown",
   "metadata": {},
   "source": [
    "As expected the histograms are nearly the same!\n",
    "\n",
    "The analysis of the difference over time will take us too much time so we will not do it"
   ]
  },
  {
   "cell_type": "code",
   "execution_count": null,
   "metadata": {
    "collapsed": true
   },
   "outputs": [],
   "source": []
  }
 ],
 "metadata": {
  "anaconda-cloud": {},
  "kernelspec": {
   "display_name": "Python [Root]",
   "language": "python",
   "name": "Python [Root]"
  },
  "language_info": {
   "codemirror_mode": {
    "name": "ipython",
    "version": 3
   },
   "file_extension": ".py",
   "mimetype": "text/x-python",
   "name": "python",
   "nbconvert_exporter": "python",
   "pygments_lexer": "ipython3",
   "version": "3.5.2"
  }
 },
 "nbformat": 4,
 "nbformat_minor": 0
}
