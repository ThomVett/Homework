{
 "cells": [
  {
   "cell_type": "markdown",
   "metadata": {
    "collapsed": true
   },
   "source": [
    "In this notebook we will guide you through our solution for the second homework of ADA.\n",
    "\n",
    "# 1 Requests"
   ]
  },
  {
   "cell_type": "code",
   "execution_count": 64,
   "metadata": {
    "collapsed": false
   },
   "outputs": [],
   "source": [
    "import requests\n",
    "URL = 'http://isa.epfl.ch/imoniteur_ISAP/\\\n",
    "%21gedpublicreports.htm?ww_i_reportmodel=133685247'\n",
    "r = requests.get('http://isa.epfl.ch/imoniteur_ISAP/\\\n",
    "%21gedpublicreports.htm?ww_i_reportmodel=133685247')\n",
    "#print('Status Code',r.status_code)\n",
    "#print('Headers',r.headers['Expires'])\n",
    "#print('encoding',r.encoding)\n",
    "#print('Text',r.text)\n",
    "#print('URL',r.url)\n",
    "#print('content',r.content)\n",
    "#print('Raw',r.raw)"
   ]
  },
  {
   "cell_type": "markdown",
   "metadata": {},
   "source": [
    "# 2 Beautiful Soup"
   ]
  },
  {
   "cell_type": "code",
   "execution_count": 65,
   "metadata": {
    "collapsed": false
   },
   "outputs": [],
   "source": [
    "from bs4 import BeautifulSoup \n",
    "soup = BeautifulSoup(r.content,'lxml')\n",
    "#soup"
   ]
  },
  {
   "cell_type": "code",
   "execution_count": 3,
   "metadata": {
    "collapsed": false
   },
   "outputs": [
    {
     "data": {
      "text/plain": [
       "bs4.element.Tag"
      ]
     },
     "execution_count": 3,
     "metadata": {},
     "output_type": "execute_result"
    }
   ],
   "source": [
    "tag = soup.script\n",
    "type(tag)"
   ]
  },
  {
   "cell_type": "code",
   "execution_count": 4,
   "metadata": {
    "collapsed": false
   },
   "outputs": [
    {
     "data": {
      "text/plain": [
       "<script src=\"gedpublicreports.txt?ww_x_path=Eqnx.Ajax.X.core\" type=\"text/javascript\"></script>"
      ]
     },
     "execution_count": 4,
     "metadata": {},
     "output_type": "execute_result"
    }
   ],
   "source": [
    "tag"
   ]
  },
  {
   "cell_type": "code",
   "execution_count": 5,
   "metadata": {
    "collapsed": false
   },
   "outputs": [
    {
     "name": "stdout",
     "output_type": "stream",
     "text": [
      "gedpublicreports.txt?ww_x_path=Eqnx.Ajax.X.core\n",
      "gedpublicreports.txt?ww_x_path=Eqnx.Ajax.X.drag\n",
      "gedpublicreports.txt?ww_x_path=Eqnx.Ajax.X.event\n",
      "gedpublicreports.txt?ww_x_path=Eqnx.Ajax.X.dom\n",
      "gedpublicreports.txt?ww_x_path=Eqnx.Ajax.ewnet.namespace\n",
      "gedpublicreports.txt?ww_x_path=Eqnx.Ajax.ewnet.core\n",
      "gedpublicreports.txt?ww_x_path=Eqnx.Ajax.ewnet.uctrl\n",
      "gedpublicreports.txt?ww_x_path=Eqnx.Ajax.ewnet.ucore\n",
      "gedpublicreports.txt?ww_x_path=Eqnx.Ajax.ewnet.ctrl\n",
      "gedpublicreports.txt?ww_x_path=Eqnx.Ajax.ewnet.autocomplete\n",
      "gedpublicreports.txt?ww_x_path=Eqnx.Ajax.ewnet.toc\n",
      "gedpublicreports.txt?ww_x_path=Eqnx.Ajax.ewnet.ruban\n",
      "gedpublicreports.txt?ww_x_path=Eqnx.Ajax.ewnet.info\n"
     ]
    }
   ],
   "source": [
    "for scr in soup.find_all('script'):\n",
    "    print(scr['src'])"
   ]
  },
  {
   "cell_type": "code",
   "execution_count": 56,
   "metadata": {
    "collapsed": false
   },
   "outputs": [],
   "source": [
    "from urllib.request import urlopen\n",
    "\n",
    "htm = urlopen('http://isa.epfl.ch/imoniteur_ISAP/%21\\\n",
    "gedpublicreports.htm?ww_i_reportmodel=133685247')\n",
    "\n",
    "soup_htm=BeautifulSoup(htm,'lxml')"
   ]
  },
  {
   "cell_type": "code",
   "execution_count": 46,
   "metadata": {
    "collapsed": false
   },
   "outputs": [],
   "source": [
    "soup.frameset.frame"
   ]
  },
  {
   "cell_type": "code",
   "execution_count": 124,
   "metadata": {
    "collapsed": false
   },
   "outputs": [
    {
     "name": "stdout",
     "output_type": "stream",
     "text": [
      "1\n",
      "2\n",
      "3\n"
     ]
    },
    {
     "data": {
      "text/plain": [
       "[<frame name=\"entete\" noresize=\"\" scrolling=\"no\" src=\"!GEDPUBLICREPORTS.entete?ww_i_reportModel=133685247\"/>,\n",
       " <frame name=\"toc\" src=\"!GEDPUBLICREPORTS.filter?ww_i_reportModel=133685247\"/>,\n",
       " <frame name=\"principal\" src=\"GEDPUBLICREPORTS.empty\"/>]"
      ]
     },
     "execution_count": 124,
     "metadata": {},
     "output_type": "execute_result"
    }
   ],
   "source": [
    "r = s.get(URL)\n",
    "Soup_1 = BeautifulSoup(r.content,'lxml')\n",
    "frames = []\n",
    "i = 1\n",
    "for f in soup.frameset.find_all('frame'):\n",
    "    frames.append(f)\n",
    "    print(i)\n",
    "    i+=1\n",
    "req_url = 'http://isa.epfl.ch/imoniteur_ISAP/' + frames[1]['src']\n",
    "r_tot = requests.get(req_url)\n",
    "Soup_tot = BeautifulSoup(r_tot.content,'lxml')\n",
    "frames"
   ]
  },
  {
   "cell_type": "code",
   "execution_count": 26,
   "metadata": {
    "collapsed": false
   },
   "outputs": [
    {
     "data": {
      "text/plain": [
       "{'name': 'entete',\n",
       " 'noresize': '',\n",
       " 'scrolling': 'no',\n",
       " 'src': '!GEDPUBLICREPORTS.entete?ww_i_reportModel=133685247'}"
      ]
     },
     "execution_count": 26,
     "metadata": {},
     "output_type": "execute_result"
    }
   ],
   "source": [
    "iframe.attrs"
   ]
  },
  {
   "cell_type": "code",
   "execution_count": 31,
   "metadata": {
    "collapsed": false
   },
   "outputs": [
    {
     "data": {
      "text/plain": [
       "<frame name=\"toc\" src=\"!GEDPUBLICREPORTS.filter?ww_i_reportModel=133685247\"/>"
      ]
     },
     "execution_count": 31,
     "metadata": {},
     "output_type": "execute_result"
    }
   ],
   "source": [
    "soup.frame.extract()"
   ]
  },
  {
   "cell_type": "code",
   "execution_count": 32,
   "metadata": {
    "collapsed": true
   },
   "outputs": [],
   "source": [
    "import urllib"
   ]
  },
  {
   "cell_type": "code",
   "execution_count": 114,
   "metadata": {
    "collapsed": false
   },
   "outputs": [
    {
     "data": {
      "text/plain": [
       "'!GEDPUBLICREPORTS.filter?ww_i_reportModel=133685247'"
      ]
     },
     "execution_count": 114,
     "metadata": {},
     "output_type": "execute_result"
    }
   ],
   "source": [
    "frames[1]['src']"
   ]
  },
  {
   "cell_type": "code",
   "execution_count": 119,
   "metadata": {
    "collapsed": false
   },
   "outputs": [
    {
     "name": "stdout",
     "output_type": "stream",
     "text": [
      "https://isa.epfl.ch/imoniteur_ISAP/isacademia.htm?!GEDPUBLICREPORTS.filter%253fww_i_reportModel=133685247\n"
     ]
    }
   ],
   "source": [
    "test_URL = requests.get('http://isa.epfl.ch/imoniteur_ISAP/',params = frames[1]['src'])\n",
    "print(test_URL.url)"
   ]
  },
  {
   "cell_type": "code",
   "execution_count": 122,
   "metadata": {
    "collapsed": false
   },
   "outputs": [
    {
     "data": {
      "text/plain": [
       "'http://isa.epfl.ch/imoniteur_ISAP/!GEDPUBLICREPORTS.filter?ww_i_reportModel=133685247'"
      ]
     },
     "execution_count": 122,
     "metadata": {},
     "output_type": "execute_result"
    }
   ],
   "source": [
    "URL_2 = 'http://isa.epfl.ch/imoniteur_ISAP/' + frames[1]['src']\n",
    "URL_2"
   ]
  },
  {
   "cell_type": "code",
   "execution_count": null,
   "metadata": {
    "collapsed": true
   },
   "outputs": [],
   "source": []
  }
 ],
 "metadata": {
  "anaconda-cloud": {},
  "kernelspec": {
   "display_name": "Python [Root]",
   "language": "python",
   "name": "Python [Root]"
  },
  "language_info": {
   "codemirror_mode": {
    "name": "ipython",
    "version": 3
   },
   "file_extension": ".py",
   "mimetype": "text/x-python",
   "name": "python",
   "nbconvert_exporter": "python",
   "pygments_lexer": "ipython3",
   "version": "3.5.2"
  }
 },
 "nbformat": 4,
 "nbformat_minor": 0
}
