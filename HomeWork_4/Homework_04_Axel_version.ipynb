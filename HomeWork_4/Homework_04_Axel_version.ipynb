{
 "cells": [
  {
   "cell_type": "markdown",
   "metadata": {},
   "source": [
    "# Homewor 4 - Applied Machine Learning\n",
    "\n",
    "In this notebook we will present our solution for the 4<sup>th</sup> homework of ADA.\n",
    "\n",
    "We begin by importing the important librairies."
   ]
  },
  {
   "cell_type": "code",
   "execution_count": 1,
   "metadata": {
    "collapsed": true
   },
   "outputs": [],
   "source": [
    "import pandas as pd                                    \n",
    "import numpy as np \n",
    "import myFunction # the function has been defined by us. See myFunction.py\n",
    "import seaborn as sns\n",
    "%matplotlib inline"
   ]
  },
  {
   "cell_type": "markdown",
   "metadata": {},
   "source": [
    "The first step we do is importing the data and taking a look at it."
   ]
  },
  {
   "cell_type": "code",
   "execution_count": 15,
   "metadata": {
    "collapsed": false
   },
   "outputs": [
    {
     "data": {
      "text/html": [
       "<div>\n",
       "<table border=\"1\" class=\"dataframe\">\n",
       "  <thead>\n",
       "    <tr style=\"text-align: right;\">\n",
       "      <th></th>\n",
       "      <th>playerShort</th>\n",
       "      <th>player</th>\n",
       "      <th>club</th>\n",
       "      <th>leagueCountry</th>\n",
       "      <th>birthday</th>\n",
       "      <th>height</th>\n",
       "      <th>weight</th>\n",
       "      <th>position</th>\n",
       "      <th>games</th>\n",
       "      <th>victories</th>\n",
       "      <th>ties</th>\n",
       "      <th>defeats</th>\n",
       "      <th>goals</th>\n",
       "    </tr>\n",
       "  </thead>\n",
       "  <tbody>\n",
       "    <tr>\n",
       "      <th>0</th>\n",
       "      <td>lucas-wilchez</td>\n",
       "      <td>Lucas Wilchez</td>\n",
       "      <td>Real Zaragoza</td>\n",
       "      <td>Spain</td>\n",
       "      <td>31.08.1983</td>\n",
       "      <td>177.0</td>\n",
       "      <td>72.0</td>\n",
       "      <td>Attacking Midfielder</td>\n",
       "      <td>1</td>\n",
       "      <td>0</td>\n",
       "      <td>0</td>\n",
       "      <td>1</td>\n",
       "      <td>0</td>\n",
       "    </tr>\n",
       "    <tr>\n",
       "      <th>1</th>\n",
       "      <td>john-utaka</td>\n",
       "      <td>John Utaka</td>\n",
       "      <td>Montpellier HSC</td>\n",
       "      <td>France</td>\n",
       "      <td>08.01.1982</td>\n",
       "      <td>179.0</td>\n",
       "      <td>82.0</td>\n",
       "      <td>Right Winger</td>\n",
       "      <td>1</td>\n",
       "      <td>0</td>\n",
       "      <td>0</td>\n",
       "      <td>1</td>\n",
       "      <td>0</td>\n",
       "    </tr>\n",
       "    <tr>\n",
       "      <th>2</th>\n",
       "      <td>abdon-prats</td>\n",
       "      <td>Abdón Prats</td>\n",
       "      <td>RCD Mallorca</td>\n",
       "      <td>Spain</td>\n",
       "      <td>17.12.1992</td>\n",
       "      <td>181.0</td>\n",
       "      <td>79.0</td>\n",
       "      <td>NaN</td>\n",
       "      <td>1</td>\n",
       "      <td>0</td>\n",
       "      <td>1</td>\n",
       "      <td>0</td>\n",
       "      <td>0</td>\n",
       "    </tr>\n",
       "    <tr>\n",
       "      <th>3</th>\n",
       "      <td>pablo-mari</td>\n",
       "      <td>Pablo Marí</td>\n",
       "      <td>RCD Mallorca</td>\n",
       "      <td>Spain</td>\n",
       "      <td>31.08.1993</td>\n",
       "      <td>191.0</td>\n",
       "      <td>87.0</td>\n",
       "      <td>Center Back</td>\n",
       "      <td>1</td>\n",
       "      <td>1</td>\n",
       "      <td>0</td>\n",
       "      <td>0</td>\n",
       "      <td>0</td>\n",
       "    </tr>\n",
       "    <tr>\n",
       "      <th>4</th>\n",
       "      <td>ruben-pena</td>\n",
       "      <td>Rubén Peña</td>\n",
       "      <td>Real Valladolid</td>\n",
       "      <td>Spain</td>\n",
       "      <td>18.07.1991</td>\n",
       "      <td>172.0</td>\n",
       "      <td>70.0</td>\n",
       "      <td>Right Midfielder</td>\n",
       "      <td>1</td>\n",
       "      <td>1</td>\n",
       "      <td>0</td>\n",
       "      <td>0</td>\n",
       "      <td>0</td>\n",
       "    </tr>\n",
       "    <tr>\n",
       "      <th>5</th>\n",
       "      <td>aaron-hughes</td>\n",
       "      <td>Aaron Hughes</td>\n",
       "      <td>Fulham FC</td>\n",
       "      <td>England</td>\n",
       "      <td>08.11.1979</td>\n",
       "      <td>182.0</td>\n",
       "      <td>71.0</td>\n",
       "      <td>Center Back</td>\n",
       "      <td>1</td>\n",
       "      <td>0</td>\n",
       "      <td>0</td>\n",
       "      <td>1</td>\n",
       "      <td>0</td>\n",
       "    </tr>\n",
       "  </tbody>\n",
       "</table>\n",
       "</div>"
      ],
      "text/plain": [
       "     playerShort         player             club leagueCountry    birthday  \\\n",
       "0  lucas-wilchez  Lucas Wilchez    Real Zaragoza         Spain  31.08.1983   \n",
       "1     john-utaka     John Utaka  Montpellier HSC        France  08.01.1982   \n",
       "2    abdon-prats    Abdón Prats     RCD Mallorca         Spain  17.12.1992   \n",
       "3     pablo-mari     Pablo Marí     RCD Mallorca         Spain  31.08.1993   \n",
       "4     ruben-pena     Rubén Peña  Real Valladolid         Spain  18.07.1991   \n",
       "5   aaron-hughes   Aaron Hughes        Fulham FC       England  08.11.1979   \n",
       "\n",
       "   height  weight              position  games  victories  ties  defeats  \\\n",
       "0   177.0    72.0  Attacking Midfielder      1          0     0        1   \n",
       "1   179.0    82.0          Right Winger      1          0     0        1   \n",
       "2   181.0    79.0                   NaN      1          0     1        0   \n",
       "3   191.0    87.0           Center Back      1          1     0        0   \n",
       "4   172.0    70.0      Right Midfielder      1          1     0        0   \n",
       "5   182.0    71.0           Center Back      1          0     0        1   \n",
       "\n",
       "   goals  \n",
       "0      0  \n",
       "1      0  \n",
       "2      0  \n",
       "3      0  \n",
       "4      0  \n",
       "5      0  "
      ]
     },
     "execution_count": 15,
     "metadata": {},
     "output_type": "execute_result"
    }
   ],
   "source": [
    "data = pd.read_csv('CrowdstormingDataJuly1st.csv')\n",
    "data.ix[:5,:13]"
   ]
  },
  {
   "cell_type": "code",
   "execution_count": 16,
   "metadata": {
    "collapsed": false
   },
   "outputs": [
    {
     "data": {
      "text/html": [
       "<div>\n",
       "<table border=\"1\" class=\"dataframe\">\n",
       "  <thead>\n",
       "    <tr style=\"text-align: right;\">\n",
       "      <th></th>\n",
       "      <th>yellowCards</th>\n",
       "      <th>yellowReds</th>\n",
       "      <th>redCards</th>\n",
       "      <th>photoID</th>\n",
       "      <th>rater1</th>\n",
       "      <th>rater2</th>\n",
       "      <th>refNum</th>\n",
       "      <th>refCountry</th>\n",
       "      <th>Alpha_3</th>\n",
       "      <th>meanIAT</th>\n",
       "      <th>nIAT</th>\n",
       "      <th>seIAT</th>\n",
       "      <th>meanExp</th>\n",
       "      <th>nExp</th>\n",
       "      <th>seExp</th>\n",
       "    </tr>\n",
       "  </thead>\n",
       "  <tbody>\n",
       "    <tr>\n",
       "      <th>0</th>\n",
       "      <td>0</td>\n",
       "      <td>0</td>\n",
       "      <td>0</td>\n",
       "      <td>95212.jpg</td>\n",
       "      <td>0.25</td>\n",
       "      <td>0.50</td>\n",
       "      <td>1</td>\n",
       "      <td>1</td>\n",
       "      <td>GRC</td>\n",
       "      <td>0.326391</td>\n",
       "      <td>712.0</td>\n",
       "      <td>0.000564</td>\n",
       "      <td>0.396000</td>\n",
       "      <td>750.0</td>\n",
       "      <td>0.002696</td>\n",
       "    </tr>\n",
       "    <tr>\n",
       "      <th>1</th>\n",
       "      <td>1</td>\n",
       "      <td>0</td>\n",
       "      <td>0</td>\n",
       "      <td>1663.jpg</td>\n",
       "      <td>0.75</td>\n",
       "      <td>0.75</td>\n",
       "      <td>2</td>\n",
       "      <td>2</td>\n",
       "      <td>ZMB</td>\n",
       "      <td>0.203375</td>\n",
       "      <td>40.0</td>\n",
       "      <td>0.010875</td>\n",
       "      <td>-0.204082</td>\n",
       "      <td>49.0</td>\n",
       "      <td>0.061504</td>\n",
       "    </tr>\n",
       "    <tr>\n",
       "      <th>2</th>\n",
       "      <td>1</td>\n",
       "      <td>0</td>\n",
       "      <td>0</td>\n",
       "      <td>NaN</td>\n",
       "      <td>NaN</td>\n",
       "      <td>NaN</td>\n",
       "      <td>3</td>\n",
       "      <td>3</td>\n",
       "      <td>ESP</td>\n",
       "      <td>0.369894</td>\n",
       "      <td>1785.0</td>\n",
       "      <td>0.000229</td>\n",
       "      <td>0.588297</td>\n",
       "      <td>1897.0</td>\n",
       "      <td>0.001002</td>\n",
       "    </tr>\n",
       "    <tr>\n",
       "      <th>3</th>\n",
       "      <td>0</td>\n",
       "      <td>0</td>\n",
       "      <td>0</td>\n",
       "      <td>NaN</td>\n",
       "      <td>NaN</td>\n",
       "      <td>NaN</td>\n",
       "      <td>3</td>\n",
       "      <td>3</td>\n",
       "      <td>ESP</td>\n",
       "      <td>0.369894</td>\n",
       "      <td>1785.0</td>\n",
       "      <td>0.000229</td>\n",
       "      <td>0.588297</td>\n",
       "      <td>1897.0</td>\n",
       "      <td>0.001002</td>\n",
       "    </tr>\n",
       "    <tr>\n",
       "      <th>4</th>\n",
       "      <td>0</td>\n",
       "      <td>0</td>\n",
       "      <td>0</td>\n",
       "      <td>NaN</td>\n",
       "      <td>NaN</td>\n",
       "      <td>NaN</td>\n",
       "      <td>3</td>\n",
       "      <td>3</td>\n",
       "      <td>ESP</td>\n",
       "      <td>0.369894</td>\n",
       "      <td>1785.0</td>\n",
       "      <td>0.000229</td>\n",
       "      <td>0.588297</td>\n",
       "      <td>1897.0</td>\n",
       "      <td>0.001002</td>\n",
       "    </tr>\n",
       "    <tr>\n",
       "      <th>5</th>\n",
       "      <td>0</td>\n",
       "      <td>0</td>\n",
       "      <td>0</td>\n",
       "      <td>3868.jpg</td>\n",
       "      <td>0.25</td>\n",
       "      <td>0.00</td>\n",
       "      <td>4</td>\n",
       "      <td>4</td>\n",
       "      <td>LUX</td>\n",
       "      <td>0.325185</td>\n",
       "      <td>127.0</td>\n",
       "      <td>0.003297</td>\n",
       "      <td>0.538462</td>\n",
       "      <td>130.0</td>\n",
       "      <td>0.013752</td>\n",
       "    </tr>\n",
       "  </tbody>\n",
       "</table>\n",
       "</div>"
      ],
      "text/plain": [
       "   yellowCards  yellowReds  redCards    photoID  rater1  rater2  refNum  \\\n",
       "0            0           0         0  95212.jpg    0.25    0.50       1   \n",
       "1            1           0         0   1663.jpg    0.75    0.75       2   \n",
       "2            1           0         0        NaN     NaN     NaN       3   \n",
       "3            0           0         0        NaN     NaN     NaN       3   \n",
       "4            0           0         0        NaN     NaN     NaN       3   \n",
       "5            0           0         0   3868.jpg    0.25    0.00       4   \n",
       "\n",
       "   refCountry Alpha_3   meanIAT    nIAT     seIAT   meanExp    nExp     seExp  \n",
       "0           1     GRC  0.326391   712.0  0.000564  0.396000   750.0  0.002696  \n",
       "1           2     ZMB  0.203375    40.0  0.010875 -0.204082    49.0  0.061504  \n",
       "2           3     ESP  0.369894  1785.0  0.000229  0.588297  1897.0  0.001002  \n",
       "3           3     ESP  0.369894  1785.0  0.000229  0.588297  1897.0  0.001002  \n",
       "4           3     ESP  0.369894  1785.0  0.000229  0.588297  1897.0  0.001002  \n",
       "5           4     LUX  0.325185   127.0  0.003297  0.538462   130.0  0.013752  "
      ]
     },
     "execution_count": 16,
     "metadata": {},
     "output_type": "execute_result"
    }
   ],
   "source": [
    "data.ix[:5,13:28]"
   ]
  },
  {
   "cell_type": "markdown",
   "metadata": {},
   "source": [
    "#### Data Cleaning\n",
    "\n",
    "We will start by cleaning the data in several steps. The first computation we do is extracting the rater information. As we saw, the raters disagree often. We decide not to discard values where the raters disagree, but to average the rating given by the two raters. But this does not take into account the Nana values in the rating so it's a complete description of the disagreement."
   ]
  },
  {
   "cell_type": "code",
   "execution_count": 58,
   "metadata": {
    "collapsed": false
   },
   "outputs": [
    {
     "name": "stdout",
     "output_type": "stream",
     "text": [
      "Number of cases where the two raters agree : 65.5449639795  %\n"
     ]
    }
   ],
   "source": [
    "print('Number of cases where the two raters agree :',\n",
    "      (data.rater1 == data.rater2).sum()/len(data)*100, ' %')"
   ]
  },
  {
   "cell_type": "markdown",
   "metadata": {},
   "source": [
    "Now we will compute the new column for the average rating."
   ]
  },
  {
   "cell_type": "code",
   "execution_count": 59,
   "metadata": {
    "collapsed": false
   },
   "outputs": [],
   "source": [
    "data_clean0 = data.copy()\n",
    "data_clean0['meanRating'] = (data.rater1.values + data.rater2.values)/2"
   ]
  },
  {
   "cell_type": "markdown",
   "metadata": {},
   "source": [
    "As shown in a previous analysis from this [notebook](http://nbviewer.jupyter.org/github/mathewzilla/redcard/blob/master/Crowdstorming_visualisation.ipynb) it was shown that there is a problem regarding data coming from other leagues than the four of interest. For each player there are his games during his entire career, not only the games in the four leagues where the data comes from.\n",
    "\n",
    "To keep only the main games, we keep referee-dyad players that are present more than 22 times (if a referee officiated 1 matches in a league, he will be present 22 times or more, as there are 22 players in a match).\n",
    "\n",
    "As we plan to aggregate the data per player, we find that our data will be skewed if we include matches coming from other countries, we will therefore remove them."
   ]
  },
  {
   "cell_type": "code",
   "execution_count": 60,
   "metadata": {
    "collapsed": true
   },
   "outputs": [],
   "source": [
    "refs = data_clean0.refNum.value_counts()\n",
    "\n",
    "#We pick only the lines where the referee was more than 22 times.\n",
    "goodRefs = refs[refs>21]\n",
    "\n",
    "data_clean0 = data_clean0[data_clean0.refNum.isin(goodRefs.index.values)] "
   ]
  },
  {
   "cell_type": "markdown",
   "metadata": {},
   "source": [
    "Then, we remove columns that are not relevant (They are not part of the player description or will not be usefull for classification) for the training data and also remove each row where there is no ratings, which means rows where there is no photo ID available, which also means that there is not rater information. These rows are not useful for classification.\n",
    "\n",
    "We remove these columns:\n",
    "- photoID\n",
    "- rater1\n",
    "- rater2\n",
    "- playerShort\n",
    "- birthday\n",
    "- refNum\n",
    "- refCountrs "
   ]
  },
  {
   "cell_type": "code",
   "execution_count": 80,
   "metadata": {
    "collapsed": true
   },
   "outputs": [],
   "source": [
    "data_clean1 = data_clean0.dropna(subset=['photoID'])\n",
    "data_clean2 = data_clean1.drop(['photoID', 'rater1',\n",
    "                                'rater2', 'playerShort', 'birthday',\n",
    "                                'refNum', 'refCountry' ],1)"
   ]
  },
  {
   "cell_type": "markdown",
   "metadata": {},
   "source": [
    "We will also deal with data types. First we take a look at the type of each column."
   ]
  },
  {
   "cell_type": "code",
   "execution_count": 81,
   "metadata": {
    "collapsed": false
   },
   "outputs": [
    {
     "data": {
      "text/plain": [
       "player            object\n",
       "club              object\n",
       "leagueCountry     object\n",
       "height           float64\n",
       "weight           float64\n",
       "position          object\n",
       "games              int64\n",
       "victories          int64\n",
       "ties               int64\n",
       "defeats            int64\n",
       "goals              int64\n",
       "yellowCards        int64\n",
       "yellowReds         int64\n",
       "redCards           int64\n",
       "Alpha_3           object\n",
       "meanIAT          float64\n",
       "nIAT             float64\n",
       "seIAT            float64\n",
       "meanExp          float64\n",
       "nExp             float64\n",
       "seExp            float64\n",
       "meanRating       float64\n",
       "dtype: object"
      ]
     },
     "execution_count": 81,
     "metadata": {},
     "output_type": "execute_result"
    }
   ],
   "source": [
    "data_clean2.dtypes"
   ]
  },
  {
   "cell_type": "markdown",
   "metadata": {},
   "source": [
    "As we can see, a lot of these columns are of object type. This is a problem because learning algorithms are unable to deal with categorical data. We designed a way to deal with this problem and will show our processing pipeline below.\n",
    "\n",
    "We begin by changing the null value present in the datatypes below to Unknown"
   ]
  },
  {
   "cell_type": "code",
   "execution_count": 82,
   "metadata": {
    "collapsed": true
   },
   "outputs": [],
   "source": [
    "data_clean2.position.fillna(\"Unknown\",inplace=True)\n",
    "data_clean2.Alpha_3.fillna(\"Unknown\",inplace=True)"
   ]
  },
  {
   "cell_type": "markdown",
   "metadata": {},
   "source": [
    "We then cast the data types to string to enable using label encoder"
   ]
  },
  {
   "cell_type": "code",
   "execution_count": 83,
   "metadata": {
    "collapsed": true
   },
   "outputs": [],
   "source": [
    "data_clean2['position'] = data_clean2['position'].astype('str') \n",
    "data_clean2['Alpha_3'] = data_clean2['Alpha_3'].astype('str') "
   ]
  },
  {
   "cell_type": "markdown",
   "metadata": {},
   "source": [
    "Then we encode the rest of data sest that are not numerical using the function myfunction that is provided in the main folder.\n",
    "\n",
    "The encoding basically gives each categorical value in the affected column(column with data type object) a unique identification number. This number is a reference to the object value it represent in the affected column. In this part of the of the homework, we provide provided step by step guide on how to do this. For Example \"Attacking MidFielder\" in the position column can be encoded as 1.\n",
    "\n",
    "Below we collect all columns of object datatype from our data set below in CrowdstormingDataJuly1st_object_columns. The aim of this is be able to encode such columns at once. Sklearn as yet does not provide such functionality"
   ]
  },
  {
   "cell_type": "code",
   "execution_count": 84,
   "metadata": {
    "collapsed": true
   },
   "outputs": [],
   "source": [
    "data_object = data_clean2.iloc[:, :].select_dtypes(include=['object']).columns"
   ]
  },
  {
   "cell_type": "markdown",
   "metadata": {},
   "source": [
    "We defined  myFunction.MultiColumnLabelEncoder which  effectively Wraps sklearn LabelEncoder functionality(for encoding categorical variables) for use on multiple columns  of our data set. The multiple columns are those which were extracted above. As can be observed we parsed all such columns into myFunction.MultiColumnLabelEncoder."
   ]
  },
  {
   "cell_type": "code",
   "execution_count": 85,
   "metadata": {
    "collapsed": false
   },
   "outputs": [],
   "source": [
    "#create an instance of MultiColumnLabelEncoder and Pass the columns extracted to it\n",
    "ColumnObjectEncoder = myFunction.MultiColumnLabelEncoder(columns=data_object)"
   ]
  },
  {
   "cell_type": "markdown",
   "metadata": {},
   "source": [
    " The fit method of myFunction.MultiColumnLabelEncoder accesses individual column of our dataset via indexing. This effectively returns the columns of our data set which are of type object."
   ]
  },
  {
   "cell_type": "code",
   "execution_count": 86,
   "metadata": {
    "collapsed": false
   },
   "outputs": [
    {
     "data": {
      "text/plain": [
       "MultiColumnLabelEncoder(columns=Index(['player', 'club', 'leagueCountry', 'position', 'Alpha_3'], dtype='object'))"
      ]
     },
     "execution_count": 86,
     "metadata": {},
     "output_type": "execute_result"
    }
   ],
   "source": [
    "ColumnObjectEncoder.fit(data_clean2)"
   ]
  },
  {
   "cell_type": "markdown",
   "metadata": {},
   "source": [
    "We transform the columns of  object data type to encoded labels. This we do by calling ColumnObjectEncoder.transform."
   ]
  },
  {
   "cell_type": "code",
   "execution_count": 87,
   "metadata": {
    "collapsed": false
   },
   "outputs": [
    {
     "data": {
      "text/plain": [
       "array([[ 392,   34,    0,    1,   53],\n",
       "       [ 425,   48,    0,    6,   53],\n",
       "       [ 440,   54,    0,    4,   53],\n",
       "       ..., \n",
       "       [1536,   12,    2,    7,   42],\n",
       "       [1541,   91,    0,    8,   42],\n",
       "       [1553,    1,    2,    9,   42]])"
      ]
     },
     "execution_count": 87,
     "metadata": {},
     "output_type": "execute_result"
    }
   ],
   "source": [
    "# Finally transform \n",
    "ColumnObjectEncoder.transform(data_clean2)"
   ]
  },
  {
   "cell_type": "markdown",
   "metadata": {},
   "source": [
    "Now we can see that all our columns are numerical value and can be used by the RandomForest classifier"
   ]
  },
  {
   "cell_type": "code",
   "execution_count": 88,
   "metadata": {
    "collapsed": false
   },
   "outputs": [
    {
     "data": {
      "text/html": [
       "<div>\n",
       "<table border=\"1\" class=\"dataframe\">\n",
       "  <thead>\n",
       "    <tr style=\"text-align: right;\">\n",
       "      <th></th>\n",
       "      <th>player</th>\n",
       "      <th>club</th>\n",
       "      <th>leagueCountry</th>\n",
       "      <th>height</th>\n",
       "      <th>weight</th>\n",
       "      <th>position</th>\n",
       "      <th>games</th>\n",
       "      <th>victories</th>\n",
       "      <th>ties</th>\n",
       "      <th>defeats</th>\n",
       "      <th>goals</th>\n",
       "    </tr>\n",
       "  </thead>\n",
       "  <tbody>\n",
       "    <tr>\n",
       "      <th>5</th>\n",
       "      <td>392</td>\n",
       "      <td>34</td>\n",
       "      <td>0</td>\n",
       "      <td>182.0</td>\n",
       "      <td>71.0</td>\n",
       "      <td>1</td>\n",
       "      <td>1</td>\n",
       "      <td>0</td>\n",
       "      <td>0</td>\n",
       "      <td>1</td>\n",
       "      <td>0</td>\n",
       "    </tr>\n",
       "    <tr>\n",
       "      <th>6</th>\n",
       "      <td>425</td>\n",
       "      <td>48</td>\n",
       "      <td>0</td>\n",
       "      <td>187.0</td>\n",
       "      <td>80.0</td>\n",
       "      <td>6</td>\n",
       "      <td>1</td>\n",
       "      <td>1</td>\n",
       "      <td>0</td>\n",
       "      <td>0</td>\n",
       "      <td>0</td>\n",
       "    </tr>\n",
       "    <tr>\n",
       "      <th>7</th>\n",
       "      <td>440</td>\n",
       "      <td>54</td>\n",
       "      <td>0</td>\n",
       "      <td>180.0</td>\n",
       "      <td>68.0</td>\n",
       "      <td>4</td>\n",
       "      <td>1</td>\n",
       "      <td>0</td>\n",
       "      <td>0</td>\n",
       "      <td>1</td>\n",
       "      <td>0</td>\n",
       "    </tr>\n",
       "    <tr>\n",
       "      <th>8</th>\n",
       "      <td>454</td>\n",
       "      <td>49</td>\n",
       "      <td>0</td>\n",
       "      <td>193.0</td>\n",
       "      <td>80.0</td>\n",
       "      <td>5</td>\n",
       "      <td>1</td>\n",
       "      <td>0</td>\n",
       "      <td>1</td>\n",
       "      <td>0</td>\n",
       "      <td>0</td>\n",
       "    </tr>\n",
       "    <tr>\n",
       "      <th>9</th>\n",
       "      <td>456</td>\n",
       "      <td>2</td>\n",
       "      <td>2</td>\n",
       "      <td>180.0</td>\n",
       "      <td>70.0</td>\n",
       "      <td>9</td>\n",
       "      <td>1</td>\n",
       "      <td>1</td>\n",
       "      <td>0</td>\n",
       "      <td>0</td>\n",
       "      <td>0</td>\n",
       "    </tr>\n",
       "  </tbody>\n",
       "</table>\n",
       "</div>"
      ],
      "text/plain": [
       "   player  club  leagueCountry  height  weight  position  games  victories  \\\n",
       "5     392    34              0   182.0    71.0         1      1          0   \n",
       "6     425    48              0   187.0    80.0         6      1          1   \n",
       "7     440    54              0   180.0    68.0         4      1          0   \n",
       "8     454    49              0   193.0    80.0         5      1          0   \n",
       "9     456     2              2   180.0    70.0         9      1          1   \n",
       "\n",
       "   ties  defeats  goals  \n",
       "5     0        1      0  \n",
       "6     0        0      0  \n",
       "7     0        1      0  \n",
       "8     1        0      0  \n",
       "9     0        0      0  "
      ]
     },
     "execution_count": 88,
     "metadata": {},
     "output_type": "execute_result"
    }
   ],
   "source": [
    "data_clean2.ix[:,:11].head()"
   ]
  },
  {
   "cell_type": "code",
   "execution_count": 89,
   "metadata": {
    "collapsed": false
   },
   "outputs": [
    {
     "data": {
      "text/html": [
       "<div>\n",
       "<table border=\"1\" class=\"dataframe\">\n",
       "  <thead>\n",
       "    <tr style=\"text-align: right;\">\n",
       "      <th></th>\n",
       "      <th>yellowCards</th>\n",
       "      <th>yellowReds</th>\n",
       "      <th>redCards</th>\n",
       "      <th>Alpha_3</th>\n",
       "      <th>meanIAT</th>\n",
       "      <th>nIAT</th>\n",
       "      <th>seIAT</th>\n",
       "      <th>meanExp</th>\n",
       "      <th>nExp</th>\n",
       "      <th>seExp</th>\n",
       "      <th>meanRating</th>\n",
       "    </tr>\n",
       "  </thead>\n",
       "  <tbody>\n",
       "    <tr>\n",
       "      <th>5</th>\n",
       "      <td>0</td>\n",
       "      <td>0</td>\n",
       "      <td>0</td>\n",
       "      <td>53</td>\n",
       "      <td>0.325185</td>\n",
       "      <td>127.0</td>\n",
       "      <td>0.003297</td>\n",
       "      <td>0.538462</td>\n",
       "      <td>130.0</td>\n",
       "      <td>0.013752</td>\n",
       "      <td>0.125</td>\n",
       "    </tr>\n",
       "    <tr>\n",
       "      <th>6</th>\n",
       "      <td>0</td>\n",
       "      <td>0</td>\n",
       "      <td>0</td>\n",
       "      <td>53</td>\n",
       "      <td>0.325185</td>\n",
       "      <td>127.0</td>\n",
       "      <td>0.003297</td>\n",
       "      <td>0.538462</td>\n",
       "      <td>130.0</td>\n",
       "      <td>0.013752</td>\n",
       "      <td>0.125</td>\n",
       "    </tr>\n",
       "    <tr>\n",
       "      <th>7</th>\n",
       "      <td>0</td>\n",
       "      <td>0</td>\n",
       "      <td>0</td>\n",
       "      <td>53</td>\n",
       "      <td>0.325185</td>\n",
       "      <td>127.0</td>\n",
       "      <td>0.003297</td>\n",
       "      <td>0.538462</td>\n",
       "      <td>130.0</td>\n",
       "      <td>0.013752</td>\n",
       "      <td>1.000</td>\n",
       "    </tr>\n",
       "    <tr>\n",
       "      <th>8</th>\n",
       "      <td>0</td>\n",
       "      <td>0</td>\n",
       "      <td>0</td>\n",
       "      <td>53</td>\n",
       "      <td>0.325185</td>\n",
       "      <td>127.0</td>\n",
       "      <td>0.003297</td>\n",
       "      <td>0.538462</td>\n",
       "      <td>130.0</td>\n",
       "      <td>0.013752</td>\n",
       "      <td>0.250</td>\n",
       "    </tr>\n",
       "    <tr>\n",
       "      <th>9</th>\n",
       "      <td>0</td>\n",
       "      <td>0</td>\n",
       "      <td>0</td>\n",
       "      <td>53</td>\n",
       "      <td>0.325185</td>\n",
       "      <td>127.0</td>\n",
       "      <td>0.003297</td>\n",
       "      <td>0.538462</td>\n",
       "      <td>130.0</td>\n",
       "      <td>0.013752</td>\n",
       "      <td>0.000</td>\n",
       "    </tr>\n",
       "  </tbody>\n",
       "</table>\n",
       "</div>"
      ],
      "text/plain": [
       "   yellowCards  yellowReds  redCards  Alpha_3   meanIAT   nIAT     seIAT  \\\n",
       "5            0           0         0       53  0.325185  127.0  0.003297   \n",
       "6            0           0         0       53  0.325185  127.0  0.003297   \n",
       "7            0           0         0       53  0.325185  127.0  0.003297   \n",
       "8            0           0         0       53  0.325185  127.0  0.003297   \n",
       "9            0           0         0       53  0.325185  127.0  0.003297   \n",
       "\n",
       "    meanExp   nExp     seExp  meanRating  \n",
       "5  0.538462  130.0  0.013752       0.125  \n",
       "6  0.538462  130.0  0.013752       0.125  \n",
       "7  0.538462  130.0  0.013752       1.000  \n",
       "8  0.538462  130.0  0.013752       0.250  \n",
       "9  0.538462  130.0  0.013752       0.000  "
      ]
     },
     "execution_count": 89,
     "metadata": {},
     "output_type": "execute_result"
    }
   ],
   "source": [
    "data_clean2.ix[:,11:22].head()"
   ]
  },
  {
   "cell_type": "markdown",
   "metadata": {},
   "source": [
    "We then look at the data and we find that there are still a few nan values that are present in the data. But as we see there are not a lot. We decide to let go of them."
   ]
  },
  {
   "cell_type": "code",
   "execution_count": 90,
   "metadata": {
    "collapsed": false
   },
   "outputs": [
    {
     "data": {
      "text/plain": [
       "player             0\n",
       "club               0\n",
       "leagueCountry      0\n",
       "height            23\n",
       "weight           625\n",
       "position           0\n",
       "games              0\n",
       "victories          0\n",
       "ties               0\n",
       "defeats            0\n",
       "goals              0\n",
       "yellowCards        0\n",
       "yellowReds         0\n",
       "redCards           0\n",
       "Alpha_3            0\n",
       "meanIAT          110\n",
       "nIAT             110\n",
       "seIAT            110\n",
       "meanExp          110\n",
       "nExp             110\n",
       "seExp            110\n",
       "meanRating         0\n",
       "dtype: int64"
      ]
     },
     "execution_count": 90,
     "metadata": {},
     "output_type": "execute_result"
    }
   ],
   "source": [
    "data_clean2.isnull().sum()"
   ]
  },
  {
   "cell_type": "code",
   "execution_count": 91,
   "metadata": {
    "collapsed": true
   },
   "outputs": [],
   "source": [
    "data_clean2 = data_clean2.dropna()"
   ]
  },
  {
   "cell_type": "markdown",
   "metadata": {},
   "source": [
    "As we see we have dropped a large set of data, we will check that we did not loose too much data. We see that we only dropped 15% of the data which is quite good."
   ]
  },
  {
   "cell_type": "code",
   "execution_count": 92,
   "metadata": {
    "collapsed": false
   },
   "outputs": [
    {
     "name": "stdout",
     "output_type": "stream",
     "text": [
      "Percentage of data that was kept : 77.4693894321637  %\n"
     ]
    }
   ],
   "source": [
    "print('Percentage of data that was kept :',len(data_clean2)/len(data)*100,' %')"
   ]
  },
  {
   "cell_type": "markdown",
   "metadata": {},
   "source": [
    "#### Player Aggregation\n",
    "\n",
    "Now that we have cleaned the data we will aggregate the data per player. We will start by grouping by players and taking a look at one player"
   ]
  },
  {
   "cell_type": "code",
   "execution_count": 114,
   "metadata": {
    "collapsed": false
   },
   "outputs": [
    {
     "data": {
      "text/html": [
       "<div>\n",
       "<table border=\"1\" class=\"dataframe\">\n",
       "  <thead>\n",
       "    <tr style=\"text-align: right;\">\n",
       "      <th></th>\n",
       "      <th>player</th>\n",
       "      <th>club</th>\n",
       "      <th>leagueCountry</th>\n",
       "      <th>height</th>\n",
       "      <th>weight</th>\n",
       "      <th>position</th>\n",
       "      <th>games</th>\n",
       "      <th>victories</th>\n",
       "      <th>ties</th>\n",
       "      <th>defeats</th>\n",
       "      <th>goals</th>\n",
       "      <th>yellowCards</th>\n",
       "    </tr>\n",
       "  </thead>\n",
       "  <tbody>\n",
       "    <tr>\n",
       "      <th>2401</th>\n",
       "      <td>34</td>\n",
       "      <td>69</td>\n",
       "      <td>3</td>\n",
       "      <td>177.0</td>\n",
       "      <td>70.0</td>\n",
       "      <td>6</td>\n",
       "      <td>4</td>\n",
       "      <td>0</td>\n",
       "      <td>2</td>\n",
       "      <td>2</td>\n",
       "      <td>0</td>\n",
       "      <td>1</td>\n",
       "    </tr>\n",
       "    <tr>\n",
       "      <th>3190</th>\n",
       "      <td>34</td>\n",
       "      <td>69</td>\n",
       "      <td>3</td>\n",
       "      <td>177.0</td>\n",
       "      <td>70.0</td>\n",
       "      <td>6</td>\n",
       "      <td>8</td>\n",
       "      <td>4</td>\n",
       "      <td>2</td>\n",
       "      <td>2</td>\n",
       "      <td>0</td>\n",
       "      <td>0</td>\n",
       "    </tr>\n",
       "    <tr>\n",
       "      <th>5475</th>\n",
       "      <td>34</td>\n",
       "      <td>69</td>\n",
       "      <td>3</td>\n",
       "      <td>177.0</td>\n",
       "      <td>70.0</td>\n",
       "      <td>6</td>\n",
       "      <td>7</td>\n",
       "      <td>2</td>\n",
       "      <td>2</td>\n",
       "      <td>3</td>\n",
       "      <td>0</td>\n",
       "      <td>0</td>\n",
       "    </tr>\n",
       "    <tr>\n",
       "      <th>5905</th>\n",
       "      <td>34</td>\n",
       "      <td>69</td>\n",
       "      <td>3</td>\n",
       "      <td>177.0</td>\n",
       "      <td>70.0</td>\n",
       "      <td>6</td>\n",
       "      <td>2</td>\n",
       "      <td>1</td>\n",
       "      <td>0</td>\n",
       "      <td>1</td>\n",
       "      <td>0</td>\n",
       "      <td>0</td>\n",
       "    </tr>\n",
       "    <tr>\n",
       "      <th>6188</th>\n",
       "      <td>34</td>\n",
       "      <td>69</td>\n",
       "      <td>3</td>\n",
       "      <td>177.0</td>\n",
       "      <td>70.0</td>\n",
       "      <td>6</td>\n",
       "      <td>3</td>\n",
       "      <td>1</td>\n",
       "      <td>2</td>\n",
       "      <td>0</td>\n",
       "      <td>0</td>\n",
       "      <td>2</td>\n",
       "    </tr>\n",
       "  </tbody>\n",
       "</table>\n",
       "</div>"
      ],
      "text/plain": [
       "      player  club  leagueCountry  height  weight  position  games  victories  \\\n",
       "2401      34    69              3   177.0    70.0         6      4          0   \n",
       "3190      34    69              3   177.0    70.0         6      8          4   \n",
       "5475      34    69              3   177.0    70.0         6      7          2   \n",
       "5905      34    69              3   177.0    70.0         6      2          1   \n",
       "6188      34    69              3   177.0    70.0         6      3          1   \n",
       "\n",
       "      ties  defeats  goals  yellowCards  \n",
       "2401     2        2      0            1  \n",
       "3190     2        2      0            0  \n",
       "5475     2        3      0            0  \n",
       "5905     0        1      0            0  \n",
       "6188     2        0      0            2  "
      ]
     },
     "execution_count": 114,
     "metadata": {},
     "output_type": "execute_result"
    }
   ],
   "source": [
    "players = data_clean2.groupby('player')\n",
    "players.get_group(34).ix[:,0:12].head()"
   ]
  },
  {
   "cell_type": "code",
   "execution_count": 118,
   "metadata": {
    "collapsed": false
   },
   "outputs": [
    {
     "data": {
      "text/html": [
       "<div>\n",
       "<table border=\"1\" class=\"dataframe\">\n",
       "  <thead>\n",
       "    <tr style=\"text-align: right;\">\n",
       "      <th></th>\n",
       "      <th>yellowReds</th>\n",
       "      <th>redCards</th>\n",
       "      <th>Alpha_3</th>\n",
       "      <th>meanIAT</th>\n",
       "      <th>nIAT</th>\n",
       "      <th>seIAT</th>\n",
       "      <th>meanExp</th>\n",
       "      <th>nExp</th>\n",
       "      <th>seExp</th>\n",
       "      <th>meanRating</th>\n",
       "    </tr>\n",
       "  </thead>\n",
       "  <tbody>\n",
       "    <tr>\n",
       "      <th>2316</th>\n",
       "      <td>1</td>\n",
       "      <td>0</td>\n",
       "      <td>30</td>\n",
       "      <td>0.369894</td>\n",
       "      <td>1785.0</td>\n",
       "      <td>0.000229</td>\n",
       "      <td>0.588297</td>\n",
       "      <td>1897.0</td>\n",
       "      <td>0.001002</td>\n",
       "      <td>0.25</td>\n",
       "    </tr>\n",
       "    <tr>\n",
       "      <th>3141</th>\n",
       "      <td>0</td>\n",
       "      <td>0</td>\n",
       "      <td>30</td>\n",
       "      <td>0.369894</td>\n",
       "      <td>1785.0</td>\n",
       "      <td>0.000229</td>\n",
       "      <td>0.588297</td>\n",
       "      <td>1897.0</td>\n",
       "      <td>0.001002</td>\n",
       "      <td>0.25</td>\n",
       "    </tr>\n",
       "    <tr>\n",
       "      <th>4013</th>\n",
       "      <td>0</td>\n",
       "      <td>0</td>\n",
       "      <td>76</td>\n",
       "      <td>0.398174</td>\n",
       "      <td>526.0</td>\n",
       "      <td>0.000809</td>\n",
       "      <td>1.212727</td>\n",
       "      <td>550.0</td>\n",
       "      <td>0.004521</td>\n",
       "      <td>0.25</td>\n",
       "    </tr>\n",
       "    <tr>\n",
       "      <th>5426</th>\n",
       "      <td>0</td>\n",
       "      <td>0</td>\n",
       "      <td>30</td>\n",
       "      <td>0.369894</td>\n",
       "      <td>1785.0</td>\n",
       "      <td>0.000229</td>\n",
       "      <td>0.588297</td>\n",
       "      <td>1897.0</td>\n",
       "      <td>0.001002</td>\n",
       "      <td>0.25</td>\n",
       "    </tr>\n",
       "    <tr>\n",
       "      <th>5874</th>\n",
       "      <td>0</td>\n",
       "      <td>0</td>\n",
       "      <td>30</td>\n",
       "      <td>0.369894</td>\n",
       "      <td>1785.0</td>\n",
       "      <td>0.000229</td>\n",
       "      <td>0.588297</td>\n",
       "      <td>1897.0</td>\n",
       "      <td>0.001002</td>\n",
       "      <td>0.25</td>\n",
       "    </tr>\n",
       "  </tbody>\n",
       "</table>\n",
       "</div>"
      ],
      "text/plain": [
       "      yellowReds  redCards  Alpha_3   meanIAT    nIAT     seIAT   meanExp  \\\n",
       "2316           1         0       30  0.369894  1785.0  0.000229  0.588297   \n",
       "3141           0         0       30  0.369894  1785.0  0.000229  0.588297   \n",
       "4013           0         0       76  0.398174   526.0  0.000809  1.212727   \n",
       "5426           0         0       30  0.369894  1785.0  0.000229  0.588297   \n",
       "5874           0         0       30  0.369894  1785.0  0.000229  0.588297   \n",
       "\n",
       "        nExp     seExp  meanRating  \n",
       "2316  1897.0  0.001002        0.25  \n",
       "3141  1897.0  0.001002        0.25  \n",
       "4013   550.0  0.004521        0.25  \n",
       "5426  1897.0  0.001002        0.25  \n",
       "5874  1897.0  0.001002        0.25  "
      ]
     },
     "execution_count": 118,
     "metadata": {},
     "output_type": "execute_result"
    }
   ],
   "source": [
    "players.get_group(3).ix[:,12:22].head()"
   ]
  },
  {
   "cell_type": "markdown",
   "metadata": {},
   "source": [
    "As we can see, we have to apply different functions that have to be applied for each column for a correct aggregation without loosing any information.\n",
    "\n",
    "For different columns we will apply different functions:\n",
    "- club, leagueCountry, height, age, position, Alpha_3, meanRating : Taking the most frequent value in all games is a good representation of the player. (For height, age and meanRating it will be the right value).\n",
    "- games, victories, ties, defeats, goals, yellowCards, yellowReds, redCards we will sum all the values. \n",
    "- For the referee information we will use a custom functions\n",
    "\n",
    "#### Aggregating referee information\n",
    "\n",
    "Let's take a custom player represented by the following table, a set of referee - player dyad.\n",
    "\n",
    "| meanIAT | nIAT | seIAT |\n",
    "|---------|------|-------|\n",
    "| $$m_1$$      | $$N_1$$   | $$s_1$$    |\n",
    "|    $$m_2$$   | $$N_2$$   | $$s_2$$    |\n",
    "| $$m_3$$      | $$N_3$$   | $$s_3$$    |\n",
    "\n",
    "Given this information we need to calculate the new values per player that ecompasses the information from all of the dyads for one player.\n",
    "\n",
    "For the mean we choose the following function:\n",
    "\n",
    "\n",
    "$$MeanIATPlayer = \\frac{m_1*N_1 + m_2*N_2 + m_3*N_3}{N_1+N_2+N_3}$$\n",
    "\n",
    "The new number of samples is simply:\n",
    "\n",
    "$$N_{tot} = N_1+N_2+N_33$$\n",
    "\n",
    "And finally the standard deviation is simply computed with the data above:\n",
    "\n",
    "$$STD = \\sqrt{\\frac{1}{N_{tot}}*\\sum_{i}^{n}(m_i - meanIATPlayer)^2)}$$\n",
    "\n",
    "\n",
    "The aggregation is done in the notebook \"Aggregation\"."
   ]
  },
  {
   "cell_type": "code",
   "execution_count": null,
   "metadata": {
    "collapsed": true
   },
   "outputs": [],
   "source": []
  },
  {
   "cell_type": "code",
   "execution_count": 113,
   "metadata": {
    "collapsed": false
   },
   "outputs": [],
   "source": [
    "data_clean2.to_csv('Cleaned_Data.csv')"
   ]
  },
  {
   "cell_type": "code",
   "execution_count": 96,
   "metadata": {
    "collapsed": false
   },
   "outputs": [
    {
     "data": {
      "text/plain": [
       "1551"
      ]
     },
     "execution_count": 96,
     "metadata": {},
     "output_type": "execute_result"
    }
   ],
   "source": [
    "len(players.groups)"
   ]
  },
  {
   "cell_type": "markdown",
   "metadata": {},
   "source": [
    "Now we have to group the data by player and do deal properly with each columns. To do this we create a dict that will contain each function that should be used."
   ]
  },
  {
   "cell_type": "code",
   "execution_count": 71,
   "metadata": {
    "collapsed": true
   },
   "outputs": [],
   "source": [
    "#creation of the dictionary\n",
    "f = {'height':['mean'],'weight':['mean'],'games':['sum'],'victories':['sum'],'ties':['sum'],\n",
    "     'defeats':['sum'],'goals':['sum'],'yellowCards':['sum'],\n",
    "     'yellowReds':['sum'],'redCards':['sum'],\n",
    "     'meanIAT':['mean'],'seIAT':['std'],'meanExp':['mean'],\n",
    "     'seExp':['std'],'meanRating':['mean']}"
   ]
  },
  {
   "cell_type": "code",
   "execution_count": 72,
   "metadata": {
    "collapsed": true
   },
   "outputs": [],
   "source": [
    "playerGroups = data_clean2.groupby('player')"
   ]
  },
  {
   "cell_type": "code",
   "execution_count": 77,
   "metadata": {
    "collapsed": false
   },
   "outputs": [
    {
     "data": {
      "text/html": [
       "<div>\n",
       "<table border=\"1\" class=\"dataframe\">\n",
       "  <thead>\n",
       "    <tr style=\"text-align: right;\">\n",
       "      <th></th>\n",
       "      <th>height</th>\n",
       "      <th>meanIAT</th>\n",
       "      <th>seIAT</th>\n",
       "      <th>yellowReds</th>\n",
       "      <th>weight</th>\n",
       "      <th>meanExp</th>\n",
       "    </tr>\n",
       "    <tr>\n",
       "      <th>player</th>\n",
       "      <th></th>\n",
       "      <th></th>\n",
       "      <th></th>\n",
       "      <th></th>\n",
       "      <th></th>\n",
       "      <th></th>\n",
       "    </tr>\n",
       "  </thead>\n",
       "  <tbody>\n",
       "    <tr>\n",
       "      <th>0</th>\n",
       "      <td>172.00000</td>\n",
       "      <td>0.358428</td>\n",
       "      <td>0.001176</td>\n",
       "      <td>1</td>\n",
       "      <td>67.000000</td>\n",
       "      <td>0.571523</td>\n",
       "    </tr>\n",
       "    <tr>\n",
       "      <th>1</th>\n",
       "      <td>184.22807</td>\n",
       "      <td>0.360203</td>\n",
       "      <td>0.001050</td>\n",
       "      <td>0</td>\n",
       "      <td>75.210526</td>\n",
       "      <td>0.534978</td>\n",
       "    </tr>\n",
       "    <tr>\n",
       "      <th>2</th>\n",
       "      <td>171.00000</td>\n",
       "      <td>0.365679</td>\n",
       "      <td>0.000223</td>\n",
       "      <td>1</td>\n",
       "      <td>69.000000</td>\n",
       "      <td>0.576993</td>\n",
       "    </tr>\n",
       "    <tr>\n",
       "      <th>3</th>\n",
       "      <td>182.00000</td>\n",
       "      <td>0.363666</td>\n",
       "      <td>0.000204</td>\n",
       "      <td>3</td>\n",
       "      <td>78.000000</td>\n",
       "      <td>0.566480</td>\n",
       "    </tr>\n",
       "    <tr>\n",
       "      <th>4</th>\n",
       "      <td>190.00000</td>\n",
       "      <td>0.369184</td>\n",
       "      <td>0.001955</td>\n",
       "      <td>0</td>\n",
       "      <td>88.000000</td>\n",
       "      <td>0.583849</td>\n",
       "    </tr>\n",
       "    <tr>\n",
       "      <th>5</th>\n",
       "      <td>187.00000</td>\n",
       "      <td>0.370791</td>\n",
       "      <td>0.000123</td>\n",
       "      <td>0</td>\n",
       "      <td>77.000000</td>\n",
       "      <td>0.610543</td>\n",
       "    </tr>\n",
       "    <tr>\n",
       "      <th>6</th>\n",
       "      <td>181.00000</td>\n",
       "      <td>0.356769</td>\n",
       "      <td>0.002302</td>\n",
       "      <td>3</td>\n",
       "      <td>77.000000</td>\n",
       "      <td>0.526177</td>\n",
       "    </tr>\n",
       "    <tr>\n",
       "      <th>7</th>\n",
       "      <td>186.00000</td>\n",
       "      <td>0.361793</td>\n",
       "      <td>0.000427</td>\n",
       "      <td>0</td>\n",
       "      <td>82.000000</td>\n",
       "      <td>0.551647</td>\n",
       "    </tr>\n",
       "    <tr>\n",
       "      <th>8</th>\n",
       "      <td>177.00000</td>\n",
       "      <td>0.369894</td>\n",
       "      <td>0.000000</td>\n",
       "      <td>0</td>\n",
       "      <td>68.000000</td>\n",
       "      <td>0.588297</td>\n",
       "    </tr>\n",
       "    <tr>\n",
       "      <th>9</th>\n",
       "      <td>188.00000</td>\n",
       "      <td>0.350103</td>\n",
       "      <td>0.001561</td>\n",
       "      <td>0</td>\n",
       "      <td>92.000000</td>\n",
       "      <td>0.486384</td>\n",
       "    </tr>\n",
       "    <tr>\n",
       "      <th>10</th>\n",
       "      <td>183.00000</td>\n",
       "      <td>0.363614</td>\n",
       "      <td>0.000357</td>\n",
       "      <td>7</td>\n",
       "      <td>80.000000</td>\n",
       "      <td>0.589131</td>\n",
       "    </tr>\n",
       "  </tbody>\n",
       "</table>\n",
       "</div>"
      ],
      "text/plain": [
       "           height   meanIAT     seIAT  yellowReds     weight   meanExp\n",
       "player                                                                \n",
       "0       172.00000  0.358428  0.001176           1  67.000000  0.571523\n",
       "1       184.22807  0.360203  0.001050           0  75.210526  0.534978\n",
       "2       171.00000  0.365679  0.000223           1  69.000000  0.576993\n",
       "3       182.00000  0.363666  0.000204           3  78.000000  0.566480\n",
       "4       190.00000  0.369184  0.001955           0  88.000000  0.583849\n",
       "5       187.00000  0.370791  0.000123           0  77.000000  0.610543\n",
       "6       181.00000  0.356769  0.002302           3  77.000000  0.526177\n",
       "7       186.00000  0.361793  0.000427           0  82.000000  0.551647\n",
       "8       177.00000  0.369894  0.000000           0  68.000000  0.588297\n",
       "9       188.00000  0.350103  0.001561           0  92.000000  0.486384\n",
       "10      183.00000  0.363614  0.000357           7  80.000000  0.589131"
      ]
     },
     "execution_count": 77,
     "metadata": {},
     "output_type": "execute_result"
    }
   ],
   "source": [
    "players = playerGroups.agg(f)\n",
    "#and keep th column name as index\n",
    "players.columns = players.columns.droplevel(1)\n",
    "players.ix[:10,:6]"
   ]
  },
  {
   "cell_type": "code",
   "execution_count": 76,
   "metadata": {
    "collapsed": false
   },
   "outputs": [
    {
     "data": {
      "text/html": [
       "<div>\n",
       "<table border=\"1\" class=\"dataframe\">\n",
       "  <thead>\n",
       "    <tr style=\"text-align: right;\">\n",
       "      <th></th>\n",
       "      <th>goals</th>\n",
       "      <th>redCards</th>\n",
       "      <th>victories</th>\n",
       "      <th>meanRating</th>\n",
       "      <th>games</th>\n",
       "      <th>defeats</th>\n",
       "      <th>seExp</th>\n",
       "      <th>ties</th>\n",
       "      <th>yellowCards</th>\n",
       "    </tr>\n",
       "    <tr>\n",
       "      <th>player</th>\n",
       "      <th></th>\n",
       "      <th></th>\n",
       "      <th></th>\n",
       "      <th></th>\n",
       "      <th></th>\n",
       "      <th></th>\n",
       "      <th></th>\n",
       "      <th></th>\n",
       "      <th></th>\n",
       "    </tr>\n",
       "  </thead>\n",
       "  <tbody>\n",
       "    <tr>\n",
       "      <th>0</th>\n",
       "      <td>33</td>\n",
       "      <td>3</td>\n",
       "      <td>229</td>\n",
       "      <td>0.250000</td>\n",
       "      <td>373</td>\n",
       "      <td>85</td>\n",
       "      <td>0.006648</td>\n",
       "      <td>59</td>\n",
       "      <td>58</td>\n",
       "    </tr>\n",
       "    <tr>\n",
       "      <th>1</th>\n",
       "      <td>60</td>\n",
       "      <td>0</td>\n",
       "      <td>155</td>\n",
       "      <td>0.155702</td>\n",
       "      <td>323</td>\n",
       "      <td>95</td>\n",
       "      <td>0.007934</td>\n",
       "      <td>73</td>\n",
       "      <td>19</td>\n",
       "    </tr>\n",
       "    <tr>\n",
       "      <th>2</th>\n",
       "      <td>39</td>\n",
       "      <td>0</td>\n",
       "      <td>53</td>\n",
       "      <td>0.250000</td>\n",
       "      <td>178</td>\n",
       "      <td>82</td>\n",
       "      <td>0.000978</td>\n",
       "      <td>43</td>\n",
       "      <td>22</td>\n",
       "    </tr>\n",
       "    <tr>\n",
       "      <th>3</th>\n",
       "      <td>105</td>\n",
       "      <td>4</td>\n",
       "      <td>125</td>\n",
       "      <td>0.250000</td>\n",
       "      <td>322</td>\n",
       "      <td>115</td>\n",
       "      <td>0.000932</td>\n",
       "      <td>82</td>\n",
       "      <td>68</td>\n",
       "    </tr>\n",
       "    <tr>\n",
       "      <th>4</th>\n",
       "      <td>0</td>\n",
       "      <td>1</td>\n",
       "      <td>22</td>\n",
       "      <td>0.000000</td>\n",
       "      <td>44</td>\n",
       "      <td>16</td>\n",
       "      <td>0.015029</td>\n",
       "      <td>6</td>\n",
       "      <td>1</td>\n",
       "    </tr>\n",
       "    <tr>\n",
       "      <th>5</th>\n",
       "      <td>52</td>\n",
       "      <td>0</td>\n",
       "      <td>78</td>\n",
       "      <td>0.000000</td>\n",
       "      <td>200</td>\n",
       "      <td>60</td>\n",
       "      <td>0.000675</td>\n",
       "      <td>62</td>\n",
       "      <td>8</td>\n",
       "    </tr>\n",
       "    <tr>\n",
       "      <th>6</th>\n",
       "      <td>11</td>\n",
       "      <td>6</td>\n",
       "      <td>292</td>\n",
       "      <td>0.250000</td>\n",
       "      <td>561</td>\n",
       "      <td>130</td>\n",
       "      <td>0.009660</td>\n",
       "      <td>139</td>\n",
       "      <td>197</td>\n",
       "    </tr>\n",
       "    <tr>\n",
       "      <th>7</th>\n",
       "      <td>4</td>\n",
       "      <td>3</td>\n",
       "      <td>51</td>\n",
       "      <td>0.125000</td>\n",
       "      <td>171</td>\n",
       "      <td>70</td>\n",
       "      <td>0.002424</td>\n",
       "      <td>50</td>\n",
       "      <td>69</td>\n",
       "    </tr>\n",
       "    <tr>\n",
       "      <th>8</th>\n",
       "      <td>1</td>\n",
       "      <td>0</td>\n",
       "      <td>5</td>\n",
       "      <td>0.250000</td>\n",
       "      <td>17</td>\n",
       "      <td>9</td>\n",
       "      <td>0.000000</td>\n",
       "      <td>3</td>\n",
       "      <td>1</td>\n",
       "    </tr>\n",
       "    <tr>\n",
       "      <th>9</th>\n",
       "      <td>38</td>\n",
       "      <td>2</td>\n",
       "      <td>243</td>\n",
       "      <td>0.500000</td>\n",
       "      <td>371</td>\n",
       "      <td>47</td>\n",
       "      <td>0.009183</td>\n",
       "      <td>81</td>\n",
       "      <td>48</td>\n",
       "    </tr>\n",
       "    <tr>\n",
       "      <th>10</th>\n",
       "      <td>16</td>\n",
       "      <td>4</td>\n",
       "      <td>96</td>\n",
       "      <td>0.000000</td>\n",
       "      <td>255</td>\n",
       "      <td>102</td>\n",
       "      <td>0.002133</td>\n",
       "      <td>57</td>\n",
       "      <td>77</td>\n",
       "    </tr>\n",
       "    <tr>\n",
       "      <th>11</th>\n",
       "      <td>53</td>\n",
       "      <td>0</td>\n",
       "      <td>91</td>\n",
       "      <td>0.250000</td>\n",
       "      <td>227</td>\n",
       "      <td>85</td>\n",
       "      <td>0.000722</td>\n",
       "      <td>51</td>\n",
       "      <td>25</td>\n",
       "    </tr>\n",
       "    <tr>\n",
       "      <th>12</th>\n",
       "      <td>5</td>\n",
       "      <td>1</td>\n",
       "      <td>45</td>\n",
       "      <td>0.375000</td>\n",
       "      <td>126</td>\n",
       "      <td>44</td>\n",
       "      <td>0.000689</td>\n",
       "      <td>37</td>\n",
       "      <td>40</td>\n",
       "    </tr>\n",
       "    <tr>\n",
       "      <th>13</th>\n",
       "      <td>5</td>\n",
       "      <td>4</td>\n",
       "      <td>98</td>\n",
       "      <td>0.000000</td>\n",
       "      <td>274</td>\n",
       "      <td>111</td>\n",
       "      <td>0.006734</td>\n",
       "      <td>65</td>\n",
       "      <td>93</td>\n",
       "    </tr>\n",
       "    <tr>\n",
       "      <th>14</th>\n",
       "      <td>21</td>\n",
       "      <td>4</td>\n",
       "      <td>101</td>\n",
       "      <td>0.000000</td>\n",
       "      <td>230</td>\n",
       "      <td>72</td>\n",
       "      <td>0.002420</td>\n",
       "      <td>57</td>\n",
       "      <td>62</td>\n",
       "    </tr>\n",
       "    <tr>\n",
       "      <th>15</th>\n",
       "      <td>13</td>\n",
       "      <td>0</td>\n",
       "      <td>148</td>\n",
       "      <td>0.750000</td>\n",
       "      <td>220</td>\n",
       "      <td>45</td>\n",
       "      <td>0.011631</td>\n",
       "      <td>27</td>\n",
       "      <td>19</td>\n",
       "    </tr>\n",
       "    <tr>\n",
       "      <th>16</th>\n",
       "      <td>1</td>\n",
       "      <td>0</td>\n",
       "      <td>5</td>\n",
       "      <td>0.500000</td>\n",
       "      <td>32</td>\n",
       "      <td>20</td>\n",
       "      <td>0.000045</td>\n",
       "      <td>7</td>\n",
       "      <td>3</td>\n",
       "    </tr>\n",
       "    <tr>\n",
       "      <th>17</th>\n",
       "      <td>21</td>\n",
       "      <td>3</td>\n",
       "      <td>89</td>\n",
       "      <td>0.750000</td>\n",
       "      <td>270</td>\n",
       "      <td>99</td>\n",
       "      <td>0.002879</td>\n",
       "      <td>82</td>\n",
       "      <td>53</td>\n",
       "    </tr>\n",
       "    <tr>\n",
       "      <th>18</th>\n",
       "      <td>32</td>\n",
       "      <td>1</td>\n",
       "      <td>160</td>\n",
       "      <td>0.406593</td>\n",
       "      <td>337</td>\n",
       "      <td>96</td>\n",
       "      <td>0.007494</td>\n",
       "      <td>81</td>\n",
       "      <td>66</td>\n",
       "    </tr>\n",
       "    <tr>\n",
       "      <th>19</th>\n",
       "      <td>11</td>\n",
       "      <td>0</td>\n",
       "      <td>74</td>\n",
       "      <td>0.250000</td>\n",
       "      <td>179</td>\n",
       "      <td>60</td>\n",
       "      <td>0.000740</td>\n",
       "      <td>45</td>\n",
       "      <td>27</td>\n",
       "    </tr>\n",
       "    <tr>\n",
       "      <th>20</th>\n",
       "      <td>0</td>\n",
       "      <td>0</td>\n",
       "      <td>27</td>\n",
       "      <td>0.250000</td>\n",
       "      <td>54</td>\n",
       "      <td>15</td>\n",
       "      <td>0.003965</td>\n",
       "      <td>12</td>\n",
       "      <td>3</td>\n",
       "    </tr>\n",
       "  </tbody>\n",
       "</table>\n",
       "</div>"
      ],
      "text/plain": [
       "        goals  redCards  victories  meanRating  games  defeats     seExp  \\\n",
       "player                                                                     \n",
       "0          33         3        229    0.250000    373       85  0.006648   \n",
       "1          60         0        155    0.155702    323       95  0.007934   \n",
       "2          39         0         53    0.250000    178       82  0.000978   \n",
       "3         105         4        125    0.250000    322      115  0.000932   \n",
       "4           0         1         22    0.000000     44       16  0.015029   \n",
       "5          52         0         78    0.000000    200       60  0.000675   \n",
       "6          11         6        292    0.250000    561      130  0.009660   \n",
       "7           4         3         51    0.125000    171       70  0.002424   \n",
       "8           1         0          5    0.250000     17        9  0.000000   \n",
       "9          38         2        243    0.500000    371       47  0.009183   \n",
       "10         16         4         96    0.000000    255      102  0.002133   \n",
       "11         53         0         91    0.250000    227       85  0.000722   \n",
       "12          5         1         45    0.375000    126       44  0.000689   \n",
       "13          5         4         98    0.000000    274      111  0.006734   \n",
       "14         21         4        101    0.000000    230       72  0.002420   \n",
       "15         13         0        148    0.750000    220       45  0.011631   \n",
       "16          1         0          5    0.500000     32       20  0.000045   \n",
       "17         21         3         89    0.750000    270       99  0.002879   \n",
       "18         32         1        160    0.406593    337       96  0.007494   \n",
       "19         11         0         74    0.250000    179       60  0.000740   \n",
       "20          0         0         27    0.250000     54       15  0.003965   \n",
       "\n",
       "        ties  yellowCards  \n",
       "player                     \n",
       "0         59           58  \n",
       "1         73           19  \n",
       "2         43           22  \n",
       "3         82           68  \n",
       "4          6            1  \n",
       "5         62            8  \n",
       "6        139          197  \n",
       "7         50           69  \n",
       "8          3            1  \n",
       "9         81           48  \n",
       "10        57           77  \n",
       "11        51           25  \n",
       "12        37           40  \n",
       "13        65           93  \n",
       "14        57           62  \n",
       "15        27           19  \n",
       "16         7            3  \n",
       "17        82           53  \n",
       "18        81           66  \n",
       "19        45           27  \n",
       "20        12            3  "
      ]
     },
     "execution_count": 76,
     "metadata": {},
     "output_type": "execute_result"
    }
   ],
   "source": [
    "players.ix[:20,6:]"
   ]
  },
  {
   "cell_type": "code",
   "execution_count": 67,
   "metadata": {
    "collapsed": false
   },
   "outputs": [
    {
     "data": {
      "text/plain": [
       "player\n",
       "0    0.250000\n",
       "1    0.155702\n",
       "2    0.250000\n",
       "3    0.250000\n",
       "4    0.000000\n",
       "Name: meanRating, dtype: float64"
      ]
     },
     "execution_count": 67,
     "metadata": {},
     "output_type": "execute_result"
    }
   ],
   "source": [
    "players.meanRating.head()"
   ]
  },
  {
   "cell_type": "code",
   "execution_count": 75,
   "metadata": {
    "collapsed": false
   },
   "outputs": [
    {
     "data": {
      "text/plain": [
       "(1572, 15)"
      ]
     },
     "execution_count": 75,
     "metadata": {},
     "output_type": "execute_result"
    }
   ],
   "source": [
    "players.shape"
   ]
  },
  {
   "cell_type": "markdown",
   "metadata": {},
   "source": [
    "We will divide the color of the skin in three categories 0.0, 0.5, 1.0. This is done with the function define below."
   ]
  },
  {
   "cell_type": "code",
   "execution_count": 166,
   "metadata": {
    "collapsed": false
   },
   "outputs": [
    {
     "data": {
      "text/plain": [
       "(1548,)"
      ]
     },
     "execution_count": 166,
     "metadata": {},
     "output_type": "execute_result"
    }
   ],
   "source": [
    "#Use the mean of the two raters as the target output (removing the nan, where the photo is not available)\n",
    "\n",
    "#Removing the mean rating column and storing it into a new dataframe\n",
    "playersNoNan = players.dropna()\n",
    "data_features = playersNoNan.drop('meanRating',axis=1)\n",
    "\n",
    "\n",
    "#We will define the function to transform the ratings.\n",
    "\n",
    "def transform_rating(series):\n",
    "    if series <= 0.5:\n",
    "        return 0.0\n",
    "    else:\n",
    "        return 1.0\n",
    "    \n",
    "labels = playersNoNan['meanRating'].apply(transform_rating)\n",
    "labels.shape\n",
    "\n",
    "#labels = np.asarray(labels, dtype=\"|S6\")"
   ]
  },
  {
   "cell_type": "code",
   "execution_count": 167,
   "metadata": {
    "collapsed": false
   },
   "outputs": [
    {
     "ename": "SyntaxError",
     "evalue": "'return' outside function (<ipython-input-167-593d6c494ad9>, line 2)",
     "output_type": "error",
     "traceback": [
      "\u001b[0;36m  File \u001b[0;32m\"<ipython-input-167-593d6c494ad9>\"\u001b[0;36m, line \u001b[0;32m2\u001b[0m\n\u001b[0;31m    return 0.0\u001b[0m\n\u001b[0m    ^\u001b[0m\n\u001b[0;31mSyntaxError\u001b[0m\u001b[0;31m:\u001b[0m 'return' outside function\n"
     ]
    }
   ],
   "source": [
    "    if series < 0.25:\n",
    "        return 0.0\n",
    "    elif series < 0.75:\n",
    "        return 0.5\n",
    "    else:\n",
    "        return 1.0"
   ]
  },
  {
   "cell_type": "code",
   "execution_count": null,
   "metadata": {
    "collapsed": true
   },
   "outputs": [],
   "source": []
  },
  {
   "cell_type": "code",
   "execution_count": null,
   "metadata": {
    "collapsed": true
   },
   "outputs": [],
   "source": []
  },
  {
   "cell_type": "code",
   "execution_count": null,
   "metadata": {
    "collapsed": true
   },
   "outputs": [],
   "source": []
  },
  {
   "cell_type": "code",
   "execution_count": 6,
   "metadata": {
    "collapsed": false
   },
   "outputs": [
    {
     "data": {
      "text/html": [
       "<div>\n",
       "<table border=\"1\" class=\"dataframe\">\n",
       "  <thead>\n",
       "    <tr style=\"text-align: right;\">\n",
       "      <th></th>\n",
       "      <th>height</th>\n",
       "      <th>weight</th>\n",
       "      <th>games</th>\n",
       "      <th>victories</th>\n",
       "      <th>ties</th>\n",
       "      <th>defeats</th>\n",
       "      <th>goals</th>\n",
       "      <th>yellowCards</th>\n",
       "      <th>yellowReds</th>\n",
       "      <th>redCards</th>\n",
       "      <th>refNum</th>\n",
       "      <th>refCountry</th>\n",
       "      <th>meanIAT</th>\n",
       "      <th>nIAT</th>\n",
       "      <th>seIAT</th>\n",
       "      <th>meanExp</th>\n",
       "      <th>nExp</th>\n",
       "      <th>seExp</th>\n",
       "    </tr>\n",
       "  </thead>\n",
       "  <tbody>\n",
       "    <tr>\n",
       "      <th>0</th>\n",
       "      <td>177.0</td>\n",
       "      <td>72.0</td>\n",
       "      <td>1</td>\n",
       "      <td>0</td>\n",
       "      <td>0</td>\n",
       "      <td>1</td>\n",
       "      <td>0</td>\n",
       "      <td>0</td>\n",
       "      <td>0</td>\n",
       "      <td>0</td>\n",
       "      <td>1</td>\n",
       "      <td>1</td>\n",
       "      <td>0.326391</td>\n",
       "      <td>712.0</td>\n",
       "      <td>0.000564</td>\n",
       "      <td>0.396000</td>\n",
       "      <td>750.0</td>\n",
       "      <td>0.002696</td>\n",
       "    </tr>\n",
       "    <tr>\n",
       "      <th>1</th>\n",
       "      <td>179.0</td>\n",
       "      <td>82.0</td>\n",
       "      <td>1</td>\n",
       "      <td>0</td>\n",
       "      <td>0</td>\n",
       "      <td>1</td>\n",
       "      <td>0</td>\n",
       "      <td>1</td>\n",
       "      <td>0</td>\n",
       "      <td>0</td>\n",
       "      <td>2</td>\n",
       "      <td>2</td>\n",
       "      <td>0.203375</td>\n",
       "      <td>40.0</td>\n",
       "      <td>0.010875</td>\n",
       "      <td>-0.204082</td>\n",
       "      <td>49.0</td>\n",
       "      <td>0.061504</td>\n",
       "    </tr>\n",
       "    <tr>\n",
       "      <th>5</th>\n",
       "      <td>182.0</td>\n",
       "      <td>71.0</td>\n",
       "      <td>1</td>\n",
       "      <td>0</td>\n",
       "      <td>0</td>\n",
       "      <td>1</td>\n",
       "      <td>0</td>\n",
       "      <td>0</td>\n",
       "      <td>0</td>\n",
       "      <td>0</td>\n",
       "      <td>4</td>\n",
       "      <td>4</td>\n",
       "      <td>0.325185</td>\n",
       "      <td>127.0</td>\n",
       "      <td>0.003297</td>\n",
       "      <td>0.538462</td>\n",
       "      <td>130.0</td>\n",
       "      <td>0.013752</td>\n",
       "    </tr>\n",
       "    <tr>\n",
       "      <th>6</th>\n",
       "      <td>187.0</td>\n",
       "      <td>80.0</td>\n",
       "      <td>1</td>\n",
       "      <td>1</td>\n",
       "      <td>0</td>\n",
       "      <td>0</td>\n",
       "      <td>0</td>\n",
       "      <td>0</td>\n",
       "      <td>0</td>\n",
       "      <td>0</td>\n",
       "      <td>4</td>\n",
       "      <td>4</td>\n",
       "      <td>0.325185</td>\n",
       "      <td>127.0</td>\n",
       "      <td>0.003297</td>\n",
       "      <td>0.538462</td>\n",
       "      <td>130.0</td>\n",
       "      <td>0.013752</td>\n",
       "    </tr>\n",
       "    <tr>\n",
       "      <th>7</th>\n",
       "      <td>180.0</td>\n",
       "      <td>68.0</td>\n",
       "      <td>1</td>\n",
       "      <td>0</td>\n",
       "      <td>0</td>\n",
       "      <td>1</td>\n",
       "      <td>0</td>\n",
       "      <td>0</td>\n",
       "      <td>0</td>\n",
       "      <td>0</td>\n",
       "      <td>4</td>\n",
       "      <td>4</td>\n",
       "      <td>0.325185</td>\n",
       "      <td>127.0</td>\n",
       "      <td>0.003297</td>\n",
       "      <td>0.538462</td>\n",
       "      <td>130.0</td>\n",
       "      <td>0.013752</td>\n",
       "    </tr>\n",
       "    <tr>\n",
       "      <th>8</th>\n",
       "      <td>193.0</td>\n",
       "      <td>80.0</td>\n",
       "      <td>1</td>\n",
       "      <td>0</td>\n",
       "      <td>1</td>\n",
       "      <td>0</td>\n",
       "      <td>0</td>\n",
       "      <td>0</td>\n",
       "      <td>0</td>\n",
       "      <td>0</td>\n",
       "      <td>4</td>\n",
       "      <td>4</td>\n",
       "      <td>0.325185</td>\n",
       "      <td>127.0</td>\n",
       "      <td>0.003297</td>\n",
       "      <td>0.538462</td>\n",
       "      <td>130.0</td>\n",
       "      <td>0.013752</td>\n",
       "    </tr>\n",
       "    <tr>\n",
       "      <th>9</th>\n",
       "      <td>180.0</td>\n",
       "      <td>70.0</td>\n",
       "      <td>1</td>\n",
       "      <td>1</td>\n",
       "      <td>0</td>\n",
       "      <td>0</td>\n",
       "      <td>0</td>\n",
       "      <td>0</td>\n",
       "      <td>0</td>\n",
       "      <td>0</td>\n",
       "      <td>4</td>\n",
       "      <td>4</td>\n",
       "      <td>0.325185</td>\n",
       "      <td>127.0</td>\n",
       "      <td>0.003297</td>\n",
       "      <td>0.538462</td>\n",
       "      <td>130.0</td>\n",
       "      <td>0.013752</td>\n",
       "    </tr>\n",
       "    <tr>\n",
       "      <th>10</th>\n",
       "      <td>177.0</td>\n",
       "      <td>74.0</td>\n",
       "      <td>2</td>\n",
       "      <td>2</td>\n",
       "      <td>0</td>\n",
       "      <td>0</td>\n",
       "      <td>0</td>\n",
       "      <td>1</td>\n",
       "      <td>0</td>\n",
       "      <td>0</td>\n",
       "      <td>4</td>\n",
       "      <td>4</td>\n",
       "      <td>0.325185</td>\n",
       "      <td>127.0</td>\n",
       "      <td>0.003297</td>\n",
       "      <td>0.538462</td>\n",
       "      <td>130.0</td>\n",
       "      <td>0.013752</td>\n",
       "    </tr>\n",
       "    <tr>\n",
       "      <th>11</th>\n",
       "      <td>181.0</td>\n",
       "      <td>74.0</td>\n",
       "      <td>1</td>\n",
       "      <td>1</td>\n",
       "      <td>0</td>\n",
       "      <td>0</td>\n",
       "      <td>0</td>\n",
       "      <td>0</td>\n",
       "      <td>0</td>\n",
       "      <td>0</td>\n",
       "      <td>4</td>\n",
       "      <td>4</td>\n",
       "      <td>0.325185</td>\n",
       "      <td>127.0</td>\n",
       "      <td>0.003297</td>\n",
       "      <td>0.538462</td>\n",
       "      <td>130.0</td>\n",
       "      <td>0.013752</td>\n",
       "    </tr>\n",
       "    <tr>\n",
       "      <th>12</th>\n",
       "      <td>187.0</td>\n",
       "      <td>80.0</td>\n",
       "      <td>1</td>\n",
       "      <td>1</td>\n",
       "      <td>0</td>\n",
       "      <td>0</td>\n",
       "      <td>0</td>\n",
       "      <td>0</td>\n",
       "      <td>0</td>\n",
       "      <td>0</td>\n",
       "      <td>4</td>\n",
       "      <td>4</td>\n",
       "      <td>0.325185</td>\n",
       "      <td>127.0</td>\n",
       "      <td>0.003297</td>\n",
       "      <td>0.538462</td>\n",
       "      <td>130.0</td>\n",
       "      <td>0.013752</td>\n",
       "    </tr>\n",
       "  </tbody>\n",
       "</table>\n",
       "</div>"
      ],
      "text/plain": [
       "    height  weight  games  victories  ties  defeats  goals  yellowCards  \\\n",
       "0    177.0    72.0      1          0     0        1      0            0   \n",
       "1    179.0    82.0      1          0     0        1      0            1   \n",
       "5    182.0    71.0      1          0     0        1      0            0   \n",
       "6    187.0    80.0      1          1     0        0      0            0   \n",
       "7    180.0    68.0      1          0     0        1      0            0   \n",
       "8    193.0    80.0      1          0     1        0      0            0   \n",
       "9    180.0    70.0      1          1     0        0      0            0   \n",
       "10   177.0    74.0      2          2     0        0      0            1   \n",
       "11   181.0    74.0      1          1     0        0      0            0   \n",
       "12   187.0    80.0      1          1     0        0      0            0   \n",
       "\n",
       "    yellowReds  redCards  refNum  refCountry   meanIAT   nIAT     seIAT  \\\n",
       "0            0         0       1           1  0.326391  712.0  0.000564   \n",
       "1            0         0       2           2  0.203375   40.0  0.010875   \n",
       "5            0         0       4           4  0.325185  127.0  0.003297   \n",
       "6            0         0       4           4  0.325185  127.0  0.003297   \n",
       "7            0         0       4           4  0.325185  127.0  0.003297   \n",
       "8            0         0       4           4  0.325185  127.0  0.003297   \n",
       "9            0         0       4           4  0.325185  127.0  0.003297   \n",
       "10           0         0       4           4  0.325185  127.0  0.003297   \n",
       "11           0         0       4           4  0.325185  127.0  0.003297   \n",
       "12           0         0       4           4  0.325185  127.0  0.003297   \n",
       "\n",
       "     meanExp   nExp     seExp  \n",
       "0   0.396000  750.0  0.002696  \n",
       "1  -0.204082   49.0  0.061504  \n",
       "5   0.538462  130.0  0.013752  \n",
       "6   0.538462  130.0  0.013752  \n",
       "7   0.538462  130.0  0.013752  \n",
       "8   0.538462  130.0  0.013752  \n",
       "9   0.538462  130.0  0.013752  \n",
       "10  0.538462  130.0  0.013752  \n",
       "11  0.538462  130.0  0.013752  \n",
       "12  0.538462  130.0  0.013752  "
      ]
     },
     "execution_count": 6,
     "metadata": {},
     "output_type": "execute_result"
    }
   ],
   "source": [
    "\n",
    "\n",
    "#remove non numerical columns as we want to predict a continuous value\n",
    "\n",
    "data_clean3 = data_clean2.select_dtypes(include=['int', 'float'])\n",
    "\n",
    "data_features = data_clean3.fillna(0)\n",
    "\n",
    "#Features data\n",
    "data_features.head(10)"
   ]
  },
  {
   "cell_type": "code",
   "execution_count": 203,
   "metadata": {
    "collapsed": false
   },
   "outputs": [
    {
     "name": "stdout",
     "output_type": "stream",
     "text": [
      "<class 'pandas.core.series.Series'>\n",
      "<class 'pandas.core.series.Series'>\n",
      "0    0.0\n",
      "1    1.0\n",
      "5    0.0\n",
      "6    0.0\n",
      "7    1.0\n",
      "dtype: float64\n"
     ]
    },
    {
     "data": {
      "text/plain": [
       "(124621,)"
      ]
     },
     "execution_count": 203,
     "metadata": {},
     "output_type": "execute_result"
    }
   ],
   "source": [
    "#Use the mean of the two raters as the target output (removing the nan, where the photo is not available)\n",
    "\n",
    "#Labels outputs in the form of series\n",
    "data_labels = ((data['rater1']+data['rater2'])/2).dropna()\n",
    "print(type(data_labels))\n",
    "\n",
    "# Binarization of the output. A rating smaller than 0.4 is equivalent to white\n",
    "data_labels[data_labels < 0.4] = 0.000\n",
    "data_labels[data_labels >= 0.4] = 1.000\n",
    "\n",
    "print(type(data_labels))\n",
    "print(data_labels.head())\n",
    "data_labels.shape"
   ]
  },
  {
   "cell_type": "code",
   "execution_count": 168,
   "metadata": {
    "collapsed": false
   },
   "outputs": [
    {
     "name": "stdout",
     "output_type": "stream",
     "text": [
      "0.978036175711\n"
     ]
    }
   ],
   "source": [
    "from sklearn.ensemble import RandomForestClassifier\n",
    "\n",
    "#Training accuracy of the random forest classifier on all data\n",
    "\n",
    "randomforest = RandomForestClassifier()\n",
    "\n",
    "randomforest.fit(data_features,labels)\n",
    "\n",
    "data_predict = randomforest.predict(data_features)\n",
    "\n",
    "# compute classification accuracy for the Random forest classifier model\n",
    "from sklearn import metrics\n",
    "print(metrics.accuracy_score(labels, data_predict))\n"
   ]
  },
  {
   "cell_type": "markdown",
   "metadata": {},
   "source": [
    "We see that we obtain a high accurary. But this is only training accuracy obtained by testing our model on the same data used to train it and it doesn't reliably represent the accuracy of the model. For that we need testing accuracy by testing the model on data that were not used for training. We can further increase the reliability by perfoming crossvalidation. This is what is done here after for 10-folds.\n"
   ]
  },
  {
   "cell_type": "code",
   "execution_count": 209,
   "metadata": {
    "collapsed": false
   },
   "outputs": [
    {
     "name": "stdout",
     "output_type": "stream",
     "text": [
      "[ 0.82580645  0.89677419  0.8516129   0.83225806  0.83870968  0.8516129\n",
      "  0.86451613  0.8516129   0.83870968  0.8627451 ]\n"
     ]
    }
   ],
   "source": [
    "from sklearn.cross_validation import cross_val_score\n",
    "\n",
    "# 10-fold cross-validation\n",
    "\n",
    "randomforest = RandomForestClassifier(n_estimators=30)\n",
    "scores = cross_val_score(randomforest, data_features, labels, cv=10, scoring='accuracy')\n",
    "print(scores)\n"
   ]
  },
  {
   "cell_type": "markdown",
   "metadata": {},
   "source": [
    "With this crossvalidation we obtain a test accuracy for each 10 folds. We can observe that each testing accuracy is well under the training accuracy obtained before. \n",
    "\n",
    "We take the average of the 10 testing accuracy to have a reliable value for the testing accuracy of the Random Forest model we used."
   ]
  },
  {
   "cell_type": "code",
   "execution_count": 210,
   "metadata": {
    "collapsed": false
   },
   "outputs": [
    {
     "data": {
      "text/plain": [
       "0.85143580012650211"
      ]
     },
     "execution_count": 210,
     "metadata": {},
     "output_type": "execute_result"
    }
   ],
   "source": [
    "scores.mean()"
   ]
  },
  {
   "cell_type": "markdown",
   "metadata": {},
   "source": [
    "The average testing accuracy is 77% which is not bad but will often make mistake when trying to predict the color of the skin of a player. We will try to improve the scores with features engineerings and by playing with the hyperparameters of the RandomForest model\n"
   ]
  },
  {
   "cell_type": "markdown",
   "metadata": {},
   "source": [
    "Here we test the criterion parameter to see if it leads to change in accuracy"
   ]
  },
  {
   "cell_type": "code",
   "execution_count": 171,
   "metadata": {
    "collapsed": false
   },
   "outputs": [
    {
     "name": "stdout",
     "output_type": "stream",
     "text": [
      "[ 0.84516129  0.89677419  0.8516129   0.82580645  0.83870968  0.83870968\n",
      "  0.87741935  0.83225806  0.8516129   0.86928105]\n"
     ]
    },
    {
     "data": {
      "text/plain": [
       "0.85273455618806671"
      ]
     },
     "execution_count": 171,
     "metadata": {},
     "output_type": "execute_result"
    }
   ],
   "source": [
    "# testing the criterion parameter set to 'entropy' (Instead of the default 'gini')\n",
    "\n",
    "randomforest = RandomForestClassifier(criterion='entropy')\n",
    "scores = cross_val_score(randomforest, data_features,labels, cv=10, scoring='accuracy')\n",
    "print(scores)\n",
    "\n",
    "scores.mean()"
   ]
  },
  {
   "cell_type": "markdown",
   "metadata": {},
   "source": [
    "Using the criterion 'entropy' instead of the default 'gini' (for the Gini impurity) lead to a slightly worse average testing accuracy."
   ]
  },
  {
   "cell_type": "markdown",
   "metadata": {},
   "source": [
    "To show the impact of the parameters of the RandomForestClassifier over the overfitting issue we will plot the training and testing accuracy againt different value for tested parameters. We will not use crossvalidation as before as it return the testing accuracy and not the training accuracy. Instead the data set will simply be split into training data and testing data (40% for testing data).\n"
   ]
  },
  {
   "cell_type": "code",
   "execution_count": 172,
   "metadata": {
    "collapsed": true
   },
   "outputs": [],
   "source": [
    "#split data_features and data_labels into training and testing sets\n",
    "from sklearn.cross_validation import train_test_split\n",
    "features_train, features_test, labels_train, labels_test = train_test_split(data_features, labels, test_size=0.4, random_state=4)\n"
   ]
  },
  {
   "cell_type": "markdown",
   "metadata": {},
   "source": [
    "Here we will the see the impact of the parameter 'min_samples_split' which represent the minimum number of samples required to split an internal node. This means that a a bigger number will simplify the model and that the value 2 (the minimum possible) represent the maximum complexity relatively to this parameter."
   ]
  },
  {
   "cell_type": "code",
   "execution_count": 183,
   "metadata": {
    "collapsed": false
   },
   "outputs": [
    {
     "name": "stdout",
     "output_type": "stream",
     "text": [
      "[2, 3, 4, 5, 6, 7, 8, 9, 10, 11, 12, 13, 14, 15]\n"
     ]
    }
   ],
   "source": [
    "\n",
    "#Hyperparameter 'min_samples_split'\n",
    "\n",
    "split_range = list(range(2,16))\n",
    "print(split_range)\n",
    "scores_test = []\n",
    "scores_train = []\n",
    "for number in split_range:\n",
    "    randomforest = RandomForestClassifier(min_samples_split=number)\n",
    "    randomforest.fit(features_train, labels_train)\n",
    "    labels_pred_test = randomforest.predict(features_test) #testing prediction\n",
    "    labels_pred_train = randomforest.predict(features_train) #training prediction\n",
    "    \n",
    "    scores_test.append(metrics.accuracy_score(labels_test, labels_pred_test)) \n",
    "    scores_train.append(metrics.accuracy_score(labels_train, labels_pred_train)) "
   ]
  },
  {
   "cell_type": "markdown",
   "metadata": {},
   "source": [
    "Now we plot the result for the testing and training accuracy agains the different value of the hyperparameter"
   ]
  },
  {
   "cell_type": "code",
   "execution_count": 184,
   "metadata": {
    "collapsed": false
   },
   "outputs": [
    {
     "data": {
      "text/plain": [
       "<matplotlib.legend.Legend at 0x1243b0d68>"
      ]
     },
     "execution_count": 184,
     "metadata": {},
     "output_type": "execute_result"
    },
    {
     "data": {
      "image/png": "[encoded data removed]",
      "text/plain": [
       "<matplotlib.figure.Figure at 0x1242c75c0>"
      ]
     },
     "metadata": {},
     "output_type": "display_data"
    }
   ],
   "source": [
    "# import Matplotlib (scientific plotting library)\n",
    "import matplotlib.pyplot as plt\n",
    "import matplotlib.patches as mpatches\n",
    "\n",
    "# allow plots to appear within the notebook\n",
    "%matplotlib inline\n",
    "\n",
    "# plot the relationship between K and testing accuracy\n",
    "plt.plot(split_range, scores_test, label='training accuracy')\n",
    "plt.xlabel('Value of number of sample to split an internal node')\n",
    "plt.ylabel('Testing Accuracy')\n",
    "\n",
    "plt.plot(split_range, scores_train, label='testing error')\n",
    "plt.xlabel('Value of number of sample to split an internal node')\n",
    "plt.ylabel('Accuracy')\n",
    "\n",
    "blue = mpatches.Patch(color='blue', label='testing accuracy')\n",
    "green = mpatches.Patch(color='green', label='training accuracy')\n",
    "plt.legend(handles=[blue, green])\n",
    "\n",
    "\n",
    "\n",
    "\n"
   ]
  },
  {
   "cell_type": "markdown",
   "metadata": {},
   "source": [
    "Indeed we can see that the training accuracy is decreasing with the simplification of the model while the testing accuracy is staying roughly the same (taking the variance into account). In other words the model is overfitting to the training data when we use a small value for this parameter. To be precise, as the testing accuracy doesn't seems to be impacted strongly by the parameter change, the overfitting issue is not really important. True overfitting is when the training accuracy augment while the testing accuracy decrease, which means our model will not generalize well."
   ]
  },
  {
   "cell_type": "markdown",
   "metadata": {},
   "source": [
    "Now we will test the n_estimator parameter which represent the number of trees in the forest. This parameter is directly related to the complexity the of the model. Bigger estimator values means more trees which means more complex model."
   ]
  },
  {
   "cell_type": "code",
   "execution_count": 181,
   "metadata": {
    "collapsed": false
   },
   "outputs": [],
   "source": [
    "\n",
    "#Hyperparameter estimator\n",
    "\n",
    "estimator_range = list(range(5,35))\n",
    "scores_test = []\n",
    "scores_train = []\n",
    "for number in estimator_range:\n",
    "    randomforest = RandomForestClassifier(n_estimators=number)\n",
    "    randomforest.fit(features_train, labels_train)\n",
    "    labels_pred_test = randomforest.predict(features_test) #testing prediction\n",
    "    labels_pred_train = randomforest.predict(features_train) #training prediction\n",
    "    \n",
    "    scores_test.append(metrics.accuracy_score(labels_test, labels_pred_test)) \n",
    "    scores_train.append(metrics.accuracy_score(labels_train, labels_pred_train)) \n",
    "    \n",
    "    \n",
    "    "
   ]
  },
  {
   "cell_type": "code",
   "execution_count": 182,
   "metadata": {
    "collapsed": false
   },
   "outputs": [
    {
     "data": {
      "text/plain": [
       "<matplotlib.text.Text at 0x12491d6d8>"
      ]
     },
     "execution_count": 182,
     "metadata": {},
     "output_type": "execute_result"
    },
    {
     "data": {
      "image/png": "[encoded data removed]",
      "text/plain": [
       "<matplotlib.figure.Figure at 0x1246ff748>"
      ]
     },
     "metadata": {},
     "output_type": "display_data"
    }
   ],
   "source": [
    "# import Matplotlib (scientific plotting library)\n",
    "import matplotlib.pyplot as plt\n",
    "\n",
    "# allow plots to appear within the notebook\n",
    "%matplotlib inline\n",
    "\n",
    "# plot the relationship between K and testing accuracy\n",
    "plt.plot(estimator_range, scores_test,'r')\n",
    "plt.xlabel('Value of number of sample to split an internal node')\n",
    "plt.ylabel('Testing Accuracy')\n",
    "\n",
    "plt.plot(estimator_range, scores_train,'g')\n",
    "plt.xlabel('Value of number of sample to split an internal node')\n",
    "plt.ylabel('Training Accuracy')"
   ]
  },
  {
   "cell_type": "markdown",
   "metadata": {
    "collapsed": true
   },
   "source": [
    "Here the training accuracy increase continuously while the testing accuracy increase slighlty at the beginning and then reach a plateau (taking the variance into account). Thus the model is overfitting to the training data when we use a too large number of trees (a complex model)"
   ]
  },
  {
   "cell_type": "code",
   "execution_count": null,
   "metadata": {
    "collapsed": true
   },
   "outputs": [],
   "source": []
  },
  {
   "cell_type": "markdown",
   "metadata": {
    "collapsed": true
   },
   "source": [
    "Now we will try to find the best value for the n_estimator parameter using cross validation. We run cross validation for each parameter value and plot the result to see if some value obtain better accuracy. As the number of players is relatively low, even the use of cross validation cannot suppress all the variation."
   ]
  },
  {
   "cell_type": "code",
   "execution_count": 187,
   "metadata": {
    "collapsed": false
   },
   "outputs": [
    {
     "name": "stdout",
     "output_type": "stream",
     "text": [
      "[0.81978916297701887, 0.8378621125869703, 0.83847353995361595, 0.83400801180687334, 0.8320303605313093, 0.83788741302972802, 0.84174151380982509, 0.84562091503267978, 0.8443221589711154, 0.84371073160446974, 0.84239510858106681, 0.84626607632300233, 0.8443221589711154, 0.84693653805608271, 0.84690280413240571, 0.85079907231709895, 0.84625764284208316, 0.85400801180687336, 0.84691967109424426, 0.8462745098039216, 0.84758169934640526, 0.8514442336074215, 0.8443221589711154, 0.85469534050179219, 0.84886358844613119, 0.84950874973645374, 0.84951718321737302, 0.84950874973645374, 0.85274298966898576, 0.85144423360742161, 0.84950874973645374, 0.85146110056925983, 0.84888045540796964, 0.85014547754585712, 0.85014547754585712, 0.85082437275985667, 0.84758169934640526, 0.85016234450769568, 0.85016234450769557, 0.85337971747838925, 0.84757326586548598, 0.85272612270714743, 0.84886358844613119, 0.85400801180687336, 0.85145266708834078]\n"
     ]
    }
   ],
   "source": [
    "# search for an optimal value of minimal number of samples required to split an internal node\n",
    "#Hyperparameter 'min_samples_split'\n",
    "\n",
    "#We make a 5 folds crossvalidation for each value of the hyperparameter (Not 10 as before for computation time reason)\n",
    "\n",
    "split_range = list(range(5, 50))\n",
    "split_scores = []\n",
    "for number in split_range:\n",
    "    randomforest = RandomForestClassifier(n_estimators=number)\n",
    "    scores = cross_val_score(randomforest, data_features, labels, cv=10, scoring='accuracy')\n",
    "    split_scores.append(scores.mean())\n",
    "print(split_scores)"
   ]
  },
  {
   "cell_type": "code",
   "execution_count": 188,
   "metadata": {
    "collapsed": false
   },
   "outputs": [
    {
     "data": {
      "text/plain": [
       "<matplotlib.text.Text at 0x124b14048>"
      ]
     },
     "execution_count": 188,
     "metadata": {},
     "output_type": "execute_result"
    },
    {
     "data": {
      "image/png": "[encoded data removed]",
      "text/plain": [
       "<matplotlib.figure.Figure at 0x1249ff8d0>"
      ]
     },
     "metadata": {},
     "output_type": "display_data"
    }
   ],
   "source": [
    "import matplotlib.pyplot as plt\n",
    "%matplotlib inline\n",
    "\n",
    "plt.plot(split_range, split_scores)\n",
    "plt.xlabel('Value of split number for random forest')\n",
    "plt.ylabel('Cross-Validated Accuracy')"
   ]
  },
  {
   "cell_type": "markdown",
   "metadata": {},
   "source": [
    "We can observe that the accuracy increase before reaching a 'plateau' around value of 30. So using a value of 30 seems enough complexity for the model, but less than 15 could be bad."
   ]
  },
  {
   "cell_type": "markdown",
   "metadata": {},
   "source": [
    "Performing PCA on the features data set doesn't increase the accuracy. It even decrease it a little."
   ]
  },
  {
   "cell_type": "code",
   "execution_count": 214,
   "metadata": {
    "collapsed": false
   },
   "outputs": [
    {
     "name": "stdout",
     "output_type": "stream",
     "text": [
      "[ 0.83225806  0.86451613  0.84516129  0.81935484  0.83870968  0.83225806\n",
      "  0.81935484  0.83225806  0.83870968  0.84313725]\n"
     ]
    },
    {
     "data": {
      "text/plain": [
       "0.83657179000632509"
      ]
     },
     "execution_count": 214,
     "metadata": {},
     "output_type": "execute_result"
    }
   ],
   "source": [
    "from sklearn.decomposition import PCA\n",
    "\n",
    "pca = PCA(n_components=10)\n",
    "\n",
    "data_features_pca = pca.fit_transform(data_features)\n",
    "\n",
    "\n",
    "randomforest = RandomForestClassifier(criterion='entropy', n_estimators=35)\n",
    "scores = cross_val_score(randomforest, data_features_pca, labels, cv=10, scoring='accuracy')\n",
    "print(scores)\n",
    "\n",
    "scores.mean()"
   ]
  },
  {
   "cell_type": "code",
   "execution_count": null,
   "metadata": {
    "collapsed": true
   },
   "outputs": [],
   "source": []
  },
  {
   "cell_type": "code",
   "execution_count": null,
   "metadata": {
    "collapsed": true
   },
   "outputs": [],
   "source": []
  },
  {
   "cell_type": "markdown",
   "metadata": {},
   "source": [
    "Now we will investigate feature importance."
   ]
  },
  {
   "cell_type": "code",
   "execution_count": 218,
   "metadata": {
    "collapsed": false
   },
   "outputs": [
    {
     "data": {
      "text/plain": [
       "RandomForestClassifier(bootstrap=True, class_weight=None, criterion='gini',\n",
       "            max_depth=None, max_features='auto', max_leaf_nodes=None,\n",
       "            min_samples_leaf=1, min_samples_split=2,\n",
       "            min_weight_fraction_leaf=0.0, n_estimators=10, n_jobs=1,\n",
       "            oob_score=False, random_state=None, verbose=0,\n",
       "            warm_start=False)"
      ]
     },
     "execution_count": 218,
     "metadata": {},
     "output_type": "execute_result"
    }
   ],
   "source": [
    "randomforest = RandomForestClassifier()\n",
    "\n",
    "randomforest.fit(data_features,labels)\n"
   ]
  },
  {
   "cell_type": "code",
   "execution_count": 219,
   "metadata": {
    "collapsed": false
   },
   "outputs": [
    {
     "data": {
      "text/plain": [
       "array([ 0.05548303,  0.14521443,  0.10104221,  0.02440488,  0.0533769 ,\n",
       "        0.10308295,  0.06190125,  0.03157259,  0.07017834,  0.05881271,\n",
       "        0.0533257 ,  0.13081826,  0.05456656,  0.05622017])"
      ]
     },
     "execution_count": 219,
     "metadata": {},
     "output_type": "execute_result"
    }
   ],
   "source": [
    "randomforest.feature_importances_"
   ]
  },
  {
   "cell_type": "code",
   "execution_count": 220,
   "metadata": {
    "collapsed": false
   },
   "outputs": [
    {
     "name": "stdout",
     "output_type": "stream",
     "text": [
      "[(0.1452, 'meanIAT'), (0.1308, 'seExp'), (0.1031, 'meanExp'), (0.10100000000000001, 'seIAT'), (0.070199999999999999, 'victories'), (0.061899999999999997, 'goals'), (0.058799999999999998, 'games'), (0.0562, 'yellowCards'), (0.055500000000000001, 'height'), (0.054600000000000003, 'ties'), (0.053400000000000003, 'weight'), (0.0533, 'defeats'), (0.031600000000000003, 'redCards'), (0.024400000000000002, 'yellowReds')]\n"
     ]
    }
   ],
   "source": [
    "\n",
    "Feature_name = data_features.columns # Get Column Headings of our Dataframe\n",
    "\n",
    "print((sorted(zip(map(lambda value: round(value, 4), randomforest.feature_importances_), Feature_name), \n",
    "             reverse=True))) "
   ]
  },
  {
   "cell_type": "code",
   "execution_count": null,
   "metadata": {
    "collapsed": true
   },
   "outputs": [],
   "source": []
  },
  {
   "cell_type": "code",
   "execution_count": null,
   "metadata": {
    "collapsed": true
   },
   "outputs": [],
   "source": []
  },
  {
   "cell_type": "code",
   "execution_count": null,
   "metadata": {
    "collapsed": true
   },
   "outputs": [],
   "source": []
  }
 ],
 "metadata": {
  "anaconda-cloud": {},
  "kernelspec": {
   "display_name": "Python [conda root]",
   "language": "python",
   "name": "conda-root-py"
  },
  "language_info": {
   "codemirror_mode": {
    "name": "ipython",
    "version": 3
   },
   "file_extension": ".py",
   "mimetype": "text/x-python",
   "name": "python",
   "nbconvert_exporter": "python",
   "pygments_lexer": "ipython3",
   "version": "3.5.2"
  }
 },
 "nbformat": 4,
 "nbformat_minor": 0
}
