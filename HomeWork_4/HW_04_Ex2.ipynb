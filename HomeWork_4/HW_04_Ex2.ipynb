{
 "cells": [
  {
   "cell_type": "markdown",
   "metadata": {},
   "source": [
    "### Exercice 4, part 2:"
   ]
  },
  {
   "cell_type": "code",
   "execution_count": 2,
   "metadata": {
    "collapsed": false
   },
   "outputs": [
    {
     "name": "stdout",
     "output_type": "stream",
     "text": [
      "Populating the interactive namespace from numpy and matplotlib\n"
     ]
    }
   ],
   "source": [
    "import pandas as pd\n",
    "import numpy as np\n",
    "from sklearn.cluster import KMeans\n",
    "from sklearn import metrics\n",
    "%pylab inline"
   ]
  },
  {
   "cell_type": "code",
   "execution_count": 3,
   "metadata": {
    "collapsed": false
   },
   "outputs": [
    {
     "name": "stdout",
     "output_type": "stream",
     "text": [
      "Number of dyads : 146028\n"
     ]
    },
    {
     "data": {
      "text/html": [
       "<div>\n",
       "<table border=\"1\" class=\"dataframe\">\n",
       "  <thead>\n",
       "    <tr style=\"text-align: right;\">\n",
       "      <th></th>\n",
       "      <th>playerShort</th>\n",
       "      <th>player</th>\n",
       "      <th>club</th>\n",
       "      <th>leagueCountry</th>\n",
       "      <th>birthday</th>\n",
       "      <th>height</th>\n",
       "      <th>weight</th>\n",
       "      <th>position</th>\n",
       "      <th>games</th>\n",
       "      <th>victories</th>\n",
       "      <th>...</th>\n",
       "      <th>rater2</th>\n",
       "      <th>refNum</th>\n",
       "      <th>refCountry</th>\n",
       "      <th>Alpha_3</th>\n",
       "      <th>meanIAT</th>\n",
       "      <th>nIAT</th>\n",
       "      <th>seIAT</th>\n",
       "      <th>meanExp</th>\n",
       "      <th>nExp</th>\n",
       "      <th>seExp</th>\n",
       "    </tr>\n",
       "  </thead>\n",
       "  <tbody>\n",
       "    <tr>\n",
       "      <th>0</th>\n",
       "      <td>lucas-wilchez</td>\n",
       "      <td>Lucas Wilchez</td>\n",
       "      <td>Real Zaragoza</td>\n",
       "      <td>Spain</td>\n",
       "      <td>31.08.1983</td>\n",
       "      <td>177.0</td>\n",
       "      <td>72.0</td>\n",
       "      <td>Attacking Midfielder</td>\n",
       "      <td>1</td>\n",
       "      <td>0</td>\n",
       "      <td>...</td>\n",
       "      <td>0.50</td>\n",
       "      <td>1</td>\n",
       "      <td>1</td>\n",
       "      <td>GRC</td>\n",
       "      <td>0.326391</td>\n",
       "      <td>712.0</td>\n",
       "      <td>0.000564</td>\n",
       "      <td>0.396000</td>\n",
       "      <td>750.0</td>\n",
       "      <td>0.002696</td>\n",
       "    </tr>\n",
       "    <tr>\n",
       "      <th>1</th>\n",
       "      <td>john-utaka</td>\n",
       "      <td>John Utaka</td>\n",
       "      <td>Montpellier HSC</td>\n",
       "      <td>France</td>\n",
       "      <td>08.01.1982</td>\n",
       "      <td>179.0</td>\n",
       "      <td>82.0</td>\n",
       "      <td>Right Winger</td>\n",
       "      <td>1</td>\n",
       "      <td>0</td>\n",
       "      <td>...</td>\n",
       "      <td>0.75</td>\n",
       "      <td>2</td>\n",
       "      <td>2</td>\n",
       "      <td>ZMB</td>\n",
       "      <td>0.203375</td>\n",
       "      <td>40.0</td>\n",
       "      <td>0.010875</td>\n",
       "      <td>-0.204082</td>\n",
       "      <td>49.0</td>\n",
       "      <td>0.061504</td>\n",
       "    </tr>\n",
       "    <tr>\n",
       "      <th>2</th>\n",
       "      <td>abdon-prats</td>\n",
       "      <td>Abdón Prats</td>\n",
       "      <td>RCD Mallorca</td>\n",
       "      <td>Spain</td>\n",
       "      <td>17.12.1992</td>\n",
       "      <td>181.0</td>\n",
       "      <td>79.0</td>\n",
       "      <td>NaN</td>\n",
       "      <td>1</td>\n",
       "      <td>0</td>\n",
       "      <td>...</td>\n",
       "      <td>NaN</td>\n",
       "      <td>3</td>\n",
       "      <td>3</td>\n",
       "      <td>ESP</td>\n",
       "      <td>0.369894</td>\n",
       "      <td>1785.0</td>\n",
       "      <td>0.000229</td>\n",
       "      <td>0.588297</td>\n",
       "      <td>1897.0</td>\n",
       "      <td>0.001002</td>\n",
       "    </tr>\n",
       "    <tr>\n",
       "      <th>3</th>\n",
       "      <td>pablo-mari</td>\n",
       "      <td>Pablo Marí</td>\n",
       "      <td>RCD Mallorca</td>\n",
       "      <td>Spain</td>\n",
       "      <td>31.08.1993</td>\n",
       "      <td>191.0</td>\n",
       "      <td>87.0</td>\n",
       "      <td>Center Back</td>\n",
       "      <td>1</td>\n",
       "      <td>1</td>\n",
       "      <td>...</td>\n",
       "      <td>NaN</td>\n",
       "      <td>3</td>\n",
       "      <td>3</td>\n",
       "      <td>ESP</td>\n",
       "      <td>0.369894</td>\n",
       "      <td>1785.0</td>\n",
       "      <td>0.000229</td>\n",
       "      <td>0.588297</td>\n",
       "      <td>1897.0</td>\n",
       "      <td>0.001002</td>\n",
       "    </tr>\n",
       "    <tr>\n",
       "      <th>4</th>\n",
       "      <td>ruben-pena</td>\n",
       "      <td>Rubén Peña</td>\n",
       "      <td>Real Valladolid</td>\n",
       "      <td>Spain</td>\n",
       "      <td>18.07.1991</td>\n",
       "      <td>172.0</td>\n",
       "      <td>70.0</td>\n",
       "      <td>Right Midfielder</td>\n",
       "      <td>1</td>\n",
       "      <td>1</td>\n",
       "      <td>...</td>\n",
       "      <td>NaN</td>\n",
       "      <td>3</td>\n",
       "      <td>3</td>\n",
       "      <td>ESP</td>\n",
       "      <td>0.369894</td>\n",
       "      <td>1785.0</td>\n",
       "      <td>0.000229</td>\n",
       "      <td>0.588297</td>\n",
       "      <td>1897.0</td>\n",
       "      <td>0.001002</td>\n",
       "    </tr>\n",
       "  </tbody>\n",
       "</table>\n",
       "<p>5 rows × 28 columns</p>\n",
       "</div>"
      ],
      "text/plain": [
       "     playerShort         player             club leagueCountry    birthday  \\\n",
       "0  lucas-wilchez  Lucas Wilchez    Real Zaragoza         Spain  31.08.1983   \n",
       "1     john-utaka     John Utaka  Montpellier HSC        France  08.01.1982   \n",
       "2    abdon-prats    Abdón Prats     RCD Mallorca         Spain  17.12.1992   \n",
       "3     pablo-mari     Pablo Marí     RCD Mallorca         Spain  31.08.1993   \n",
       "4     ruben-pena     Rubén Peña  Real Valladolid         Spain  18.07.1991   \n",
       "\n",
       "   height  weight              position  games  victories    ...     rater2  \\\n",
       "0   177.0    72.0  Attacking Midfielder      1          0    ...       0.50   \n",
       "1   179.0    82.0          Right Winger      1          0    ...       0.75   \n",
       "2   181.0    79.0                   NaN      1          0    ...        NaN   \n",
       "3   191.0    87.0           Center Back      1          1    ...        NaN   \n",
       "4   172.0    70.0      Right Midfielder      1          1    ...        NaN   \n",
       "\n",
       "   refNum  refCountry  Alpha_3   meanIAT    nIAT     seIAT   meanExp    nExp  \\\n",
       "0       1           1      GRC  0.326391   712.0  0.000564  0.396000   750.0   \n",
       "1       2           2      ZMB  0.203375    40.0  0.010875 -0.204082    49.0   \n",
       "2       3           3      ESP  0.369894  1785.0  0.000229  0.588297  1897.0   \n",
       "3       3           3      ESP  0.369894  1785.0  0.000229  0.588297  1897.0   \n",
       "4       3           3      ESP  0.369894  1785.0  0.000229  0.588297  1897.0   \n",
       "\n",
       "      seExp  \n",
       "0  0.002696  \n",
       "1  0.061504  \n",
       "2  0.001002  \n",
       "3  0.001002  \n",
       "4  0.001002  \n",
       "\n",
       "[5 rows x 28 columns]"
      ]
     },
     "execution_count": 3,
     "metadata": {},
     "output_type": "execute_result"
    }
   ],
   "source": [
    "data = pd.read_csv('CrowdstormingDataJuly1st.csv')\n",
    "print('Number of dyads :',len(data))\n",
    "data.head()"
   ]
  },
  {
   "cell_type": "markdown",
   "metadata": {},
   "source": [
    "Let's begin by removing all NaN values in the data set."
   ]
  },
  {
   "cell_type": "code",
   "execution_count": 13,
   "metadata": {
    "collapsed": false
   },
   "outputs": [
    {
     "name": "stdout",
     "output_type": "stream",
     "text": [
      "Percentage of rows kept : 79.0649738406333  %\n"
     ]
    }
   ],
   "source": [
    "dataClean = data.dropna()\n",
    "print('Percentage of rows kept :', len(dataClean)/len(data)*100,' %')"
   ]
  },
  {
   "cell_type": "markdown",
   "metadata": {},
   "source": [
    "As shown in a previous analysis from this [notebook](http://nbviewer.jupyter.org/github/mathewzilla/redcard/blob/master/Crowdstorming_visualisation.ipynb) it was shown that there is a problem regarding data coming from other leagues than the four of interest. For each player there are his games during his entire career, not only the games in the four leagues where the data comes from.\n",
    "\n",
    "To keep only the main games, we keep referee-dyad players that are present more than 22 times (if a referee officiated 1 matches in a league, he will be present 22 times or more, as there are 22 players in a match)."
   ]
  },
  {
   "cell_type": "code",
   "execution_count": 14,
   "metadata": {
    "collapsed": false
   },
   "outputs": [],
   "source": [
    "refs = dataClean.refNum.value_counts()\n",
    "\n",
    "#We pick only the lines where the referee was more than 22 times.\n",
    "goodRefs = refs[refs>21]\n",
    "\n",
    "dataGood = dataClean[dataClean.refNum.isin(goodRefs.index.values)] "
   ]
  },
  {
   "cell_type": "markdown",
   "metadata": {},
   "source": [
    "Now we also see again that the two raters disagree quite often."
   ]
  },
  {
   "cell_type": "code",
   "execution_count": 15,
   "metadata": {
    "collapsed": false
   },
   "outputs": [
    {
     "name": "stdout",
     "output_type": "stream",
     "text": [
      "Number of cases where the two raters agree : 76.5430075391  %\n"
     ]
    }
   ],
   "source": [
    "print('Number of cases where the two raters agree :',\n",
    "      (dataGood.rater1 == dataGood.rater2).sum()/len(dataGood)*100, ' %')"
   ]
  },
  {
   "cell_type": "markdown",
   "metadata": {},
   "source": [
    "As wedo want to have something more direct to represent one player, we will comput the average of the two raters to have one rating per player, and add it as a column. We will create another data frame where we will do the modifications."
   ]
  },
  {
   "cell_type": "code",
   "execution_count": 122,
   "metadata": {
    "collapsed": false
   },
   "outputs": [],
   "source": [
    "dataCleanNew = dataClean.copy()\n",
    "dataCleanNew['mean rating'] = (dataClean.rater1.values + dataClean.rater2.values)/2\n",
    "\n",
    "#And then we get rid ot the original ratings.\n",
    "dataCleanNew.drop(['rater1','rater2'],axis=1,inplace=True)"
   ]
  },
  {
   "cell_type": "markdown",
   "metadata": {},
   "source": [
    "As we will do some agregating afterward we have to extract the mean rating for each player so that we do not loose the information during the aggregation of the groups."
   ]
  },
  {
   "cell_type": "code",
   "execution_count": 123,
   "metadata": {
    "collapsed": false
   },
   "outputs": [
    {
     "data": {
      "text/plain": [
       "(1417, 2)"
      ]
     },
     "execution_count": 123,
     "metadata": {},
     "output_type": "execute_result"
    }
   ],
   "source": [
    "#we get one rating per player\n",
    "playerRating = dataCleanNew.drop_duplicates(subset=['mean rating','player'])\n",
    "\n",
    "#And we keep only the name and the rating\n",
    "playerRating = playerRating[['player','mean rating']]\n",
    "playerRating.shape"
   ]
  },
  {
   "cell_type": "markdown",
   "metadata": {},
   "source": [
    "Let's try grouping by player. And observing only one player. "
   ]
  },
  {
   "cell_type": "code",
   "execution_count": 124,
   "metadata": {
    "collapsed": false
   },
   "outputs": [
    {
     "data": {
      "text/html": [
       "<div>\n",
       "<table border=\"1\" class=\"dataframe\">\n",
       "  <thead>\n",
       "    <tr style=\"text-align: right;\">\n",
       "      <th></th>\n",
       "      <th>playerShort</th>\n",
       "      <th>player</th>\n",
       "      <th>club</th>\n",
       "      <th>leagueCountry</th>\n",
       "      <th>birthday</th>\n",
       "      <th>height</th>\n",
       "      <th>weight</th>\n",
       "      <th>position</th>\n",
       "      <th>games</th>\n",
       "      <th>victories</th>\n",
       "      <th>...</th>\n",
       "      <th>refNum</th>\n",
       "      <th>refCountry</th>\n",
       "      <th>Alpha_3</th>\n",
       "      <th>meanIAT</th>\n",
       "      <th>nIAT</th>\n",
       "      <th>seIAT</th>\n",
       "      <th>meanExp</th>\n",
       "      <th>nExp</th>\n",
       "      <th>seExp</th>\n",
       "      <th>mean rating</th>\n",
       "    </tr>\n",
       "  </thead>\n",
       "  <tbody>\n",
       "    <tr>\n",
       "      <th>122</th>\n",
       "      <td>jean-armel-kana-biyik</td>\n",
       "      <td>Jean-Armel Kana-Biyik</td>\n",
       "      <td>Stade Rennes</td>\n",
       "      <td>France</td>\n",
       "      <td>03.07.1989</td>\n",
       "      <td>180.0</td>\n",
       "      <td>78.0</td>\n",
       "      <td>Right Fullback</td>\n",
       "      <td>1</td>\n",
       "      <td>1</td>\n",
       "      <td>...</td>\n",
       "      <td>7</td>\n",
       "      <td>7</td>\n",
       "      <td>FRA</td>\n",
       "      <td>0.334684</td>\n",
       "      <td>2882.0</td>\n",
       "      <td>0.000151</td>\n",
       "      <td>0.336101</td>\n",
       "      <td>3011.0</td>\n",
       "      <td>0.000586</td>\n",
       "      <td>0.75</td>\n",
       "    </tr>\n",
       "    <tr>\n",
       "      <th>951</th>\n",
       "      <td>jean-armel-kana-biyik</td>\n",
       "      <td>Jean-Armel Kana-Biyik</td>\n",
       "      <td>Stade Rennes</td>\n",
       "      <td>France</td>\n",
       "      <td>03.07.1989</td>\n",
       "      <td>180.0</td>\n",
       "      <td>78.0</td>\n",
       "      <td>Right Fullback</td>\n",
       "      <td>1</td>\n",
       "      <td>0</td>\n",
       "      <td>...</td>\n",
       "      <td>66</td>\n",
       "      <td>4</td>\n",
       "      <td>LUX</td>\n",
       "      <td>0.325185</td>\n",
       "      <td>127.0</td>\n",
       "      <td>0.003297</td>\n",
       "      <td>0.538462</td>\n",
       "      <td>130.0</td>\n",
       "      <td>0.013752</td>\n",
       "      <td>0.75</td>\n",
       "    </tr>\n",
       "    <tr>\n",
       "      <th>4614</th>\n",
       "      <td>jean-armel-kana-biyik</td>\n",
       "      <td>Jean-Armel Kana-Biyik</td>\n",
       "      <td>Stade Rennes</td>\n",
       "      <td>France</td>\n",
       "      <td>03.07.1989</td>\n",
       "      <td>180.0</td>\n",
       "      <td>78.0</td>\n",
       "      <td>Right Fullback</td>\n",
       "      <td>8</td>\n",
       "      <td>2</td>\n",
       "      <td>...</td>\n",
       "      <td>126</td>\n",
       "      <td>7</td>\n",
       "      <td>FRA</td>\n",
       "      <td>0.334684</td>\n",
       "      <td>2882.0</td>\n",
       "      <td>0.000151</td>\n",
       "      <td>0.336101</td>\n",
       "      <td>3011.0</td>\n",
       "      <td>0.000586</td>\n",
       "      <td>0.75</td>\n",
       "    </tr>\n",
       "    <tr>\n",
       "      <th>7147</th>\n",
       "      <td>jean-armel-kana-biyik</td>\n",
       "      <td>Jean-Armel Kana-Biyik</td>\n",
       "      <td>Stade Rennes</td>\n",
       "      <td>France</td>\n",
       "      <td>03.07.1989</td>\n",
       "      <td>180.0</td>\n",
       "      <td>78.0</td>\n",
       "      <td>Right Fullback</td>\n",
       "      <td>1</td>\n",
       "      <td>0</td>\n",
       "      <td>...</td>\n",
       "      <td>171</td>\n",
       "      <td>7</td>\n",
       "      <td>FRA</td>\n",
       "      <td>0.334684</td>\n",
       "      <td>2882.0</td>\n",
       "      <td>0.000151</td>\n",
       "      <td>0.336101</td>\n",
       "      <td>3011.0</td>\n",
       "      <td>0.000586</td>\n",
       "      <td>0.75</td>\n",
       "    </tr>\n",
       "    <tr>\n",
       "      <th>8258</th>\n",
       "      <td>jean-armel-kana-biyik</td>\n",
       "      <td>Jean-Armel Kana-Biyik</td>\n",
       "      <td>Stade Rennes</td>\n",
       "      <td>France</td>\n",
       "      <td>03.07.1989</td>\n",
       "      <td>180.0</td>\n",
       "      <td>78.0</td>\n",
       "      <td>Right Fullback</td>\n",
       "      <td>1</td>\n",
       "      <td>0</td>\n",
       "      <td>...</td>\n",
       "      <td>194</td>\n",
       "      <td>44</td>\n",
       "      <td>ENGL</td>\n",
       "      <td>0.326690</td>\n",
       "      <td>44791.0</td>\n",
       "      <td>0.000010</td>\n",
       "      <td>0.356446</td>\n",
       "      <td>46916.0</td>\n",
       "      <td>0.000037</td>\n",
       "      <td>0.75</td>\n",
       "    </tr>\n",
       "  </tbody>\n",
       "</table>\n",
       "<p>5 rows × 27 columns</p>\n",
       "</div>"
      ],
      "text/plain": [
       "                playerShort                 player          club  \\\n",
       "122   jean-armel-kana-biyik  Jean-Armel Kana-Biyik  Stade Rennes   \n",
       "951   jean-armel-kana-biyik  Jean-Armel Kana-Biyik  Stade Rennes   \n",
       "4614  jean-armel-kana-biyik  Jean-Armel Kana-Biyik  Stade Rennes   \n",
       "7147  jean-armel-kana-biyik  Jean-Armel Kana-Biyik  Stade Rennes   \n",
       "8258  jean-armel-kana-biyik  Jean-Armel Kana-Biyik  Stade Rennes   \n",
       "\n",
       "     leagueCountry    birthday  height  weight        position  games  \\\n",
       "122         France  03.07.1989   180.0    78.0  Right Fullback      1   \n",
       "951         France  03.07.1989   180.0    78.0  Right Fullback      1   \n",
       "4614        France  03.07.1989   180.0    78.0  Right Fullback      8   \n",
       "7147        France  03.07.1989   180.0    78.0  Right Fullback      1   \n",
       "8258        France  03.07.1989   180.0    78.0  Right Fullback      1   \n",
       "\n",
       "      victories     ...      refNum  refCountry  Alpha_3   meanIAT     nIAT  \\\n",
       "122           1     ...           7           7      FRA  0.334684   2882.0   \n",
       "951           0     ...          66           4      LUX  0.325185    127.0   \n",
       "4614          2     ...         126           7      FRA  0.334684   2882.0   \n",
       "7147          0     ...         171           7      FRA  0.334684   2882.0   \n",
       "8258          0     ...         194          44     ENGL  0.326690  44791.0   \n",
       "\n",
       "         seIAT   meanExp     nExp     seExp mean rating  \n",
       "122   0.000151  0.336101   3011.0  0.000586        0.75  \n",
       "951   0.003297  0.538462    130.0  0.013752        0.75  \n",
       "4614  0.000151  0.336101   3011.0  0.000586        0.75  \n",
       "7147  0.000151  0.336101   3011.0  0.000586        0.75  \n",
       "8258  0.000010  0.356446  46916.0  0.000037        0.75  \n",
       "\n",
       "[5 rows x 27 columns]"
      ]
     },
     "execution_count": 124,
     "metadata": {},
     "output_type": "execute_result"
    }
   ],
   "source": [
    "playerGroups = dataCleanNew.groupby('player')\n",
    "onePlayer = playerGroups.get_group('Jean-Armel Kana-Biyik')\n",
    "onePlayer.head()"
   ]
  },
  {
   "cell_type": "markdown",
   "metadata": {},
   "source": [
    "For each player we have to decide what we do with each variable that is not constant. We decide that we can drop the data that represents interaction between the player and the referee (meanIAT, nIAT etc..).\n",
    "\n",
    "For the rest of the data we will sum all the information that we have about a player (numbeer of victores, red card etc..."
   ]
  },
  {
   "cell_type": "code",
   "execution_count": 125,
   "metadata": {
    "collapsed": false
   },
   "outputs": [],
   "source": [
    "dataCleanNew.drop(['meanIAT','nIAT','seIAT','meanExp','seExp','nExp',\n",
    "                   'refNum','refCountry'],axis=1,inplace=True)\n",
    "playerGroups = dataCleanNew.groupby('player')\n",
    "players = playerGroups.sum()"
   ]
  },
  {
   "cell_type": "markdown",
   "metadata": {},
   "source": [
    "And we take a look at the final data per player."
   ]
  },
  {
   "cell_type": "code",
   "execution_count": 126,
   "metadata": {
    "collapsed": false
   },
   "outputs": [
    {
     "data": {
      "text/html": [
       "<div>\n",
       "<table border=\"1\" class=\"dataframe\">\n",
       "  <thead>\n",
       "    <tr style=\"text-align: right;\">\n",
       "      <th></th>\n",
       "      <th>height</th>\n",
       "      <th>weight</th>\n",
       "      <th>games</th>\n",
       "      <th>victories</th>\n",
       "      <th>ties</th>\n",
       "      <th>defeats</th>\n",
       "      <th>goals</th>\n",
       "      <th>yellowCards</th>\n",
       "      <th>yellowReds</th>\n",
       "      <th>redCards</th>\n",
       "      <th>mean rating</th>\n",
       "    </tr>\n",
       "    <tr>\n",
       "      <th>player</th>\n",
       "      <th></th>\n",
       "      <th></th>\n",
       "      <th></th>\n",
       "      <th></th>\n",
       "      <th></th>\n",
       "      <th></th>\n",
       "      <th></th>\n",
       "      <th></th>\n",
       "      <th></th>\n",
       "      <th></th>\n",
       "      <th></th>\n",
       "    </tr>\n",
       "  </thead>\n",
       "  <tbody>\n",
       "    <tr>\n",
       "      <th>Adriano</th>\n",
       "      <td>18576.0</td>\n",
       "      <td>7236.0</td>\n",
       "      <td>373</td>\n",
       "      <td>229</td>\n",
       "      <td>59</td>\n",
       "      <td>85</td>\n",
       "      <td>33</td>\n",
       "      <td>58</td>\n",
       "      <td>1</td>\n",
       "      <td>3</td>\n",
       "      <td>27.00</td>\n",
       "    </tr>\n",
       "    <tr>\n",
       "      <th>Adrián</th>\n",
       "      <td>21002.0</td>\n",
       "      <td>8574.0</td>\n",
       "      <td>323</td>\n",
       "      <td>155</td>\n",
       "      <td>73</td>\n",
       "      <td>95</td>\n",
       "      <td>60</td>\n",
       "      <td>19</td>\n",
       "      <td>0</td>\n",
       "      <td>0</td>\n",
       "      <td>17.75</td>\n",
       "    </tr>\n",
       "    <tr>\n",
       "      <th>Adrián Colunga</th>\n",
       "      <td>8037.0</td>\n",
       "      <td>3243.0</td>\n",
       "      <td>178</td>\n",
       "      <td>53</td>\n",
       "      <td>43</td>\n",
       "      <td>82</td>\n",
       "      <td>39</td>\n",
       "      <td>22</td>\n",
       "      <td>1</td>\n",
       "      <td>0</td>\n",
       "      <td>11.75</td>\n",
       "    </tr>\n",
       "    <tr>\n",
       "      <th>Aduriz</th>\n",
       "      <td>11466.0</td>\n",
       "      <td>4914.0</td>\n",
       "      <td>322</td>\n",
       "      <td>125</td>\n",
       "      <td>82</td>\n",
       "      <td>115</td>\n",
       "      <td>105</td>\n",
       "      <td>68</td>\n",
       "      <td>3</td>\n",
       "      <td>4</td>\n",
       "      <td>15.75</td>\n",
       "    </tr>\n",
       "    <tr>\n",
       "      <th>Adán</th>\n",
       "      <td>5890.0</td>\n",
       "      <td>2728.0</td>\n",
       "      <td>44</td>\n",
       "      <td>22</td>\n",
       "      <td>6</td>\n",
       "      <td>16</td>\n",
       "      <td>0</td>\n",
       "      <td>1</td>\n",
       "      <td>0</td>\n",
       "      <td>1</td>\n",
       "      <td>0.00</td>\n",
       "    </tr>\n",
       "  </tbody>\n",
       "</table>\n",
       "</div>"
      ],
      "text/plain": [
       "                  height  weight  games  victories  ties  defeats  goals  \\\n",
       "player                                                                     \n",
       " Adriano         18576.0  7236.0    373        229    59       85     33   \n",
       " Adrián          21002.0  8574.0    323        155    73       95     60   \n",
       " Adrián Colunga   8037.0  3243.0    178         53    43       82     39   \n",
       " Aduriz          11466.0  4914.0    322        125    82      115    105   \n",
       " Adán             5890.0  2728.0     44         22     6       16      0   \n",
       "\n",
       "                 yellowCards  yellowReds  redCards  mean rating  \n",
       "player                                                           \n",
       " Adriano                  58           1         3        27.00  \n",
       " Adrián                   19           0         0        17.75  \n",
       " Adrián Colunga           22           1         0        11.75  \n",
       " Aduriz                   68           3         4        15.75  \n",
       " Adán                      1           0         1         0.00  "
      ]
     },
     "execution_count": 126,
     "metadata": {},
     "output_type": "execute_result"
    }
   ],
   "source": [
    "players.head()"
   ]
  },
  {
   "cell_type": "markdown",
   "metadata": {},
   "source": [
    "As we see the rating, height and weight have also been agregated as a sum, and that looses us information.\n",
    "\n",
    "We will therefore create a dictionary that will allow us to apply a custom aggregation for each column. For height, we use the mean which is equivalent to keeping the same value.\n",
    "\n",
    "We also assume that the attacking position will be related to the number of goals, so w do not need to keep it. The name could theoretically help us get information, but we would need to apply NLP to gain information and not use naive labels, so we will discard it as well.\n",
    " "
   ]
  },
  {
   "cell_type": "code",
   "execution_count": 139,
   "metadata": {
    "collapsed": true
   },
   "outputs": [],
   "source": [
    "f = {'height':['mean'],'weight':['mean'],'games':['sum'],'victories':['sum'],'ties':['sum'],\n",
    "     'defeats':['sum'],'goals':['sum'],'yellowCards':['sum'],\n",
    "     'yellowReds':['sum'],'redCards':['sum'],'mean rating':['mean']}"
   ]
  },
  {
   "cell_type": "markdown",
   "metadata": {},
   "source": [
    "Then we can apply this aggregation to our data."
   ]
  },
  {
   "cell_type": "code",
   "execution_count": 140,
   "metadata": {
    "collapsed": false
   },
   "outputs": [
    {
     "data": {
      "text/html": [
       "<div>\n",
       "<table border=\"1\" class=\"dataframe\">\n",
       "  <thead>\n",
       "    <tr style=\"text-align: right;\">\n",
       "      <th></th>\n",
       "      <th>height</th>\n",
       "      <th>victories</th>\n",
       "      <th>weight</th>\n",
       "      <th>redCards</th>\n",
       "      <th>defeats</th>\n",
       "      <th>yellowReds</th>\n",
       "      <th>games</th>\n",
       "      <th>ties</th>\n",
       "      <th>goals</th>\n",
       "      <th>mean rating</th>\n",
       "      <th>yellowCards</th>\n",
       "    </tr>\n",
       "    <tr>\n",
       "      <th>player</th>\n",
       "      <th></th>\n",
       "      <th></th>\n",
       "      <th></th>\n",
       "      <th></th>\n",
       "      <th></th>\n",
       "      <th></th>\n",
       "      <th></th>\n",
       "      <th></th>\n",
       "      <th></th>\n",
       "      <th></th>\n",
       "      <th></th>\n",
       "    </tr>\n",
       "  </thead>\n",
       "  <tbody>\n",
       "    <tr>\n",
       "      <th>Adriano</th>\n",
       "      <td>172.00000</td>\n",
       "      <td>229</td>\n",
       "      <td>67.000000</td>\n",
       "      <td>3</td>\n",
       "      <td>85</td>\n",
       "      <td>1</td>\n",
       "      <td>373</td>\n",
       "      <td>59</td>\n",
       "      <td>33</td>\n",
       "      <td>0.250000</td>\n",
       "      <td>58</td>\n",
       "    </tr>\n",
       "    <tr>\n",
       "      <th>Adrián</th>\n",
       "      <td>184.22807</td>\n",
       "      <td>155</td>\n",
       "      <td>75.210526</td>\n",
       "      <td>0</td>\n",
       "      <td>95</td>\n",
       "      <td>0</td>\n",
       "      <td>323</td>\n",
       "      <td>73</td>\n",
       "      <td>60</td>\n",
       "      <td>0.155702</td>\n",
       "      <td>19</td>\n",
       "    </tr>\n",
       "    <tr>\n",
       "      <th>Adrián Colunga</th>\n",
       "      <td>171.00000</td>\n",
       "      <td>53</td>\n",
       "      <td>69.000000</td>\n",
       "      <td>0</td>\n",
       "      <td>82</td>\n",
       "      <td>1</td>\n",
       "      <td>178</td>\n",
       "      <td>43</td>\n",
       "      <td>39</td>\n",
       "      <td>0.250000</td>\n",
       "      <td>22</td>\n",
       "    </tr>\n",
       "    <tr>\n",
       "      <th>Aduriz</th>\n",
       "      <td>182.00000</td>\n",
       "      <td>125</td>\n",
       "      <td>78.000000</td>\n",
       "      <td>4</td>\n",
       "      <td>115</td>\n",
       "      <td>3</td>\n",
       "      <td>322</td>\n",
       "      <td>82</td>\n",
       "      <td>105</td>\n",
       "      <td>0.250000</td>\n",
       "      <td>68</td>\n",
       "    </tr>\n",
       "    <tr>\n",
       "      <th>Adán</th>\n",
       "      <td>190.00000</td>\n",
       "      <td>22</td>\n",
       "      <td>88.000000</td>\n",
       "      <td>1</td>\n",
       "      <td>16</td>\n",
       "      <td>0</td>\n",
       "      <td>44</td>\n",
       "      <td>6</td>\n",
       "      <td>0</td>\n",
       "      <td>0.000000</td>\n",
       "      <td>1</td>\n",
       "    </tr>\n",
       "  </tbody>\n",
       "</table>\n",
       "</div>"
      ],
      "text/plain": [
       "                    height  victories     weight  redCards  defeats  \\\n",
       "player                                                                \n",
       " Adriano         172.00000        229  67.000000         3       85   \n",
       " Adrián          184.22807        155  75.210526         0       95   \n",
       " Adrián Colunga  171.00000         53  69.000000         0       82   \n",
       " Aduriz          182.00000        125  78.000000         4      115   \n",
       " Adán            190.00000         22  88.000000         1       16   \n",
       "\n",
       "                 yellowReds  games  ties  goals  mean rating  yellowCards  \n",
       "player                                                                     \n",
       " Adriano                  1    373    59     33     0.250000           58  \n",
       " Adrián                   0    323    73     60     0.155702           19  \n",
       " Adrián Colunga           1    178    43     39     0.250000           22  \n",
       " Aduriz                   3    322    82    105     0.250000           68  \n",
       " Adán                     0     44     6      0     0.000000            1  "
      ]
     },
     "execution_count": 140,
     "metadata": {},
     "output_type": "execute_result"
    }
   ],
   "source": [
    "players = playerGroups.agg(f)\n",
    "#and keep th column name as index\n",
    "players.columns = players.columns.droplevel(1)\n",
    "players.head()"
   ]
  },
  {
   "cell_type": "markdown",
   "metadata": {},
   "source": [
    "We have now a dataset only with numbers, but there is still one modification we wish to do. For now our dataset contains a rating value and we want the clustering to look for other information that it will use for clustering. Therefore we will remove it from the dataset and use it as labels to test afterwards if the two clusters effectively contain black and white playes.\n",
    "\n",
    "We will also tranform the mean rating into a label that we can use for cluster identification. We say that if the rating is smaller than 0.4 we set it a 0 and if it is bigger than 0.4 we set it at 1.\n",
    "\n",
    "We choose here to use K-Means clustering, with 2 clusters and with initial centers equal to 0."
   ]
  },
  {
   "cell_type": "code",
   "execution_count": 234,
   "metadata": {
    "collapsed": false
   },
   "outputs": [],
   "source": [
    "#Removing the mean rating column and storing it into a new dataframe\n",
    "playersNorating = players.drop('mean rating',axis=1)\n",
    "\n",
    "#We will define the function to transform the ratings.\n",
    "\n",
    "def transform_rating(series):\n",
    "    if series < 0.4:\n",
    "        return 0\n",
    "    else:\n",
    "        return 1\n",
    "    \n",
    "labels = players['mean rating'].apply(transform_rating)"
   ]
  },
  {
   "cell_type": "markdown",
   "metadata": {},
   "source": [
    "Now we will iteratively add features and do the clustering, and compute the silhouette score.\n",
    "\n",
    "Furthermore to find if the players have been classified in two groups corresponding to their skin type we will use metrics.accuracy_score. We will have clusters corresponding to skin if the score is very low or very high because we don't know for which skin type the 0 and 1 corresponds to. If they are opposed to what we used then a 0.1 accuracy score would mean that 90% of players are in the right cluster which is also good."
   ]
  },
  {
   "cell_type": "code",
   "execution_count": 235,
   "metadata": {
    "collapsed": false
   },
   "outputs": [],
   "source": [
    "silScore = []\n",
    "accuracy = []\n",
    "\n",
    "for i in range(1,players.shape[1]):\n",
    "    cluster = KMeans(n_clusters=2,random_state=0).fit(playersNorating.values[:,0:i])\n",
    "    sil = metrics.silhouette_score(playersNorating.values,cluster.labels_)\n",
    "    silScore.append(sil)\n",
    "    accuracy.append(metrics.accuracy_score(labels,cluster.labels_))"
   ]
  },
  {
   "cell_type": "markdown",
   "metadata": {},
   "source": [
    "And we take a look at the different silouhette scores. For a recall a score of 1 means that the clusters are well separated, a score of -1 means that they are not well separated."
   ]
  },
  {
   "cell_type": "code",
   "execution_count": 244,
   "metadata": {
    "collapsed": false
   },
   "outputs": [
    {
     "data": {
      "text/plain": [
       "<matplotlib.legend.Legend at 0x116e18c50>"
      ]
     },
     "execution_count": 244,
     "metadata": {},
     "output_type": "execute_result"
    },
    {
     "data": {
      "image/png": "[encoded data removed]",
      "text/plain": [
       "<matplotlib.figure.Figure at 0x117a4e5c0>"
      ]
     },
     "metadata": {},
     "output_type": "display_data"
    }
   ],
   "source": [
    "plt.plot(silScore,label='Silhouette Score')\n",
    "plt.plot(accuracy,label='Accuracy')\n",
    "plt.title('Evolution of Silhouette + Accuracy score with different number of samples')\n",
    "plt.xlabel('Number of features')\n",
    "plt.ylabel('Silouhette Score')\n",
    "plt.legend(loc=9, bbox_to_anchor=(0.5,0))"
   ]
  },
  {
   "cell_type": "markdown",
   "metadata": {},
   "source": [
    "We can clearly see that we get the best silhouette score by using all of the features. But at the same time we see that the clusters do not contain players with dark and light skin color as the accuracy is not very high\n",
    "\n",
    "We have also no tested for diffe combinations of removing columns, we will try again by looping through the colums and adding one at a time."
   ]
  },
  {
   "cell_type": "code",
   "execution_count": 240,
   "metadata": {
    "collapsed": false
   },
   "outputs": [
    {
     "name": "stdout",
     "output_type": "stream",
     "text": [
      "Index(['redCards'], dtype='object')\n",
      "Index(['yellowReds'], dtype='object')\n",
      "Index(['goals'], dtype='object')\n"
     ]
    }
   ],
   "source": [
    "otherSilscore = []\n",
    "otherAcc = []\n",
    "\n",
    "for i in range (1,players.shape[1]-1):\n",
    "    for j in range(i+1,players.shape[1]):\n",
    "          cluster = KMeans(n_clusters=2,random_state=0)\\\n",
    "            .fit(playersNorating[playersNorating.columns[i:j]].values)\n",
    "          sil = metrics.silhouette_score\\\n",
    "          (playersNorating[playersNorating.columns[i:j]].values,cluster.labels_)\n",
    "          otherSilscore.append(sil)\n",
    "          if sil > 0.7:\n",
    "                print(playersNorating.columns[i:j])\n",
    "        \n",
    "          otherAcc.append(metrics.accuracy_score(labels,cluster.labels_))\n",
    "                                                                           "
   ]
  },
  {
   "cell_type": "markdown",
   "metadata": {},
   "source": [
    "And we take a look again at the silhouette score for different combinations."
   ]
  },
  {
   "cell_type": "code",
   "execution_count": 243,
   "metadata": {
    "collapsed": false
   },
   "outputs": [
    {
     "data": {
      "text/plain": [
       "<matplotlib.legend.Legend at 0x11745f128>"
      ]
     },
     "execution_count": 243,
     "metadata": {},
     "output_type": "execute_result"
    },
    {
     "data": {
      "image/png": "[encoded data removed]",
      "text/plain": [
       "<matplotlib.figure.Figure at 0x125b519b0>"
      ]
     },
     "metadata": {},
     "output_type": "display_data"
    }
   ],
   "source": [
    "plt.plot(otherSilscore,label='Silhouette Score')\n",
    "plt.plot(otherAcc,label='Accuracy')\n",
    "plt.title('Evolution of Silhouette score with different number of samples')\n",
    "plt.xlabel('Combination')\n",
    "plt.ylabel('Silouhette Score')\n",
    "plt.legend(loc=9, bbox_to_anchor=(0.5,0))"
   ]
  },
  {
   "cell_type": "markdown",
   "metadata": {},
   "source": [
    "We directly see that we have three combinations that have a definitely better. We ran the computations and againg and we found that it was the case when the red cards yellow cards or goals where used as clusters.\n",
    "\n",
    "But at the same time we see that the accuracy score is not high or low at times where silhouette score is high. Therefore we conclude that our method did not find clusters containing players of different skin colors."
   ]
  },
  {
   "cell_type": "markdown",
   "metadata": {
    "collapsed": false
   },
   "source": [
    "#### Explanations for red card cluster\n",
    "\n",
    "We have an explanation for the fact that we have good clustering for red cards. In fact as we will show below, red cards are very rare in the data, therefore if use use onl the red cards the algorithm will easily pick up two distinct cluster."
   ]
  },
  {
   "cell_type": "code",
   "execution_count": 26,
   "metadata": {
    "collapsed": false
   },
   "outputs": [
    {
     "name": "stdout",
     "output_type": "stream",
     "text": [
      "Number of red cards : 0    102359\n",
      "1      1344\n",
      "2        23\n",
      "Name: redCards, dtype: int64\n",
      "Percentage of players without red cards : 98.682104776\n",
      "Red card due to two yellow cards : 0    102400\n",
      "1      1307\n",
      "2        16\n",
      "3         3\n",
      "Name: yellowReds, dtype: int64\n"
     ]
    }
   ],
   "source": [
    "print('Number of red cards :',dataGood.redCards.value_counts())\n",
    "print('Percentage of players without red cards :',\n",
    "      dataGood.redCards.value_counts()[0]/dataGood.redCards.value_counts().sum()*100)\n",
    "print('Red card due to two yellow cards :',dataGood.yellowReds.value_counts())"
   ]
  },
  {
   "cell_type": "markdown",
   "metadata": {},
   "source": [
    "#### Explanation for the yellow card cluster\n",
    "\n",
    "For the yellow card cluster we can  also see that most players have 0 yellow cards, and we can guess why the algorithm also found two distinct clusters."
   ]
  },
  {
   "cell_type": "code",
   "execution_count": 35,
   "metadata": {
    "collapsed": false
   },
   "outputs": [
    {
     "data": {
      "text/plain": [
       "0     74032\n",
       "1     21034\n",
       "2      5240\n",
       "3      1969\n",
       "4       794\n",
       "5       364\n",
       "6       153\n",
       "7        83\n",
       "8        32\n",
       "9        13\n",
       "10        8\n",
       "14        1\n",
       "13        1\n",
       "12        1\n",
       "11        1\n",
       "Name: yellowCards, dtype: int64"
      ]
     },
     "execution_count": 35,
     "metadata": {},
     "output_type": "execute_result"
    }
   ],
   "source": [
    "dataGood.yellowCards.value_counts()"
   ]
  },
  {
   "cell_type": "markdown",
   "metadata": {},
   "source": [
    "And we also see the same behaviour for goals."
   ]
  },
  {
   "cell_type": "code",
   "execution_count": 36,
   "metadata": {
    "collapsed": false
   },
   "outputs": [
    {
     "data": {
      "text/plain": [
       "0     81280\n",
       "1     14488\n",
       "2      4462\n",
       "3      1658\n",
       "4       781\n",
       "5       421\n",
       "6       218\n",
       "7       147\n",
       "8        97\n",
       "9        57\n",
       "11       29\n",
       "10       25\n",
       "12       21\n",
       "13       10\n",
       "14       10\n",
       "15        4\n",
       "16        4\n",
       "18        4\n",
       "21        3\n",
       "23        3\n",
       "17        2\n",
       "20        2\n",
       "Name: goals, dtype: int64"
      ]
     },
     "execution_count": 36,
     "metadata": {},
     "output_type": "execute_result"
    }
   ],
   "source": [
    "dataGood.goals.value_counts()"
   ]
  },
  {
   "cell_type": "markdown",
   "metadata": {},
   "source": [
    "We conclude that we understand why our algorithms gave us clusters not representing player skin color but player type, an offensive player will score more goals and a defensive player will score less goals and will be more punished due to making mistakes (red and yellow cards)."
   ]
  },
  {
   "cell_type": "code",
   "execution_count": 229,
   "metadata": {
    "collapsed": false
   },
   "outputs": [
    {
     "data": {
      "text/plain": [
       "0.76321123072525321"
      ]
     },
     "execution_count": 229,
     "metadata": {},
     "output_type": "execute_result"
    }
   ],
   "source": [
    "clust = KMeans(n_clusters=2,random_state=0).fit(playersNorating[playersNorating.columns[8:9]].values)\n",
    "metrics.silhouette_score(playersNorating[playersNorating.columns[8:9]],clust.labels_)"
   ]
  },
  {
   "cell_type": "code",
   "execution_count": 217,
   "metadata": {
    "collapsed": false
   },
   "outputs": [
    {
     "data": {
      "text/plain": [
       "Index(['height', 'victories', 'weight', 'redCards', 'defeats', 'yellowReds',\n",
       "       'games', 'ties', 'goals', 'mean rating', 'yellowCards'],\n",
       "      dtype='object')"
      ]
     },
     "execution_count": 217,
     "metadata": {},
     "output_type": "execute_result"
    }
   ],
   "source": [
    "players.columns"
   ]
  },
  {
   "cell_type": "code",
   "execution_count": 228,
   "metadata": {
    "collapsed": false
   },
   "outputs": [
    {
     "data": {
      "text/plain": [
       "array([[33],\n",
       "       [60],\n",
       "       [39],\n",
       "       ..., \n",
       "       [31],\n",
       "       [ 0],\n",
       "       [23]])"
      ]
     },
     "execution_count": 228,
     "metadata": {},
     "output_type": "execute_result"
    }
   ],
   "source": [
    "playersNorating[playersNorating.columns[8:9]].values"
   ]
  },
  {
   "cell_type": "code",
   "execution_count": 163,
   "metadata": {
    "collapsed": false
   },
   "outputs": [
    {
     "data": {
      "text/plain": [
       "0.53833933490108354"
      ]
     },
     "execution_count": 163,
     "metadata": {},
     "output_type": "execute_result"
    }
   ],
   "source": [
    "metrics.silhouette_score(players.values,clusters.labels_)"
   ]
  },
  {
   "cell_type": "code",
   "execution_count": null,
   "metadata": {
    "collapsed": true
   },
   "outputs": [],
   "source": []
  }
 ],
 "metadata": {
  "anaconda-cloud": {},
  "kernelspec": {
   "display_name": "Python [conda root]",
   "language": "python",
   "name": "conda-root-py"
  },
  "language_info": {
   "codemirror_mode": {
    "name": "ipython",
    "version": 3
   },
   "file_extension": ".py",
   "mimetype": "text/x-python",
   "name": "python",
   "nbconvert_exporter": "python",
   "pygments_lexer": "ipython3",
   "version": "3.5.2"
  }
 },
 "nbformat": 4,
 "nbformat_minor": 1
}
