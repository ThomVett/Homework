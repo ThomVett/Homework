{
 "cells": [
  {
   "cell_type": "markdown",
   "metadata": {},
   "source": [
    "# Homewor 4 - Applied Machine Learning\n",
    "\n",
    "In this notebook we will present our solution for the 4<sup>th</sup> homework of ADA.\n",
    "\n",
    "We begin by importing the important librairies."
   ]
  },
  {
   "cell_type": "code",
   "execution_count": 37,
   "metadata": {
    "collapsed": false
   },
   "outputs": [
    {
     "name": "stdout",
     "output_type": "stream",
     "text": [
      "Populating the interactive namespace from numpy and matplotlib\n"
     ]
    }
   ],
   "source": [
    "import pandas as pd                                    \n",
    "import numpy as np \n",
    "import myFunction # the function has been defined by us. See myFunction.py\n",
    "import seaborn as sns\n",
    "from sklearn.cluster import KMeans\n",
    "from sklearn import metrics\n",
    "import matplotlib.pyplot as plt\n",
    "%matplotlib inline\n",
    "%pylab inline\n",
    "\n",
    "\n"
   ]
  },
  {
   "cell_type": "markdown",
   "metadata": {},
   "source": [
    "The first step we do is importing the data and taking a look at it."
   ]
  },
  {
   "cell_type": "code",
   "execution_count": 38,
   "metadata": {
    "collapsed": false
   },
   "outputs": [
    {
     "data": {
      "text/html": [
       "<div>\n",
       "<table border=\"1\" class=\"dataframe\">\n",
       "  <thead>\n",
       "    <tr style=\"text-align: right;\">\n",
       "      <th></th>\n",
       "      <th>playerShort</th>\n",
       "      <th>player</th>\n",
       "      <th>club</th>\n",
       "      <th>leagueCountry</th>\n",
       "      <th>birthday</th>\n",
       "      <th>height</th>\n",
       "      <th>weight</th>\n",
       "      <th>position</th>\n",
       "      <th>games</th>\n",
       "      <th>victories</th>\n",
       "      <th>ties</th>\n",
       "      <th>defeats</th>\n",
       "      <th>goals</th>\n",
       "    </tr>\n",
       "  </thead>\n",
       "  <tbody>\n",
       "    <tr>\n",
       "      <th>0</th>\n",
       "      <td>lucas-wilchez</td>\n",
       "      <td>Lucas Wilchez</td>\n",
       "      <td>Real Zaragoza</td>\n",
       "      <td>Spain</td>\n",
       "      <td>31.08.1983</td>\n",
       "      <td>177.0</td>\n",
       "      <td>72.0</td>\n",
       "      <td>Attacking Midfielder</td>\n",
       "      <td>1</td>\n",
       "      <td>0</td>\n",
       "      <td>0</td>\n",
       "      <td>1</td>\n",
       "      <td>0</td>\n",
       "    </tr>\n",
       "    <tr>\n",
       "      <th>1</th>\n",
       "      <td>john-utaka</td>\n",
       "      <td>John Utaka</td>\n",
       "      <td>Montpellier HSC</td>\n",
       "      <td>France</td>\n",
       "      <td>08.01.1982</td>\n",
       "      <td>179.0</td>\n",
       "      <td>82.0</td>\n",
       "      <td>Right Winger</td>\n",
       "      <td>1</td>\n",
       "      <td>0</td>\n",
       "      <td>0</td>\n",
       "      <td>1</td>\n",
       "      <td>0</td>\n",
       "    </tr>\n",
       "    <tr>\n",
       "      <th>2</th>\n",
       "      <td>abdon-prats</td>\n",
       "      <td>Abdón Prats</td>\n",
       "      <td>RCD Mallorca</td>\n",
       "      <td>Spain</td>\n",
       "      <td>17.12.1992</td>\n",
       "      <td>181.0</td>\n",
       "      <td>79.0</td>\n",
       "      <td>NaN</td>\n",
       "      <td>1</td>\n",
       "      <td>0</td>\n",
       "      <td>1</td>\n",
       "      <td>0</td>\n",
       "      <td>0</td>\n",
       "    </tr>\n",
       "    <tr>\n",
       "      <th>3</th>\n",
       "      <td>pablo-mari</td>\n",
       "      <td>Pablo Marí</td>\n",
       "      <td>RCD Mallorca</td>\n",
       "      <td>Spain</td>\n",
       "      <td>31.08.1993</td>\n",
       "      <td>191.0</td>\n",
       "      <td>87.0</td>\n",
       "      <td>Center Back</td>\n",
       "      <td>1</td>\n",
       "      <td>1</td>\n",
       "      <td>0</td>\n",
       "      <td>0</td>\n",
       "      <td>0</td>\n",
       "    </tr>\n",
       "    <tr>\n",
       "      <th>4</th>\n",
       "      <td>ruben-pena</td>\n",
       "      <td>Rubén Peña</td>\n",
       "      <td>Real Valladolid</td>\n",
       "      <td>Spain</td>\n",
       "      <td>18.07.1991</td>\n",
       "      <td>172.0</td>\n",
       "      <td>70.0</td>\n",
       "      <td>Right Midfielder</td>\n",
       "      <td>1</td>\n",
       "      <td>1</td>\n",
       "      <td>0</td>\n",
       "      <td>0</td>\n",
       "      <td>0</td>\n",
       "    </tr>\n",
       "    <tr>\n",
       "      <th>5</th>\n",
       "      <td>aaron-hughes</td>\n",
       "      <td>Aaron Hughes</td>\n",
       "      <td>Fulham FC</td>\n",
       "      <td>England</td>\n",
       "      <td>08.11.1979</td>\n",
       "      <td>182.0</td>\n",
       "      <td>71.0</td>\n",
       "      <td>Center Back</td>\n",
       "      <td>1</td>\n",
       "      <td>0</td>\n",
       "      <td>0</td>\n",
       "      <td>1</td>\n",
       "      <td>0</td>\n",
       "    </tr>\n",
       "  </tbody>\n",
       "</table>\n",
       "</div>"
      ],
      "text/plain": [
       "     playerShort         player             club leagueCountry    birthday  \\\n",
       "0  lucas-wilchez  Lucas Wilchez    Real Zaragoza         Spain  31.08.1983   \n",
       "1     john-utaka     John Utaka  Montpellier HSC        France  08.01.1982   \n",
       "2    abdon-prats    Abdón Prats     RCD Mallorca         Spain  17.12.1992   \n",
       "3     pablo-mari     Pablo Marí     RCD Mallorca         Spain  31.08.1993   \n",
       "4     ruben-pena     Rubén Peña  Real Valladolid         Spain  18.07.1991   \n",
       "5   aaron-hughes   Aaron Hughes        Fulham FC       England  08.11.1979   \n",
       "\n",
       "   height  weight              position  games  victories  ties  defeats  \\\n",
       "0   177.0    72.0  Attacking Midfielder      1          0     0        1   \n",
       "1   179.0    82.0          Right Winger      1          0     0        1   \n",
       "2   181.0    79.0                   NaN      1          0     1        0   \n",
       "3   191.0    87.0           Center Back      1          1     0        0   \n",
       "4   172.0    70.0      Right Midfielder      1          1     0        0   \n",
       "5   182.0    71.0           Center Back      1          0     0        1   \n",
       "\n",
       "   goals  \n",
       "0      0  \n",
       "1      0  \n",
       "2      0  \n",
       "3      0  \n",
       "4      0  \n",
       "5      0  "
      ]
     },
     "execution_count": 38,
     "metadata": {},
     "output_type": "execute_result"
    }
   ],
   "source": [
    "data = pd.read_csv('Data/CrowdstormingDataJuly1st.csv')\n",
    "data.ix[:5,:13]"
   ]
  },
  {
   "cell_type": "code",
   "execution_count": 39,
   "metadata": {
    "collapsed": false
   },
   "outputs": [
    {
     "data": {
      "text/html": [
       "<div>\n",
       "<table border=\"1\" class=\"dataframe\">\n",
       "  <thead>\n",
       "    <tr style=\"text-align: right;\">\n",
       "      <th></th>\n",
       "      <th>yellowCards</th>\n",
       "      <th>yellowReds</th>\n",
       "      <th>redCards</th>\n",
       "      <th>photoID</th>\n",
       "      <th>rater1</th>\n",
       "      <th>rater2</th>\n",
       "      <th>refNum</th>\n",
       "      <th>refCountry</th>\n",
       "      <th>Alpha_3</th>\n",
       "      <th>meanIAT</th>\n",
       "      <th>nIAT</th>\n",
       "      <th>seIAT</th>\n",
       "      <th>meanExp</th>\n",
       "      <th>nExp</th>\n",
       "      <th>seExp</th>\n",
       "    </tr>\n",
       "  </thead>\n",
       "  <tbody>\n",
       "    <tr>\n",
       "      <th>0</th>\n",
       "      <td>0</td>\n",
       "      <td>0</td>\n",
       "      <td>0</td>\n",
       "      <td>95212.jpg</td>\n",
       "      <td>0.25</td>\n",
       "      <td>0.50</td>\n",
       "      <td>1</td>\n",
       "      <td>1</td>\n",
       "      <td>GRC</td>\n",
       "      <td>0.326391</td>\n",
       "      <td>712.0</td>\n",
       "      <td>0.000564</td>\n",
       "      <td>0.396000</td>\n",
       "      <td>750.0</td>\n",
       "      <td>0.002696</td>\n",
       "    </tr>\n",
       "    <tr>\n",
       "      <th>1</th>\n",
       "      <td>1</td>\n",
       "      <td>0</td>\n",
       "      <td>0</td>\n",
       "      <td>1663.jpg</td>\n",
       "      <td>0.75</td>\n",
       "      <td>0.75</td>\n",
       "      <td>2</td>\n",
       "      <td>2</td>\n",
       "      <td>ZMB</td>\n",
       "      <td>0.203375</td>\n",
       "      <td>40.0</td>\n",
       "      <td>0.010875</td>\n",
       "      <td>-0.204082</td>\n",
       "      <td>49.0</td>\n",
       "      <td>0.061504</td>\n",
       "    </tr>\n",
       "    <tr>\n",
       "      <th>2</th>\n",
       "      <td>1</td>\n",
       "      <td>0</td>\n",
       "      <td>0</td>\n",
       "      <td>NaN</td>\n",
       "      <td>NaN</td>\n",
       "      <td>NaN</td>\n",
       "      <td>3</td>\n",
       "      <td>3</td>\n",
       "      <td>ESP</td>\n",
       "      <td>0.369894</td>\n",
       "      <td>1785.0</td>\n",
       "      <td>0.000229</td>\n",
       "      <td>0.588297</td>\n",
       "      <td>1897.0</td>\n",
       "      <td>0.001002</td>\n",
       "    </tr>\n",
       "    <tr>\n",
       "      <th>3</th>\n",
       "      <td>0</td>\n",
       "      <td>0</td>\n",
       "      <td>0</td>\n",
       "      <td>NaN</td>\n",
       "      <td>NaN</td>\n",
       "      <td>NaN</td>\n",
       "      <td>3</td>\n",
       "      <td>3</td>\n",
       "      <td>ESP</td>\n",
       "      <td>0.369894</td>\n",
       "      <td>1785.0</td>\n",
       "      <td>0.000229</td>\n",
       "      <td>0.588297</td>\n",
       "      <td>1897.0</td>\n",
       "      <td>0.001002</td>\n",
       "    </tr>\n",
       "    <tr>\n",
       "      <th>4</th>\n",
       "      <td>0</td>\n",
       "      <td>0</td>\n",
       "      <td>0</td>\n",
       "      <td>NaN</td>\n",
       "      <td>NaN</td>\n",
       "      <td>NaN</td>\n",
       "      <td>3</td>\n",
       "      <td>3</td>\n",
       "      <td>ESP</td>\n",
       "      <td>0.369894</td>\n",
       "      <td>1785.0</td>\n",
       "      <td>0.000229</td>\n",
       "      <td>0.588297</td>\n",
       "      <td>1897.0</td>\n",
       "      <td>0.001002</td>\n",
       "    </tr>\n",
       "    <tr>\n",
       "      <th>5</th>\n",
       "      <td>0</td>\n",
       "      <td>0</td>\n",
       "      <td>0</td>\n",
       "      <td>3868.jpg</td>\n",
       "      <td>0.25</td>\n",
       "      <td>0.00</td>\n",
       "      <td>4</td>\n",
       "      <td>4</td>\n",
       "      <td>LUX</td>\n",
       "      <td>0.325185</td>\n",
       "      <td>127.0</td>\n",
       "      <td>0.003297</td>\n",
       "      <td>0.538462</td>\n",
       "      <td>130.0</td>\n",
       "      <td>0.013752</td>\n",
       "    </tr>\n",
       "  </tbody>\n",
       "</table>\n",
       "</div>"
      ],
      "text/plain": [
       "   yellowCards  yellowReds  redCards    photoID  rater1  rater2  refNum  \\\n",
       "0            0           0         0  95212.jpg    0.25    0.50       1   \n",
       "1            1           0         0   1663.jpg    0.75    0.75       2   \n",
       "2            1           0         0        NaN     NaN     NaN       3   \n",
       "3            0           0         0        NaN     NaN     NaN       3   \n",
       "4            0           0         0        NaN     NaN     NaN       3   \n",
       "5            0           0         0   3868.jpg    0.25    0.00       4   \n",
       "\n",
       "   refCountry Alpha_3   meanIAT    nIAT     seIAT   meanExp    nExp     seExp  \n",
       "0           1     GRC  0.326391   712.0  0.000564  0.396000   750.0  0.002696  \n",
       "1           2     ZMB  0.203375    40.0  0.010875 -0.204082    49.0  0.061504  \n",
       "2           3     ESP  0.369894  1785.0  0.000229  0.588297  1897.0  0.001002  \n",
       "3           3     ESP  0.369894  1785.0  0.000229  0.588297  1897.0  0.001002  \n",
       "4           3     ESP  0.369894  1785.0  0.000229  0.588297  1897.0  0.001002  \n",
       "5           4     LUX  0.325185   127.0  0.003297  0.538462   130.0  0.013752  "
      ]
     },
     "execution_count": 39,
     "metadata": {},
     "output_type": "execute_result"
    }
   ],
   "source": [
    "data.ix[:5,13:28]"
   ]
  },
  {
   "cell_type": "markdown",
   "metadata": {},
   "source": [
    "#### Data Cleaning\n",
    "\n",
    "We will start by cleaning the data in several steps. The first computation we do is extracting the rater information. As we saw, the raters disagree often. We decide not to discard values where the raters disagree, but to average the rating given by the two raters. But this does not take into account the Nana values in the rating so it's a complete description of the disagreement."
   ]
  },
  {
   "cell_type": "code",
   "execution_count": 40,
   "metadata": {
    "collapsed": false
   },
   "outputs": [
    {
     "name": "stdout",
     "output_type": "stream",
     "text": [
      "Number of cases where the two raters agree : 65.5449639795  %\n"
     ]
    }
   ],
   "source": [
    "print('Number of cases where the two raters agree :',\n",
    "      (data.rater1 == data.rater2).sum()/len(data)*100, ' %')"
   ]
  },
  {
   "cell_type": "markdown",
   "metadata": {},
   "source": [
    "Now we will compute the new column for the average rating."
   ]
  },
  {
   "cell_type": "code",
   "execution_count": 41,
   "metadata": {
    "collapsed": false
   },
   "outputs": [],
   "source": [
    "data_clean0 = data.copy()\n",
    "data_clean0['meanRating'] = (data.rater1.values + data.rater2.values)/2"
   ]
  },
  {
   "cell_type": "markdown",
   "metadata": {},
   "source": [
    "As shown in a previous analysis from this [notebook](http://nbviewer.jupyter.org/github/mathewzilla/redcard/blob/master/Crowdstorming_visualisation.ipynb) it was shown that there is a problem regarding data coming from other leagues than the four of interest. For each player there are his games during his entire career, not only the games in the four leagues where the data comes from.\n",
    "\n",
    "To keep only the main games, we keep referee-dyad players that are present more than 22 times (if a referee officiated 1 matches in a league, he will be present 22 times or more, as there are 22 players in a match).\n",
    "\n",
    "As we plan to aggregate the data per player, we find that our data will be skewed if we include matches coming from other countries, we will therefore remove them."
   ]
  },
  {
   "cell_type": "code",
   "execution_count": 42,
   "metadata": {
    "collapsed": true
   },
   "outputs": [],
   "source": [
    "refs = data_clean0.refNum.value_counts()\n",
    "\n",
    "#We pick only the lines where the referee was more than 22 times.\n",
    "goodRefs = refs[refs>21]\n",
    "\n",
    "data_clean0 = data_clean0[data_clean0.refNum.isin(goodRefs.index.values)] "
   ]
  },
  {
   "cell_type": "markdown",
   "metadata": {},
   "source": [
    "Then, we remove columns that are not relevant (They are not part of the player description or will not be usefull for classification) for the training data and also remove each row where there is no ratings, which means rows where there is no photo ID available, which also means that there is not rater information. These rows are not useful for classification.\n",
    "\n",
    "We remove these columns:\n",
    "- photoID\n",
    "- rater1\n",
    "- rater2\n",
    "- playerShort\n",
    "- birthday\n",
    "- refNum\n",
    "- refCountrs "
   ]
  },
  {
   "cell_type": "code",
   "execution_count": 43,
   "metadata": {
    "collapsed": true
   },
   "outputs": [],
   "source": [
    "data_clean1 = data_clean0.dropna(subset=['photoID'])\n",
    "data_clean2 = data_clean1.drop(['photoID', 'rater1',\n",
    "                                'rater2', 'playerShort', 'birthday',\n",
    "                                'refNum', 'refCountry' ],1)"
   ]
  },
  {
   "cell_type": "markdown",
   "metadata": {},
   "source": [
    "We will also deal with data types. First we take a look at the type of each column."
   ]
  },
  {
   "cell_type": "code",
   "execution_count": 44,
   "metadata": {
    "collapsed": false
   },
   "outputs": [
    {
     "data": {
      "text/plain": [
       "player            object\n",
       "club              object\n",
       "leagueCountry     object\n",
       "height           float64\n",
       "weight           float64\n",
       "position          object\n",
       "games              int64\n",
       "victories          int64\n",
       "ties               int64\n",
       "defeats            int64\n",
       "goals              int64\n",
       "yellowCards        int64\n",
       "yellowReds         int64\n",
       "redCards           int64\n",
       "Alpha_3           object\n",
       "meanIAT          float64\n",
       "nIAT             float64\n",
       "seIAT            float64\n",
       "meanExp          float64\n",
       "nExp             float64\n",
       "seExp            float64\n",
       "meanRating       float64\n",
       "dtype: object"
      ]
     },
     "execution_count": 44,
     "metadata": {},
     "output_type": "execute_result"
    }
   ],
   "source": [
    "data_clean2.dtypes"
   ]
  },
  {
   "cell_type": "markdown",
   "metadata": {},
   "source": [
    "As we can see, a lot of these columns are of object type. This is a problem because learning algorithms are unable to deal with categorical data. We designed a way to deal with this problem and will show our processing pipeline below.\n",
    "\n",
    "We begin by changing the null value present in the datatypes below to Unknown"
   ]
  },
  {
   "cell_type": "code",
   "execution_count": 45,
   "metadata": {
    "collapsed": true
   },
   "outputs": [],
   "source": [
    "data_clean2.position.fillna(\"Unknown\",inplace=True)\n",
    "data_clean2.Alpha_3.fillna(\"Unknown\",inplace=True)"
   ]
  },
  {
   "cell_type": "markdown",
   "metadata": {},
   "source": [
    "We then cast the data types to string to enable using label encoder"
   ]
  },
  {
   "cell_type": "code",
   "execution_count": 46,
   "metadata": {
    "collapsed": true
   },
   "outputs": [],
   "source": [
    "data_clean2['position'] = data_clean2['position'].astype('str') \n",
    "data_clean2['Alpha_3'] = data_clean2['Alpha_3'].astype('str') "
   ]
  },
  {
   "cell_type": "markdown",
   "metadata": {},
   "source": [
    "Then we encode the rest of data sest that are not numerical using the function myfunction that is provided in the main folder.\n",
    "\n",
    "The encoding basically gives each categorical value in the affected column(column with data type object) a unique identification number. This number is a reference to the object value it represent in the affected column. In this part of the of the homework, we provide provided step by step guide on how to do this. For Example \"Attacking MidFielder\" in the position column can be encoded as 1.\n",
    "\n",
    "Below we collect all columns of object datatype from our data set below in CrowdstormingDataJuly1st_object_columns. The aim of this is be able to encode such columns at once. Sklearn as yet does not provide such functionality."
   ]
  },
  {
   "cell_type": "code",
   "execution_count": 47,
   "metadata": {
    "collapsed": true
   },
   "outputs": [],
   "source": [
    "data_object = data_clean2.iloc[:, :].select_dtypes(include=['object']).columns"
   ]
  },
  {
   "cell_type": "markdown",
   "metadata": {},
   "source": [
    "We defined  myFunction.MultiColumnLabelEncoder which  effectively Wraps sklearn LabelEncoder functionality(for encoding categorical variables) for use on multiple columns  of our data set. The multiple columns are those which were extracted above. As can be observed we parsed all such columns into myFunction.MultiColumnLabelEncoder."
   ]
  },
  {
   "cell_type": "code",
   "execution_count": 48,
   "metadata": {
    "collapsed": false
   },
   "outputs": [],
   "source": [
    "#create an instance of MultiColumnLabelEncoder and Pass the columns extracted to it\n",
    "ColumnObjectEncoder = myFunction.MultiColumnLabelEncoder(columns=data_object)"
   ]
  },
  {
   "cell_type": "markdown",
   "metadata": {},
   "source": [
    " The fit method of myFunction.MultiColumnLabelEncoder accesses individual column of our dataset via indexing. This effectively returns the columns of our data set which are of type object."
   ]
  },
  {
   "cell_type": "code",
   "execution_count": 49,
   "metadata": {
    "collapsed": false
   },
   "outputs": [
    {
     "data": {
      "text/plain": [
       "MultiColumnLabelEncoder(columns=Index(['player', 'club', 'leagueCountry', 'position', 'Alpha_3'], dtype='object'))"
      ]
     },
     "execution_count": 49,
     "metadata": {},
     "output_type": "execute_result"
    }
   ],
   "source": [
    "ColumnObjectEncoder.fit(data_clean2)"
   ]
  },
  {
   "cell_type": "markdown",
   "metadata": {},
   "source": [
    "We transform the columns of  object data type to encoded labels. This we do by calling ColumnObjectEncoder.transform."
   ]
  },
  {
   "cell_type": "code",
   "execution_count": 50,
   "metadata": {
    "collapsed": false
   },
   "outputs": [
    {
     "data": {
      "text/plain": [
       "array([[ 392,   34,    0,    1,   53],\n",
       "       [ 425,   48,    0,    6,   53],\n",
       "       [ 440,   54,    0,    4,   53],\n",
       "       ..., \n",
       "       [1536,   12,    2,    7,   42],\n",
       "       [1541,   91,    0,    8,   42],\n",
       "       [1553,    1,    2,    9,   42]])"
      ]
     },
     "execution_count": 50,
     "metadata": {},
     "output_type": "execute_result"
    }
   ],
   "source": [
    "# Finally transform \n",
    "ColumnObjectEncoder.transform(data_clean2)"
   ]
  },
  {
   "cell_type": "markdown",
   "metadata": {},
   "source": [
    "Now we can see that all our columns are numerical value and can be used by the RandomForest classifier"
   ]
  },
  {
   "cell_type": "code",
   "execution_count": 51,
   "metadata": {
    "collapsed": false
   },
   "outputs": [
    {
     "data": {
      "text/html": [
       "<div>\n",
       "<table border=\"1\" class=\"dataframe\">\n",
       "  <thead>\n",
       "    <tr style=\"text-align: right;\">\n",
       "      <th></th>\n",
       "      <th>player</th>\n",
       "      <th>club</th>\n",
       "      <th>leagueCountry</th>\n",
       "      <th>height</th>\n",
       "      <th>weight</th>\n",
       "      <th>position</th>\n",
       "      <th>games</th>\n",
       "      <th>victories</th>\n",
       "      <th>ties</th>\n",
       "      <th>defeats</th>\n",
       "      <th>goals</th>\n",
       "    </tr>\n",
       "  </thead>\n",
       "  <tbody>\n",
       "    <tr>\n",
       "      <th>5</th>\n",
       "      <td>392</td>\n",
       "      <td>34</td>\n",
       "      <td>0</td>\n",
       "      <td>182.0</td>\n",
       "      <td>71.0</td>\n",
       "      <td>1</td>\n",
       "      <td>1</td>\n",
       "      <td>0</td>\n",
       "      <td>0</td>\n",
       "      <td>1</td>\n",
       "      <td>0</td>\n",
       "    </tr>\n",
       "    <tr>\n",
       "      <th>6</th>\n",
       "      <td>425</td>\n",
       "      <td>48</td>\n",
       "      <td>0</td>\n",
       "      <td>187.0</td>\n",
       "      <td>80.0</td>\n",
       "      <td>6</td>\n",
       "      <td>1</td>\n",
       "      <td>1</td>\n",
       "      <td>0</td>\n",
       "      <td>0</td>\n",
       "      <td>0</td>\n",
       "    </tr>\n",
       "    <tr>\n",
       "      <th>7</th>\n",
       "      <td>440</td>\n",
       "      <td>54</td>\n",
       "      <td>0</td>\n",
       "      <td>180.0</td>\n",
       "      <td>68.0</td>\n",
       "      <td>4</td>\n",
       "      <td>1</td>\n",
       "      <td>0</td>\n",
       "      <td>0</td>\n",
       "      <td>1</td>\n",
       "      <td>0</td>\n",
       "    </tr>\n",
       "    <tr>\n",
       "      <th>8</th>\n",
       "      <td>454</td>\n",
       "      <td>49</td>\n",
       "      <td>0</td>\n",
       "      <td>193.0</td>\n",
       "      <td>80.0</td>\n",
       "      <td>5</td>\n",
       "      <td>1</td>\n",
       "      <td>0</td>\n",
       "      <td>1</td>\n",
       "      <td>0</td>\n",
       "      <td>0</td>\n",
       "    </tr>\n",
       "    <tr>\n",
       "      <th>9</th>\n",
       "      <td>456</td>\n",
       "      <td>2</td>\n",
       "      <td>2</td>\n",
       "      <td>180.0</td>\n",
       "      <td>70.0</td>\n",
       "      <td>9</td>\n",
       "      <td>1</td>\n",
       "      <td>1</td>\n",
       "      <td>0</td>\n",
       "      <td>0</td>\n",
       "      <td>0</td>\n",
       "    </tr>\n",
       "  </tbody>\n",
       "</table>\n",
       "</div>"
      ],
      "text/plain": [
       "   player  club  leagueCountry  height  weight  position  games  victories  \\\n",
       "5     392    34              0   182.0    71.0         1      1          0   \n",
       "6     425    48              0   187.0    80.0         6      1          1   \n",
       "7     440    54              0   180.0    68.0         4      1          0   \n",
       "8     454    49              0   193.0    80.0         5      1          0   \n",
       "9     456     2              2   180.0    70.0         9      1          1   \n",
       "\n",
       "   ties  defeats  goals  \n",
       "5     0        1      0  \n",
       "6     0        0      0  \n",
       "7     0        1      0  \n",
       "8     1        0      0  \n",
       "9     0        0      0  "
      ]
     },
     "execution_count": 51,
     "metadata": {},
     "output_type": "execute_result"
    }
   ],
   "source": [
    "data_clean2.ix[:,:11].head()"
   ]
  },
  {
   "cell_type": "code",
   "execution_count": 52,
   "metadata": {
    "collapsed": false
   },
   "outputs": [
    {
     "data": {
      "text/html": [
       "<div>\n",
       "<table border=\"1\" class=\"dataframe\">\n",
       "  <thead>\n",
       "    <tr style=\"text-align: right;\">\n",
       "      <th></th>\n",
       "      <th>yellowCards</th>\n",
       "      <th>yellowReds</th>\n",
       "      <th>redCards</th>\n",
       "      <th>Alpha_3</th>\n",
       "      <th>meanIAT</th>\n",
       "      <th>nIAT</th>\n",
       "      <th>seIAT</th>\n",
       "      <th>meanExp</th>\n",
       "      <th>nExp</th>\n",
       "      <th>seExp</th>\n",
       "      <th>meanRating</th>\n",
       "    </tr>\n",
       "  </thead>\n",
       "  <tbody>\n",
       "    <tr>\n",
       "      <th>5</th>\n",
       "      <td>0</td>\n",
       "      <td>0</td>\n",
       "      <td>0</td>\n",
       "      <td>53</td>\n",
       "      <td>0.325185</td>\n",
       "      <td>127.0</td>\n",
       "      <td>0.003297</td>\n",
       "      <td>0.538462</td>\n",
       "      <td>130.0</td>\n",
       "      <td>0.013752</td>\n",
       "      <td>0.125</td>\n",
       "    </tr>\n",
       "    <tr>\n",
       "      <th>6</th>\n",
       "      <td>0</td>\n",
       "      <td>0</td>\n",
       "      <td>0</td>\n",
       "      <td>53</td>\n",
       "      <td>0.325185</td>\n",
       "      <td>127.0</td>\n",
       "      <td>0.003297</td>\n",
       "      <td>0.538462</td>\n",
       "      <td>130.0</td>\n",
       "      <td>0.013752</td>\n",
       "      <td>0.125</td>\n",
       "    </tr>\n",
       "    <tr>\n",
       "      <th>7</th>\n",
       "      <td>0</td>\n",
       "      <td>0</td>\n",
       "      <td>0</td>\n",
       "      <td>53</td>\n",
       "      <td>0.325185</td>\n",
       "      <td>127.0</td>\n",
       "      <td>0.003297</td>\n",
       "      <td>0.538462</td>\n",
       "      <td>130.0</td>\n",
       "      <td>0.013752</td>\n",
       "      <td>1.000</td>\n",
       "    </tr>\n",
       "    <tr>\n",
       "      <th>8</th>\n",
       "      <td>0</td>\n",
       "      <td>0</td>\n",
       "      <td>0</td>\n",
       "      <td>53</td>\n",
       "      <td>0.325185</td>\n",
       "      <td>127.0</td>\n",
       "      <td>0.003297</td>\n",
       "      <td>0.538462</td>\n",
       "      <td>130.0</td>\n",
       "      <td>0.013752</td>\n",
       "      <td>0.250</td>\n",
       "    </tr>\n",
       "    <tr>\n",
       "      <th>9</th>\n",
       "      <td>0</td>\n",
       "      <td>0</td>\n",
       "      <td>0</td>\n",
       "      <td>53</td>\n",
       "      <td>0.325185</td>\n",
       "      <td>127.0</td>\n",
       "      <td>0.003297</td>\n",
       "      <td>0.538462</td>\n",
       "      <td>130.0</td>\n",
       "      <td>0.013752</td>\n",
       "      <td>0.000</td>\n",
       "    </tr>\n",
       "  </tbody>\n",
       "</table>\n",
       "</div>"
      ],
      "text/plain": [
       "   yellowCards  yellowReds  redCards  Alpha_3   meanIAT   nIAT     seIAT  \\\n",
       "5            0           0         0       53  0.325185  127.0  0.003297   \n",
       "6            0           0         0       53  0.325185  127.0  0.003297   \n",
       "7            0           0         0       53  0.325185  127.0  0.003297   \n",
       "8            0           0         0       53  0.325185  127.0  0.003297   \n",
       "9            0           0         0       53  0.325185  127.0  0.003297   \n",
       "\n",
       "    meanExp   nExp     seExp  meanRating  \n",
       "5  0.538462  130.0  0.013752       0.125  \n",
       "6  0.538462  130.0  0.013752       0.125  \n",
       "7  0.538462  130.0  0.013752       1.000  \n",
       "8  0.538462  130.0  0.013752       0.250  \n",
       "9  0.538462  130.0  0.013752       0.000  "
      ]
     },
     "execution_count": 52,
     "metadata": {},
     "output_type": "execute_result"
    }
   ],
   "source": [
    "data_clean2.ix[:,11:22].head()"
   ]
  },
  {
   "cell_type": "markdown",
   "metadata": {},
   "source": [
    "We then look at the data and we find that there are still a few nan values that are present in the data. But as we see there are not a lot. We decide to let go of them."
   ]
  },
  {
   "cell_type": "code",
   "execution_count": 53,
   "metadata": {
    "collapsed": false
   },
   "outputs": [
    {
     "data": {
      "text/plain": [
       "player             0\n",
       "club               0\n",
       "leagueCountry      0\n",
       "height            23\n",
       "weight           625\n",
       "position           0\n",
       "games              0\n",
       "victories          0\n",
       "ties               0\n",
       "defeats            0\n",
       "goals              0\n",
       "yellowCards        0\n",
       "yellowReds         0\n",
       "redCards           0\n",
       "Alpha_3            0\n",
       "meanIAT          110\n",
       "nIAT             110\n",
       "seIAT            110\n",
       "meanExp          110\n",
       "nExp             110\n",
       "seExp            110\n",
       "meanRating         0\n",
       "dtype: int64"
      ]
     },
     "execution_count": 53,
     "metadata": {},
     "output_type": "execute_result"
    }
   ],
   "source": [
    "data_clean2.isnull().sum()"
   ]
  },
  {
   "cell_type": "code",
   "execution_count": 54,
   "metadata": {
    "collapsed": true
   },
   "outputs": [],
   "source": [
    "data_clean2 = data_clean2.dropna()"
   ]
  },
  {
   "cell_type": "markdown",
   "metadata": {},
   "source": [
    "As we see we have dropped a large set of data, we will check that we did not loose too much data. We see that we only dropped 15% of the data which is quite good."
   ]
  },
  {
   "cell_type": "code",
   "execution_count": 55,
   "metadata": {
    "collapsed": false
   },
   "outputs": [
    {
     "name": "stdout",
     "output_type": "stream",
     "text": [
      "Percentage of data that was kept : 77.4693894321637  %\n"
     ]
    }
   ],
   "source": [
    "print('Percentage of data that was kept :',len(data_clean2)/len(data)*100,' %')"
   ]
  },
  {
   "cell_type": "markdown",
   "metadata": {},
   "source": [
    "#### Player Aggregation\n",
    "\n",
    "Now that we have cleaned the data we will aggregate the data per player. We will start by grouping by players and taking a look at one player"
   ]
  },
  {
   "cell_type": "code",
   "execution_count": 56,
   "metadata": {
    "collapsed": false
   },
   "outputs": [
    {
     "data": {
      "text/html": [
       "<div>\n",
       "<table border=\"1\" class=\"dataframe\">\n",
       "  <thead>\n",
       "    <tr style=\"text-align: right;\">\n",
       "      <th></th>\n",
       "      <th>player</th>\n",
       "      <th>club</th>\n",
       "      <th>leagueCountry</th>\n",
       "      <th>height</th>\n",
       "      <th>weight</th>\n",
       "      <th>position</th>\n",
       "      <th>games</th>\n",
       "      <th>victories</th>\n",
       "      <th>ties</th>\n",
       "      <th>defeats</th>\n",
       "      <th>goals</th>\n",
       "      <th>yellowCards</th>\n",
       "    </tr>\n",
       "  </thead>\n",
       "  <tbody>\n",
       "    <tr>\n",
       "      <th>2401</th>\n",
       "      <td>34</td>\n",
       "      <td>69</td>\n",
       "      <td>3</td>\n",
       "      <td>177.0</td>\n",
       "      <td>70.0</td>\n",
       "      <td>6</td>\n",
       "      <td>4</td>\n",
       "      <td>0</td>\n",
       "      <td>2</td>\n",
       "      <td>2</td>\n",
       "      <td>0</td>\n",
       "      <td>1</td>\n",
       "    </tr>\n",
       "    <tr>\n",
       "      <th>3190</th>\n",
       "      <td>34</td>\n",
       "      <td>69</td>\n",
       "      <td>3</td>\n",
       "      <td>177.0</td>\n",
       "      <td>70.0</td>\n",
       "      <td>6</td>\n",
       "      <td>8</td>\n",
       "      <td>4</td>\n",
       "      <td>2</td>\n",
       "      <td>2</td>\n",
       "      <td>0</td>\n",
       "      <td>0</td>\n",
       "    </tr>\n",
       "    <tr>\n",
       "      <th>5475</th>\n",
       "      <td>34</td>\n",
       "      <td>69</td>\n",
       "      <td>3</td>\n",
       "      <td>177.0</td>\n",
       "      <td>70.0</td>\n",
       "      <td>6</td>\n",
       "      <td>7</td>\n",
       "      <td>2</td>\n",
       "      <td>2</td>\n",
       "      <td>3</td>\n",
       "      <td>0</td>\n",
       "      <td>0</td>\n",
       "    </tr>\n",
       "    <tr>\n",
       "      <th>5905</th>\n",
       "      <td>34</td>\n",
       "      <td>69</td>\n",
       "      <td>3</td>\n",
       "      <td>177.0</td>\n",
       "      <td>70.0</td>\n",
       "      <td>6</td>\n",
       "      <td>2</td>\n",
       "      <td>1</td>\n",
       "      <td>0</td>\n",
       "      <td>1</td>\n",
       "      <td>0</td>\n",
       "      <td>0</td>\n",
       "    </tr>\n",
       "    <tr>\n",
       "      <th>6188</th>\n",
       "      <td>34</td>\n",
       "      <td>69</td>\n",
       "      <td>3</td>\n",
       "      <td>177.0</td>\n",
       "      <td>70.0</td>\n",
       "      <td>6</td>\n",
       "      <td>3</td>\n",
       "      <td>1</td>\n",
       "      <td>2</td>\n",
       "      <td>0</td>\n",
       "      <td>0</td>\n",
       "      <td>2</td>\n",
       "    </tr>\n",
       "  </tbody>\n",
       "</table>\n",
       "</div>"
      ],
      "text/plain": [
       "      player  club  leagueCountry  height  weight  position  games  victories  \\\n",
       "2401      34    69              3   177.0    70.0         6      4          0   \n",
       "3190      34    69              3   177.0    70.0         6      8          4   \n",
       "5475      34    69              3   177.0    70.0         6      7          2   \n",
       "5905      34    69              3   177.0    70.0         6      2          1   \n",
       "6188      34    69              3   177.0    70.0         6      3          1   \n",
       "\n",
       "      ties  defeats  goals  yellowCards  \n",
       "2401     2        2      0            1  \n",
       "3190     2        2      0            0  \n",
       "5475     2        3      0            0  \n",
       "5905     0        1      0            0  \n",
       "6188     2        0      0            2  "
      ]
     },
     "execution_count": 56,
     "metadata": {},
     "output_type": "execute_result"
    }
   ],
   "source": [
    "players = data_clean2.groupby('player')\n",
    "players.get_group(34).ix[:,0:12].head()"
   ]
  },
  {
   "cell_type": "code",
   "execution_count": 57,
   "metadata": {
    "collapsed": false
   },
   "outputs": [
    {
     "data": {
      "text/html": [
       "<div>\n",
       "<table border=\"1\" class=\"dataframe\">\n",
       "  <thead>\n",
       "    <tr style=\"text-align: right;\">\n",
       "      <th></th>\n",
       "      <th>yellowReds</th>\n",
       "      <th>redCards</th>\n",
       "      <th>Alpha_3</th>\n",
       "      <th>meanIAT</th>\n",
       "      <th>nIAT</th>\n",
       "      <th>seIAT</th>\n",
       "      <th>meanExp</th>\n",
       "      <th>nExp</th>\n",
       "      <th>seExp</th>\n",
       "      <th>meanRating</th>\n",
       "    </tr>\n",
       "  </thead>\n",
       "  <tbody>\n",
       "    <tr>\n",
       "      <th>2316</th>\n",
       "      <td>1</td>\n",
       "      <td>0</td>\n",
       "      <td>30</td>\n",
       "      <td>0.369894</td>\n",
       "      <td>1785.0</td>\n",
       "      <td>0.000229</td>\n",
       "      <td>0.588297</td>\n",
       "      <td>1897.0</td>\n",
       "      <td>0.001002</td>\n",
       "      <td>0.25</td>\n",
       "    </tr>\n",
       "    <tr>\n",
       "      <th>3141</th>\n",
       "      <td>0</td>\n",
       "      <td>0</td>\n",
       "      <td>30</td>\n",
       "      <td>0.369894</td>\n",
       "      <td>1785.0</td>\n",
       "      <td>0.000229</td>\n",
       "      <td>0.588297</td>\n",
       "      <td>1897.0</td>\n",
       "      <td>0.001002</td>\n",
       "      <td>0.25</td>\n",
       "    </tr>\n",
       "    <tr>\n",
       "      <th>4013</th>\n",
       "      <td>0</td>\n",
       "      <td>0</td>\n",
       "      <td>76</td>\n",
       "      <td>0.398174</td>\n",
       "      <td>526.0</td>\n",
       "      <td>0.000809</td>\n",
       "      <td>1.212727</td>\n",
       "      <td>550.0</td>\n",
       "      <td>0.004521</td>\n",
       "      <td>0.25</td>\n",
       "    </tr>\n",
       "    <tr>\n",
       "      <th>5426</th>\n",
       "      <td>0</td>\n",
       "      <td>0</td>\n",
       "      <td>30</td>\n",
       "      <td>0.369894</td>\n",
       "      <td>1785.0</td>\n",
       "      <td>0.000229</td>\n",
       "      <td>0.588297</td>\n",
       "      <td>1897.0</td>\n",
       "      <td>0.001002</td>\n",
       "      <td>0.25</td>\n",
       "    </tr>\n",
       "    <tr>\n",
       "      <th>5874</th>\n",
       "      <td>0</td>\n",
       "      <td>0</td>\n",
       "      <td>30</td>\n",
       "      <td>0.369894</td>\n",
       "      <td>1785.0</td>\n",
       "      <td>0.000229</td>\n",
       "      <td>0.588297</td>\n",
       "      <td>1897.0</td>\n",
       "      <td>0.001002</td>\n",
       "      <td>0.25</td>\n",
       "    </tr>\n",
       "  </tbody>\n",
       "</table>\n",
       "</div>"
      ],
      "text/plain": [
       "      yellowReds  redCards  Alpha_3   meanIAT    nIAT     seIAT   meanExp  \\\n",
       "2316           1         0       30  0.369894  1785.0  0.000229  0.588297   \n",
       "3141           0         0       30  0.369894  1785.0  0.000229  0.588297   \n",
       "4013           0         0       76  0.398174   526.0  0.000809  1.212727   \n",
       "5426           0         0       30  0.369894  1785.0  0.000229  0.588297   \n",
       "5874           0         0       30  0.369894  1785.0  0.000229  0.588297   \n",
       "\n",
       "        nExp     seExp  meanRating  \n",
       "2316  1897.0  0.001002        0.25  \n",
       "3141  1897.0  0.001002        0.25  \n",
       "4013   550.0  0.004521        0.25  \n",
       "5426  1897.0  0.001002        0.25  \n",
       "5874  1897.0  0.001002        0.25  "
      ]
     },
     "execution_count": 57,
     "metadata": {},
     "output_type": "execute_result"
    }
   ],
   "source": [
    "players.get_group(3).ix[:,12:22].head()"
   ]
  },
  {
   "cell_type": "markdown",
   "metadata": {},
   "source": [
    "As we can see, we have to apply different functions that have to be applied for each column for a correct aggregation without loosing any information.\n",
    "\n",
    "For different columns we will apply different functions:\n",
    "- club, leagueCountry, height, age, position, Alpha_3, meanRating : Taking the most frequent value in all games is a good representation of the player. (For height, age and meanRating it will be the right value).\n",
    "- games, victories, ties, defeats, goals, yellowCards, yellowReds, redCards we will sum all the values. \n",
    "- For the referee information we will use a custom functions\n",
    "\n",
    "#### Aggregating referee information\n",
    "\n",
    "Let's take a custom player represented by the following table, a set of referee - player dyad.\n",
    "\n",
    "| meanIAT | nIAT | seIAT |\n",
    "|---------|------|-------|\n",
    "| $$m_1$$      | $$N_1$$   | $$s_1$$    |\n",
    "|    $$m_2$$   | $$N_2$$   | $$s_2$$    |\n",
    "| $$m_3$$      | $$N_3$$   | $$s_3$$    |\n",
    "\n",
    "Given this information we need to calculate the new values per player that ecompasses the information from all of the dyads for one player.\n",
    "\n",
    "For the mean we choose the following function:\n",
    "\n",
    "\n",
    "$$MeanIATPlayer = \\frac{m_1*N_1 + m_2*N_2 + m_3*N_3}{N_1+N_2+N_3}$$\n",
    "\n",
    "The new number of samples is simply:\n",
    "\n",
    "$$N_{tot} = N_1+N_2+N_33$$\n",
    "\n",
    "And finally the standard deviation is simply computed with the data above:\n",
    "\n",
    "$$STD = \\sqrt{\\frac{1}{N_{tot}}*\\sum_{i}^{n}(m_i - meanIATPlayer)^2)}$$\n",
    "\n",
    "\n",
    "The aggregation is done in the notebook \"Aggregation\"."
   ]
  },
  {
   "cell_type": "markdown",
   "metadata": {},
   "source": [
    "# Prediction of the skin color\n",
    "\n",
    "Now that we have the data we will begin with the machine learning part.\n"
   ]
  },
  {
   "cell_type": "markdown",
   "metadata": {},
   "source": [
    "For this dataset we decided to treat the problem as binary, meaning the player can be either black or white (1.0 or 0.0). To do this we need to divide the skin colors in two categories. We change the value smaller or equal to 0.5 to 0.0 and the other value to 1.0. This is done by the function defined below."
   ]
  },
  {
   "cell_type": "code",
   "execution_count": 58,
   "metadata": {
    "collapsed": false
   },
   "outputs": [
    {
     "data": {
      "text/plain": [
       "(1551,)"
      ]
     },
     "execution_count": 58,
     "metadata": {},
     "output_type": "execute_result"
    }
   ],
   "source": [
    "#Use the mean of the two raters as the target output (removing the nan, where the photo is not available)\n",
    "playerData = pd.read_csv('Data/playerData.csv')\n",
    "\n",
    "data_features = playerData.drop(['meanRating','Unnamed: 0'], axis=1)\n",
    "\n",
    "\n",
    "#We will define the function to transform the ratings into binary classes\n",
    "\n",
    "def transform_rating(series):\n",
    "    if series <= 0.5:\n",
    "        return 0.0\n",
    "    else:\n",
    "        return 1.0\n",
    "\n",
    "# We collect the labels from the data \n",
    "labels = playerData['meanRating'].apply(transform_rating)\n",
    "labels.shape"
   ]
  },
  {
   "cell_type": "markdown",
   "metadata": {},
   "source": [
    "Quick look of the data"
   ]
  },
  {
   "cell_type": "code",
   "execution_count": 59,
   "metadata": {
    "collapsed": false
   },
   "outputs": [
    {
     "data": {
      "text/html": [
       "<div>\n",
       "<table border=\"1\" class=\"dataframe\">\n",
       "  <thead>\n",
       "    <tr style=\"text-align: right;\">\n",
       "      <th></th>\n",
       "      <th>club</th>\n",
       "      <th>leagueCountry</th>\n",
       "      <th>height</th>\n",
       "      <th>weight</th>\n",
       "      <th>position</th>\n",
       "      <th>games</th>\n",
       "      <th>victories</th>\n",
       "      <th>ties</th>\n",
       "      <th>defeats</th>\n",
       "      <th>goals</th>\n",
       "      <th>...</th>\n",
       "      <th>yellowReds</th>\n",
       "      <th>redCards</th>\n",
       "      <th>Alpha_3</th>\n",
       "      <th>meanIAT</th>\n",
       "      <th>nIAT</th>\n",
       "      <th>seIAT</th>\n",
       "      <th>meanExp</th>\n",
       "      <th>nExp</th>\n",
       "      <th>seExp</th>\n",
       "      <th>yellowRed</th>\n",
       "    </tr>\n",
       "  </thead>\n",
       "  <tbody>\n",
       "    <tr>\n",
       "      <th>0</th>\n",
       "      <td>29</td>\n",
       "      <td>3</td>\n",
       "      <td>172.0</td>\n",
       "      <td>67.0</td>\n",
       "      <td>7</td>\n",
       "      <td>364</td>\n",
       "      <td>226</td>\n",
       "      <td>57</td>\n",
       "      <td>81</td>\n",
       "      <td>32</td>\n",
       "      <td>...</td>\n",
       "      <td>1</td>\n",
       "      <td>3</td>\n",
       "      <td>30</td>\n",
       "      <td>0.330002</td>\n",
       "      <td>2574735.0</td>\n",
       "      <td>0.000231</td>\n",
       "      <td>0.330002</td>\n",
       "      <td>2655936.0</td>\n",
       "      <td>0.001431</td>\n",
       "      <td>1.0</td>\n",
       "    </tr>\n",
       "    <tr>\n",
       "      <th>1</th>\n",
       "      <td>10</td>\n",
       "      <td>3</td>\n",
       "      <td>183.0</td>\n",
       "      <td>73.0</td>\n",
       "      <td>2</td>\n",
       "      <td>294</td>\n",
       "      <td>145</td>\n",
       "      <td>62</td>\n",
       "      <td>87</td>\n",
       "      <td>60</td>\n",
       "      <td>...</td>\n",
       "      <td>0</td>\n",
       "      <td>0</td>\n",
       "      <td>30</td>\n",
       "      <td>0.329110</td>\n",
       "      <td>2565503.0</td>\n",
       "      <td>0.000233</td>\n",
       "      <td>0.329110</td>\n",
       "      <td>2647455.0</td>\n",
       "      <td>0.001179</td>\n",
       "      <td>0.0</td>\n",
       "    </tr>\n",
       "    <tr>\n",
       "      <th>2</th>\n",
       "      <td>35</td>\n",
       "      <td>3</td>\n",
       "      <td>171.0</td>\n",
       "      <td>69.0</td>\n",
       "      <td>2</td>\n",
       "      <td>178</td>\n",
       "      <td>53</td>\n",
       "      <td>43</td>\n",
       "      <td>82</td>\n",
       "      <td>39</td>\n",
       "      <td>...</td>\n",
       "      <td>1</td>\n",
       "      <td>0</td>\n",
       "      <td>30</td>\n",
       "      <td>0.366673</td>\n",
       "      <td>87911.0</td>\n",
       "      <td>0.000358</td>\n",
       "      <td>0.366673</td>\n",
       "      <td>92973.0</td>\n",
       "      <td>0.001335</td>\n",
       "      <td>1.0</td>\n",
       "    </tr>\n",
       "    <tr>\n",
       "      <th>3</th>\n",
       "      <td>9</td>\n",
       "      <td>3</td>\n",
       "      <td>182.0</td>\n",
       "      <td>78.0</td>\n",
       "      <td>2</td>\n",
       "      <td>322</td>\n",
       "      <td>125</td>\n",
       "      <td>82</td>\n",
       "      <td>115</td>\n",
       "      <td>105</td>\n",
       "      <td>...</td>\n",
       "      <td>3</td>\n",
       "      <td>4</td>\n",
       "      <td>30</td>\n",
       "      <td>0.340878</td>\n",
       "      <td>305901.0</td>\n",
       "      <td>0.000437</td>\n",
       "      <td>0.340878</td>\n",
       "      <td>321422.0</td>\n",
       "      <td>0.002612</td>\n",
       "      <td>3.0</td>\n",
       "    </tr>\n",
       "    <tr>\n",
       "      <th>4</th>\n",
       "      <td>66</td>\n",
       "      <td>3</td>\n",
       "      <td>190.0</td>\n",
       "      <td>88.0</td>\n",
       "      <td>5</td>\n",
       "      <td>44</td>\n",
       "      <td>22</td>\n",
       "      <td>6</td>\n",
       "      <td>16</td>\n",
       "      <td>0</td>\n",
       "      <td>...</td>\n",
       "      <td>0</td>\n",
       "      <td>1</td>\n",
       "      <td>30</td>\n",
       "      <td>0.348044</td>\n",
       "      <td>105304.0</td>\n",
       "      <td>0.000459</td>\n",
       "      <td>0.348044</td>\n",
       "      <td>110781.0</td>\n",
       "      <td>0.002894</td>\n",
       "      <td>0.0</td>\n",
       "    </tr>\n",
       "  </tbody>\n",
       "</table>\n",
       "<p>5 rows × 21 columns</p>\n",
       "</div>"
      ],
      "text/plain": [
       "   club  leagueCountry  height  weight  position  games  victories  ties  \\\n",
       "0    29              3   172.0    67.0         7    364        226    57   \n",
       "1    10              3   183.0    73.0         2    294        145    62   \n",
       "2    35              3   171.0    69.0         2    178         53    43   \n",
       "3     9              3   182.0    78.0         2    322        125    82   \n",
       "4    66              3   190.0    88.0         5     44         22     6   \n",
       "\n",
       "   defeats  goals    ...      yellowReds  redCards  Alpha_3   meanIAT  \\\n",
       "0       81     32    ...               1         3       30  0.330002   \n",
       "1       87     60    ...               0         0       30  0.329110   \n",
       "2       82     39    ...               1         0       30  0.366673   \n",
       "3      115    105    ...               3         4       30  0.340878   \n",
       "4       16      0    ...               0         1       30  0.348044   \n",
       "\n",
       "        nIAT     seIAT   meanExp       nExp     seExp  yellowRed  \n",
       "0  2574735.0  0.000231  0.330002  2655936.0  0.001431        1.0  \n",
       "1  2565503.0  0.000233  0.329110  2647455.0  0.001179        0.0  \n",
       "2    87911.0  0.000358  0.366673    92973.0  0.001335        1.0  \n",
       "3   305901.0  0.000437  0.340878   321422.0  0.002612        3.0  \n",
       "4   105304.0  0.000459  0.348044   110781.0  0.002894        0.0  \n",
       "\n",
       "[5 rows x 21 columns]"
      ]
     },
     "execution_count": 59,
     "metadata": {},
     "output_type": "execute_result"
    }
   ],
   "source": [
    "data_features.head()"
   ]
  },
  {
   "cell_type": "markdown",
   "metadata": {},
   "source": [
    "We will apply a Random Forest classifier on our data in order to predict the skin color of a players based on its description data"
   ]
  },
  {
   "cell_type": "markdown",
   "metadata": {},
   "source": [
    "Here we importe the sklearn function we need and train the classifier on all the data set. We predict the training accuracy"
   ]
  },
  {
   "cell_type": "code",
   "execution_count": 60,
   "metadata": {
    "collapsed": false
   },
   "outputs": [
    {
     "name": "stdout",
     "output_type": "stream",
     "text": [
      "0.985170857511\n"
     ]
    }
   ],
   "source": [
    "from sklearn.ensemble import RandomForestClassifier\n",
    "from sklearn import metrics\n",
    "\n",
    "#Training accuracy of the random forest classifier on all data\n",
    "\n",
    "randomforest = RandomForestClassifier()\n",
    "\n",
    "randomforest.fit(data_features,labels)\n",
    "\n",
    "data_predict = randomforest.predict(data_features)\n",
    "\n",
    "# compute classification accuracy for the Random forest classifier model\n",
    "\n",
    "print(metrics.accuracy_score(labels, data_predict))\n",
    "\n"
   ]
  },
  {
   "cell_type": "markdown",
   "metadata": {},
   "source": [
    "We see that we obtain a high accurary. But this is only training accuracy obtained by testing our model on the same data used to train it and it doesn't reliably represent the accuracy of the model. For that, we need testing accuracy by testing the model on data that were not used for training. This is what is done below\n",
    "\n"
   ]
  },
  {
   "cell_type": "markdown",
   "metadata": {},
   "source": [
    "We start by splitting the data in testing and training sets"
   ]
  },
  {
   "cell_type": "code",
   "execution_count": 78,
   "metadata": {
    "collapsed": true
   },
   "outputs": [],
   "source": [
    "#split data_features and data_labels into training and testing sets\n",
    "from sklearn.cross_validation import train_test_split\n",
    "features_train, features_test, labels_train, labels_test = train_test_split(data_features, labels, test_size=0.4, random_state=4)\n",
    "\n"
   ]
  },
  {
   "cell_type": "markdown",
   "metadata": {},
   "source": [
    "Here we predict the labels for both the training and testing sets"
   ]
  },
  {
   "cell_type": "code",
   "execution_count": 79,
   "metadata": {
    "collapsed": false
   },
   "outputs": [
    {
     "name": "stdout",
     "output_type": "stream",
     "text": [
      "training accuracy\n",
      "0.983870967742\n",
      "testing accuracy\n",
      "0.829307568438\n"
     ]
    }
   ],
   "source": [
    "randomforest = RandomForestClassifier()\n",
    "randomforest.fit(features_train, labels_train)\n",
    "labels_pred_test = randomforest.predict(features_test) #testing prediction\n",
    "labels_pred_train = randomforest.predict(features_train) #training prediction\n",
    "\n",
    "#training accuracy\n",
    "print('training accuracy')\n",
    "print(metrics.accuracy_score(labels_train, labels_pred_train))\n",
    "#testing accuracy\n",
    "print('testing accuracy')\n",
    "print(metrics.accuracy_score(labels_test, labels_pred_test))\n",
    "\n"
   ]
  },
  {
   "cell_type": "markdown",
   "metadata": {},
   "source": [
    "We can see that the testing accuracy is smaller than the training accuracy as expected. "
   ]
  },
  {
   "cell_type": "markdown",
   "metadata": {},
   "source": [
    "We can show the result with more precision in another form using a confusion matrix. "
   ]
  },
  {
   "cell_type": "code",
   "execution_count": 80,
   "metadata": {
    "collapsed": false
   },
   "outputs": [
    {
     "data": {
      "text/plain": [
       "array([[496,  17],\n",
       "       [ 89,  19]])"
      ]
     },
     "execution_count": 80,
     "metadata": {},
     "output_type": "execute_result"
    }
   ],
   "source": [
    "from sklearn.metrics import confusion_matrix\n",
    "confusion_matrix = confusion_matrix(labels_test, labels_pred_test)\n",
    "confusion_matrix"
   ]
  },
  {
   "cell_type": "markdown",
   "metadata": {},
   "source": [
    "We can see that we classify white player pretty well. We have a large fraction correctly classified white player (up right) and a small fraction white player that are classified as black (low right). The classification for the black player is less accurate. A little more black players are correctly classified (low left) against black player misclassified (up left). A rate that is close to 50-50 which is not particularly good. The fact that there is more white player should play an important role in this result."
   ]
  },
  {
   "cell_type": "markdown",
   "metadata": {},
   "source": [
    "# Effect of parameters over overfitting\n",
    "\n",
    "Now we will investigate the effect of some parameters on the model. Particularly, we will see if certain value lead to overfitting"
   ]
  },
  {
   "cell_type": "markdown",
   "metadata": {},
   "source": [
    "To show the impact of the parameters of the RandomForestClassifier over the overfitting issue we will plot the training and testing accuracy againt different value for tested parameters. We will not use crossvalidation as before as it return the testing accuracy and not the training accuracy. Instead the data set will simply be split into training data and testing data (40% for testing data).\n",
    "\n"
   ]
  },
  {
   "cell_type": "code",
   "execution_count": 82,
   "metadata": {
    "collapsed": true
   },
   "outputs": [],
   "source": [
    "#split data_features and data_labels into training and testing sets\n",
    "from sklearn.cross_validation import train_test_split\n",
    "features_train, features_test, labels_train, labels_test = train_test_split(data_features, labels, test_size=0.4, random_state=4)\n",
    "\n"
   ]
  },
  {
   "cell_type": "markdown",
   "metadata": {},
   "source": [
    "Here we will the see the impact of the parameter 'min_samples_split' which represent the minimum number of samples required to split an internal node. This means that a a bigger number will simplify the model and that the value 2 (the minimum possible) represent the maximum complexity relatively to this parameter."
   ]
  },
  {
   "cell_type": "code",
   "execution_count": 83,
   "metadata": {
    "collapsed": true
   },
   "outputs": [],
   "source": [
    "#Hyperparameter 'min_samples_split'\n",
    "\n",
    "split_range = list(range(2,16))\n",
    "scores_test = []\n",
    "scores_train = []\n",
    "for number in split_range:\n",
    "    randomforest = RandomForestClassifier(min_samples_split=number)\n",
    "    randomforest.fit(features_train, labels_train)\n",
    "    labels_pred_test = randomforest.predict(features_test) #testing prediction\n",
    "    labels_pred_train = randomforest.predict(features_train) #training prediction\n",
    "    \n",
    "    scores_test.append(metrics.accuracy_score(labels_test, labels_pred_test)) \n",
    "    scores_train.append(metrics.accuracy_score(labels_train, labels_pred_train)) "
   ]
  },
  {
   "cell_type": "markdown",
   "metadata": {},
   "source": [
    "Now we plot the result for the testing and training accuracy agains the different value of the hyperparameter"
   ]
  },
  {
   "cell_type": "code",
   "execution_count": 84,
   "metadata": {
    "collapsed": false
   },
   "outputs": [
    {
     "data": {
      "text/plain": [
       "<matplotlib.legend.Legend at 0x118282be0>"
      ]
     },
     "execution_count": 84,
     "metadata": {},
     "output_type": "execute_result"
    },
    {
     "data": {
      "image/png": "[encoded data removed]",
      "text/plain": [
       "<matplotlib.figure.Figure at 0x118f9d5c0>"
      ]
     },
     "metadata": {},
     "output_type": "display_data"
    }
   ],
   "source": [
    "# import Matplotlib (scientific plotting library)\n",
    "import matplotlib.pyplot as plt\n",
    "import matplotlib.patches as mpatches\n",
    "\n",
    "# allow plots to appear within the notebook\n",
    "%matplotlib inline\n",
    "\n",
    "# plot the relationship between K and testing accuracy\n",
    "plt.plot(split_range, scores_test, label='training accuracy')\n",
    "plt.xlabel('Value of number of sample to split an internal node')\n",
    "plt.ylabel('Testing Accuracy')\n",
    "\n",
    "plt.plot(split_range, scores_train, label='testing error')\n",
    "plt.xlabel('Value of number of sample to split an internal node')\n",
    "plt.ylabel('Accuracy')\n",
    "\n",
    "blue = mpatches.Patch(color='blue', label='testing accuracy')\n",
    "green = mpatches.Patch(color='green', label='training accuracy')\n",
    "plt.legend(handles=[blue, green])"
   ]
  },
  {
   "cell_type": "markdown",
   "metadata": {},
   "source": [
    "Indeed we can see that the training accuracy is decreasing with the simplification of the model while the testing accuracy is staying roughly the same (taking the variance into account). In other words the model is overfitting to the training data when we use a small value for this parameter. To be precise, as the testing accuracy doesn't seems to be impacted strongly by the parameter change, the overfitting issue is not really important. True overfitting is when the training accuracy augment while the testing accuracy decrease, which means our model will not generalize well."
   ]
  },
  {
   "cell_type": "markdown",
   "metadata": {},
   "source": [
    "Now we will test the n_estimator parameter which represent the number of trees in the forest. This parameter is directly related to the complexity the of the model. Bigger estimator values means more trees which means more complex model."
   ]
  },
  {
   "cell_type": "code",
   "execution_count": 85,
   "metadata": {
    "collapsed": true
   },
   "outputs": [],
   "source": [
    "\n",
    "#Hyperparameter estimator\n",
    "\n",
    "estimator_range = list(range(5,35))\n",
    "scores_test = []\n",
    "scores_train = []\n",
    "for number in estimator_range:\n",
    "    randomforest = RandomForestClassifier(n_estimators=number)\n",
    "    randomforest.fit(features_train, labels_train)\n",
    "    labels_pred_test = randomforest.predict(features_test) #testing prediction\n",
    "    labels_pred_train = randomforest.predict(features_train) #training prediction\n",
    "    \n",
    "    scores_test.append(metrics.accuracy_score(labels_test, labels_pred_test)) \n",
    "    scores_train.append(metrics.accuracy_score(labels_train, labels_pred_train)) \n",
    "    "
   ]
  },
  {
   "cell_type": "code",
   "execution_count": 86,
   "metadata": {
    "collapsed": false
   },
   "outputs": [
    {
     "data": {
      "text/plain": [
       "<matplotlib.legend.Legend at 0x11ae954a8>"
      ]
     },
     "execution_count": 86,
     "metadata": {},
     "output_type": "execute_result"
    },
    {
     "data": {
      "image/png": "[encoded data removed]",
      "text/plain": [
       "<matplotlib.figure.Figure at 0x1098a6b38>"
      ]
     },
     "metadata": {},
     "output_type": "display_data"
    }
   ],
   "source": [
    "# import Matplotlib (scientific plotting library)\n",
    "import matplotlib.pyplot as plt\n",
    "\n",
    "# allow plots to appear within the notebook\n",
    "%matplotlib inline\n",
    "\n",
    "# plot the relationship between K and testing accuracy\n",
    "plt.plot(estimator_range, scores_test)\n",
    "plt.xlabel('Value of number of sample to split an internal node')\n",
    "plt.ylabel('Testing Accuracy')\n",
    "\n",
    "plt.plot(estimator_range, scores_train)\n",
    "plt.xlabel('Value of number of sample to split an internal node')\n",
    "plt.ylabel('Accuracy')\n",
    "\n",
    "\n",
    "blue = mpatches.Patch(color='blue', label='testing accuracy')\n",
    "green = mpatches.Patch(color='green', label='training accuracy')\n",
    "plt.legend(handles=[blue, green])"
   ]
  },
  {
   "cell_type": "markdown",
   "metadata": {},
   "source": [
    "Here the training accuracy increase continuously while the testing accuracy increase slighlty at the beginning and then reach a plateau (taking the variance into account). Thus the model is overfitting to the training data when we use a too large number of trees (a complex model)"
   ]
  },
  {
   "cell_type": "markdown",
   "metadata": {},
   "source": [
    "# Cross validation to mitigate overfitting and parameters tuning\n",
    "\n",
    "Now we will perform cross validation to have a reliable testing accuracy. After that we will use cross validation to try to fine tune a parameters for better results."
   ]
  },
  {
   "cell_type": "markdown",
   "metadata": {},
   "source": [
    "Here we import the cross validation score function and we run a 10 folds cross validation."
   ]
  },
  {
   "cell_type": "code",
   "execution_count": 87,
   "metadata": {
    "collapsed": false
   },
   "outputs": [
    {
     "name": "stdout",
     "output_type": "stream",
     "text": [
      "[ 0.82051282  0.87741935  0.85806452  0.8         0.8516129   0.83870968\n",
      "  0.82580645  0.84516129  0.85806452  0.83870968]\n"
     ]
    }
   ],
   "source": [
    "from sklearn.cross_validation import cross_val_score\n",
    "\n",
    "# 10-fold cross-validation\n",
    "\n",
    "randomforest = RandomForestClassifier(n_estimators=30)\n",
    "scores = cross_val_score(randomforest, data_features, labels, cv=10, scoring='accuracy')\n",
    "print(scores)"
   ]
  },
  {
   "cell_type": "markdown",
   "metadata": {},
   "source": [
    "With this crossvalidation we obtain a test accuracy for each 10 folds. We can observe that each testing accuracy is a little smaller than the training accuracy obtained before.\n",
    "We take the average of the 10 testing accuracy to have a reliable value for the testing accuracy of the Random Forest model we used."
   ]
  },
  {
   "cell_type": "code",
   "execution_count": 88,
   "metadata": {
    "collapsed": false
   },
   "outputs": [
    {
     "data": {
      "text/plain": [
       "0.84140612076095955"
      ]
     },
     "execution_count": 88,
     "metadata": {},
     "output_type": "execute_result"
    }
   ],
   "source": [
    "scores.mean()"
   ]
  },
  {
   "cell_type": "markdown",
   "metadata": {},
   "source": [
    "The average testing accuracy is 85% which is not bad but will often make mistake when trying to predict the color of the skin of a player."
   ]
  },
  {
   "cell_type": "markdown",
   "metadata": {},
   "source": [
    "We will try to improve the scores by playing with the hyperparameters of the RandomForest model. We run a cross validation for different value of the parameters n_estimator and look for improvement in accuracy. We perform a 5 folds cross validation (for computation time reasons)"
   ]
  },
  {
   "cell_type": "code",
   "execution_count": 89,
   "metadata": {
    "collapsed": false
   },
   "outputs": [
    {
     "name": "stdout",
     "output_type": "stream",
     "text": [
      "[0.82205128205128197, 0.83495037220843682, 0.81687758478081052, 0.83366418527708852, 0.82655500413564931, 0.83881306865177829, 0.828498759305211, 0.82785359801488845, 0.8349462365591398, 0.83752688172043011, 0.84785359801488824, 0.84527295285359805, 0.83752688172043011, 0.84011166253101732, 0.84204301075268828, 0.83752688172043011, 0.84139784946236562, 0.84268817204301061, 0.84270057899090156, 0.83688585607940458, 0.83430521091811427, 0.83301075268817204, 0.84334574028122433, 0.84011166253101732, 0.8420512820512821, 0.84075268817204307, 0.84848635235732017, 0.83881720430107531, 0.84011579818031434, 0.84075682382134009, 0.83752688172043011, 0.84075682382133987, 0.84655086848635219, 0.8472043010752689, 0.84139784946236562, 0.83558726220016533, 0.84140198511166253, 0.84461952026468157, 0.84462365591397837, 0.83946236559139786, 0.84203473945409435, 0.84720843672456569, 0.84527295285359794, 0.84526881720430114, 0.84655913978494635]\n"
     ]
    }
   ],
   "source": [
    "#We make a 5 folds crossvalidation for each value of the hyperparameter (Not 10 as before for computation time reason)\n",
    "\n",
    "split_range = list(range(5, 50))\n",
    "split_scores = []\n",
    "for number in split_range:\n",
    "    randomforest = RandomForestClassifier(n_estimators=number)\n",
    "    scores = cross_val_score(randomforest, data_features, labels, cv=10, scoring='accuracy')\n",
    "    split_scores.append(scores.mean())\n",
    "print(split_scores)"
   ]
  },
  {
   "cell_type": "markdown",
   "metadata": {},
   "source": [
    "We plot the results of the cross validation against the n_estimator value"
   ]
  },
  {
   "cell_type": "code",
   "execution_count": 90,
   "metadata": {
    "collapsed": false
   },
   "outputs": [
    {
     "data": {
      "text/plain": [
       "<matplotlib.text.Text at 0x11afdd668>"
      ]
     },
     "execution_count": 90,
     "metadata": {},
     "output_type": "execute_result"
    },
    {
     "data": {
      "image/png": "[encoded data removed]",
      "text/plain": [
       "<matplotlib.figure.Figure at 0x11affcda0>"
      ]
     },
     "metadata": {},
     "output_type": "display_data"
    }
   ],
   "source": [
    "import matplotlib.pyplot as plt\n",
    "%matplotlib inline\n",
    "\n",
    "plt.plot(split_range, split_scores)\n",
    "plt.xlabel('Value of split number for random forest')\n",
    "plt.ylabel('Cross-Validated Accuracy')"
   ]
  },
  {
   "cell_type": "markdown",
   "metadata": {},
   "source": [
    "We can observe that the accuracy increase before reaching a 'plateau' around value of 30. So using a value of 30 seems enough complexity for the model, but less than 15 could be bad."
   ]
  },
  {
   "cell_type": "markdown",
   "metadata": {},
   "source": [
    "We wanted to see if Performing PCA on the features data set increase the prediction accuracy. I doesn't increase the accuracy. It even decrease it a little as can be see below"
   ]
  },
  {
   "cell_type": "code",
   "execution_count": 91,
   "metadata": {
    "collapsed": false
   },
   "outputs": [
    {
     "name": "stdout",
     "output_type": "stream",
     "text": [
      "[ 0.82051282  0.84516129  0.85806452  0.81290323  0.84516129  0.82580645\n",
      "  0.80645161  0.84516129  0.83225806  0.84516129]\n",
      "Average\n"
     ]
    },
    {
     "data": {
      "text/plain": [
       "0.83366418527708852"
      ]
     },
     "execution_count": 91,
     "metadata": {},
     "output_type": "execute_result"
    }
   ],
   "source": [
    "from sklearn.decomposition import PCA\n",
    "\n",
    "pca = PCA(n_components=10)\n",
    "\n",
    "data_features_pca = pca.fit_transform(data_features)\n",
    "\n",
    "\n",
    "randomforest = RandomForestClassifier(criterion='entropy', n_estimators=35)\n",
    "scores = cross_val_score(randomforest, data_features_pca, labels, cv=10, scoring='accuracy')\n",
    "print(scores)\n",
    "\n",
    "print('Average')\n",
    "scores.mean()"
   ]
  },
  {
   "cell_type": "markdown",
   "metadata": {},
   "source": [
    "# Feature Importance\n",
    "\n",
    "Here we will use RandomForest to output how important each feature is in the classification. We have provided below the names of the column headers and the associated \"importance value\" it has."
   ]
  },
  {
   "cell_type": "markdown",
   "metadata": {},
   "source": [
    "Here we train a random forest model"
   ]
  },
  {
   "cell_type": "code",
   "execution_count": 92,
   "metadata": {
    "collapsed": false
   },
   "outputs": [
    {
     "data": {
      "text/plain": [
       "RandomForestClassifier(bootstrap=True, class_weight=None, criterion='gini',\n",
       "            max_depth=None, max_features='auto', max_leaf_nodes=None,\n",
       "            min_samples_leaf=1, min_samples_split=2,\n",
       "            min_weight_fraction_leaf=0.0, n_estimators=35, n_jobs=1,\n",
       "            oob_score=False, random_state=None, verbose=0,\n",
       "            warm_start=False)"
      ]
     },
     "execution_count": 92,
     "metadata": {},
     "output_type": "execute_result"
    }
   ],
   "source": [
    "randomforest = RandomForestClassifier(n_estimators=35)\n",
    "\n",
    "randomforest.fit(data_features,labels)\n",
    "\n"
   ]
  },
  {
   "cell_type": "markdown",
   "metadata": {},
   "source": [
    "The feature importances attribute output the importance value of each feature"
   ]
  },
  {
   "cell_type": "code",
   "execution_count": 93,
   "metadata": {
    "collapsed": false
   },
   "outputs": [
    {
     "data": {
      "text/plain": [
       "array([ 0.04628485,  0.03282313,  0.03697589,  0.04247604,  0.02871366,\n",
       "        0.057199  ,  0.05544516,  0.04381086,  0.05157194,  0.05326901,\n",
       "        0.04460817,  0.01576546,  0.01796114,  0.0503221 ,  0.05969272,\n",
       "        0.04974299,  0.10932741,  0.05310649,  0.05498558,  0.08001551,\n",
       "        0.01590288])"
      ]
     },
     "execution_count": 93,
     "metadata": {},
     "output_type": "execute_result"
    }
   ],
   "source": [
    "randomforest.feature_importances_"
   ]
  },
  {
   "cell_type": "markdown",
   "metadata": {},
   "source": [
    "We sort them and add their corresponding name"
   ]
  },
  {
   "cell_type": "code",
   "execution_count": 94,
   "metadata": {
    "collapsed": false
   },
   "outputs": [
    {
     "name": "stdout",
     "output_type": "stream",
     "text": [
      "[(0.10929999999999999, 'seIAT'), (0.080000000000000002, 'seExp'), (0.059700000000000003, 'meanIAT'), (0.057200000000000001, 'games'), (0.055399999999999998, 'victories'), (0.055, 'nExp'), (0.0533, 'goals'), (0.053100000000000001, 'meanExp'), (0.0516, 'defeats'), (0.050299999999999997, 'Alpha_3'), (0.049700000000000001, 'nIAT'), (0.046300000000000001, 'club'), (0.044600000000000001, 'yellowCards'), (0.043799999999999999, 'ties'), (0.042500000000000003, 'weight'), (0.036999999999999998, 'height'), (0.032800000000000003, 'leagueCountry'), (0.0287, 'position'), (0.017999999999999999, 'redCards'), (0.015900000000000001, 'yellowRed'), (0.015800000000000002, 'yellowReds')]\n"
     ]
    }
   ],
   "source": [
    "\n",
    "Feature_name = data_features.columns # Get Column Headings of our Dataframe\n",
    "\n",
    "print((sorted(zip(map(lambda value: round(value, 4), randomforest.feature_importances_), Feature_name), \n",
    "             reverse=True))) "
   ]
  },
  {
   "cell_type": "markdown",
   "metadata": {},
   "source": [
    "For more readability we make a plot of the importance of the parameters in the model. "
   ]
  },
  {
   "cell_type": "code",
   "execution_count": 95,
   "metadata": {
    "collapsed": false
   },
   "outputs": [
    {
     "data": {
      "image/png": "[encoded data removed]",
      "text/plain": [
       "<matplotlib.figure.Figure at 0x11b7426a0>"
      ]
     },
     "metadata": {},
     "output_type": "display_data"
    }
   ],
   "source": [
    "importances = randomforest.feature_importances_\n",
    "sorted_idx = np.argsort(importances)\n",
    "\n",
    "padding = np.arange(len(Feature_name)) + 0.5\n",
    "plt.barh(padding, importances[sorted_idx], align='center')\n",
    "plt.yticks(padding, Feature_name[sorted_idx])\n",
    "plt.xlabel(\"Relative Importance\")\n",
    "plt.title(\"Title: Feature Importance Chart\")\n",
    "plt.show()"
   ]
  },
  {
   "cell_type": "markdown",
   "metadata": {},
   "source": [
    "From this plot, we can see that the important feature for the classification of the skin color of the player are the ones related to the IAT and Exp. This make sense as these features are the more prone to uncover a racial discrimination in the data."
   ]
  },
  {
   "cell_type": "markdown",
   "metadata": {},
   "source": [
    "Now we will try to obtain different features importance attributes by playing with the data set. Mainly we will drop certain features and see the impact on the features importances"
   ]
  },
  {
   "cell_type": "code",
   "execution_count": 99,
   "metadata": {
    "collapsed": false
   },
   "outputs": [
    {
     "data": {
      "text/html": [
       "<div>\n",
       "<table border=\"1\" class=\"dataframe\">\n",
       "  <thead>\n",
       "    <tr style=\"text-align: right;\">\n",
       "      <th></th>\n",
       "      <th>club</th>\n",
       "      <th>leagueCountry</th>\n",
       "      <th>height</th>\n",
       "      <th>weight</th>\n",
       "      <th>position</th>\n",
       "      <th>games</th>\n",
       "      <th>victories</th>\n",
       "      <th>ties</th>\n",
       "      <th>defeats</th>\n",
       "      <th>goals</th>\n",
       "      <th>...</th>\n",
       "      <th>yellowReds</th>\n",
       "      <th>redCards</th>\n",
       "      <th>Alpha_3</th>\n",
       "      <th>meanIAT</th>\n",
       "      <th>nIAT</th>\n",
       "      <th>seIAT</th>\n",
       "      <th>meanExp</th>\n",
       "      <th>nExp</th>\n",
       "      <th>seExp</th>\n",
       "      <th>yellowRed</th>\n",
       "    </tr>\n",
       "  </thead>\n",
       "  <tbody>\n",
       "    <tr>\n",
       "      <th>0</th>\n",
       "      <td>29</td>\n",
       "      <td>3</td>\n",
       "      <td>172.0</td>\n",
       "      <td>67.0</td>\n",
       "      <td>7</td>\n",
       "      <td>364</td>\n",
       "      <td>226</td>\n",
       "      <td>57</td>\n",
       "      <td>81</td>\n",
       "      <td>32</td>\n",
       "      <td>...</td>\n",
       "      <td>1</td>\n",
       "      <td>3</td>\n",
       "      <td>30</td>\n",
       "      <td>0.330002</td>\n",
       "      <td>2574735.0</td>\n",
       "      <td>0.000231</td>\n",
       "      <td>0.330002</td>\n",
       "      <td>2655936.0</td>\n",
       "      <td>0.001431</td>\n",
       "      <td>1.0</td>\n",
       "    </tr>\n",
       "    <tr>\n",
       "      <th>1</th>\n",
       "      <td>10</td>\n",
       "      <td>3</td>\n",
       "      <td>183.0</td>\n",
       "      <td>73.0</td>\n",
       "      <td>2</td>\n",
       "      <td>294</td>\n",
       "      <td>145</td>\n",
       "      <td>62</td>\n",
       "      <td>87</td>\n",
       "      <td>60</td>\n",
       "      <td>...</td>\n",
       "      <td>0</td>\n",
       "      <td>0</td>\n",
       "      <td>30</td>\n",
       "      <td>0.329110</td>\n",
       "      <td>2565503.0</td>\n",
       "      <td>0.000233</td>\n",
       "      <td>0.329110</td>\n",
       "      <td>2647455.0</td>\n",
       "      <td>0.001179</td>\n",
       "      <td>0.0</td>\n",
       "    </tr>\n",
       "    <tr>\n",
       "      <th>2</th>\n",
       "      <td>35</td>\n",
       "      <td>3</td>\n",
       "      <td>171.0</td>\n",
       "      <td>69.0</td>\n",
       "      <td>2</td>\n",
       "      <td>178</td>\n",
       "      <td>53</td>\n",
       "      <td>43</td>\n",
       "      <td>82</td>\n",
       "      <td>39</td>\n",
       "      <td>...</td>\n",
       "      <td>1</td>\n",
       "      <td>0</td>\n",
       "      <td>30</td>\n",
       "      <td>0.366673</td>\n",
       "      <td>87911.0</td>\n",
       "      <td>0.000358</td>\n",
       "      <td>0.366673</td>\n",
       "      <td>92973.0</td>\n",
       "      <td>0.001335</td>\n",
       "      <td>1.0</td>\n",
       "    </tr>\n",
       "    <tr>\n",
       "      <th>3</th>\n",
       "      <td>9</td>\n",
       "      <td>3</td>\n",
       "      <td>182.0</td>\n",
       "      <td>78.0</td>\n",
       "      <td>2</td>\n",
       "      <td>322</td>\n",
       "      <td>125</td>\n",
       "      <td>82</td>\n",
       "      <td>115</td>\n",
       "      <td>105</td>\n",
       "      <td>...</td>\n",
       "      <td>3</td>\n",
       "      <td>4</td>\n",
       "      <td>30</td>\n",
       "      <td>0.340878</td>\n",
       "      <td>305901.0</td>\n",
       "      <td>0.000437</td>\n",
       "      <td>0.340878</td>\n",
       "      <td>321422.0</td>\n",
       "      <td>0.002612</td>\n",
       "      <td>3.0</td>\n",
       "    </tr>\n",
       "    <tr>\n",
       "      <th>4</th>\n",
       "      <td>66</td>\n",
       "      <td>3</td>\n",
       "      <td>190.0</td>\n",
       "      <td>88.0</td>\n",
       "      <td>5</td>\n",
       "      <td>44</td>\n",
       "      <td>22</td>\n",
       "      <td>6</td>\n",
       "      <td>16</td>\n",
       "      <td>0</td>\n",
       "      <td>...</td>\n",
       "      <td>0</td>\n",
       "      <td>1</td>\n",
       "      <td>30</td>\n",
       "      <td>0.348044</td>\n",
       "      <td>105304.0</td>\n",
       "      <td>0.000459</td>\n",
       "      <td>0.348044</td>\n",
       "      <td>110781.0</td>\n",
       "      <td>0.002894</td>\n",
       "      <td>0.0</td>\n",
       "    </tr>\n",
       "  </tbody>\n",
       "</table>\n",
       "<p>5 rows × 21 columns</p>\n",
       "</div>"
      ],
      "text/plain": [
       "   club  leagueCountry  height  weight  position  games  victories  ties  \\\n",
       "0    29              3   172.0    67.0         7    364        226    57   \n",
       "1    10              3   183.0    73.0         2    294        145    62   \n",
       "2    35              3   171.0    69.0         2    178         53    43   \n",
       "3     9              3   182.0    78.0         2    322        125    82   \n",
       "4    66              3   190.0    88.0         5     44         22     6   \n",
       "\n",
       "   defeats  goals    ...      yellowReds  redCards  Alpha_3   meanIAT  \\\n",
       "0       81     32    ...               1         3       30  0.330002   \n",
       "1       87     60    ...               0         0       30  0.329110   \n",
       "2       82     39    ...               1         0       30  0.366673   \n",
       "3      115    105    ...               3         4       30  0.340878   \n",
       "4       16      0    ...               0         1       30  0.348044   \n",
       "\n",
       "        nIAT     seIAT   meanExp       nExp     seExp  yellowRed  \n",
       "0  2574735.0  0.000231  0.330002  2655936.0  0.001431        1.0  \n",
       "1  2565503.0  0.000233  0.329110  2647455.0  0.001179        0.0  \n",
       "2    87911.0  0.000358  0.366673    92973.0  0.001335        1.0  \n",
       "3   305901.0  0.000437  0.340878   321422.0  0.002612        3.0  \n",
       "4   105304.0  0.000459  0.348044   110781.0  0.002894        0.0  \n",
       "\n",
       "[5 rows x 21 columns]"
      ]
     },
     "execution_count": 99,
     "metadata": {},
     "output_type": "execute_result"
    }
   ],
   "source": [
    "data_new = data_features.copy()\n",
    "labels_new = labels.copy()\n",
    "data_new.head()"
   ]
  },
  {
   "cell_type": "markdown",
   "metadata": {},
   "source": [
    "We drop certain features "
   ]
  },
  {
   "cell_type": "code",
   "execution_count": 100,
   "metadata": {
    "collapsed": true
   },
   "outputs": [],
   "source": [
    "data_drop = data_new.drop(['nIAT','seIAT','meanIAT','seExp','meanExp','nExp',], axis=1)"
   ]
  },
  {
   "cell_type": "code",
   "execution_count": 101,
   "metadata": {
    "collapsed": false
   },
   "outputs": [
    {
     "data": {
      "image/png": "[encoded data removed]",
      "text/plain": [
       "<matplotlib.figure.Figure at 0x11b7787b8>"
      ]
     },
     "metadata": {},
     "output_type": "display_data"
    }
   ],
   "source": [
    "randomforest = RandomForestClassifier(n_estimators=35)\n",
    "\n",
    "randomforest.fit(data_drop,labels_new)\n",
    "\n",
    "\n",
    "importances = randomforest.feature_importances_\n",
    "Feature_name = data_drop.columns # Get Column Headings of our Dataframe\n",
    "sorted_idx = np.argsort(importances)\n",
    "\n",
    "padding = np.arange(len(Feature_name)) + 0.5\n",
    "plt.barh(padding, importances[sorted_idx], align='center')\n",
    "plt.yticks(padding, Feature_name[sorted_idx])\n",
    "plt.xlabel(\"Relative Importance\")\n",
    "plt.title(\"Title: Feature Importance Chart\")\n",
    "plt.show()\n",
    "\n"
   ]
  },
  {
   "cell_type": "markdown",
   "metadata": {},
   "source": [
    "We can see that the order of the remainings features is not the same as before. But there is not a significative difference in the value of each features importances."
   ]
  },
  {
   "cell_type": "markdown",
   "metadata": {},
   "source": [
    "# Bonus\n",
    "\n",
    "In this part we will plot the learning curve or our model for 2 differents set of parameters. The goal is to find a set that lead to high bias and another which doesn't.\n",
    "\n",
    "In theorie, a high bias should arive for a model that is relatively simple. Thus it will not have a strong variance but will always make a large approximation error which is the bias. A model with small bias should be more complex. On the other hand it will probably have a larger variance. In resume a high bias model will be underfitting while a high variance model will be overfitting."
   ]
  },
  {
   "cell_type": "markdown",
   "metadata": {},
   "source": [
    "Here we import the learing curve modul and we split data for training and testing set"
   ]
  },
  {
   "cell_type": "code",
   "execution_count": 102,
   "metadata": {
    "collapsed": true
   },
   "outputs": [],
   "source": [
    "#split data_features and data_labels into training and testing sets\n",
    "from sklearn.learning_curve import learning_curve\n",
    "features_train, features_test, labels_train, labels_test = train_test_split(data_features, labels, test_size=0.4, random_state=4)\n",
    "\n"
   ]
  },
  {
   "cell_type": "markdown",
   "metadata": {},
   "source": [
    "Here we initialize and random forest classifier with parameter that should make the model complex (prone to overfitting) in order to have a large variance and a small bias. We set a high n estimator, a small min sample leaf and a small min samples split. We let the max leaf nodes unlimited, the max depth unlimited and the maxi features unlimited."
   ]
  },
  {
   "cell_type": "code",
   "execution_count": 103,
   "metadata": {
    "collapsed": true
   },
   "outputs": [],
   "source": [
    "BestRankValidationScore=RandomForestClassifier(n_estimators=35, min_samples_leaf= 1, min_samples_split=1, max_leaf_nodes=None,\n",
    "                                               max_features=None, max_depth=None, bootstrap= False)\n",
    "train_best_sizes, train_best_scores, valid_best_scores = learning_curve(\n",
    "BestRankValidationScore, features_train, labels_train, train_sizes=np.linspace(0.1, 1.0, 15), cv=20)\n",
    "           "
   ]
  },
  {
   "cell_type": "markdown",
   "metadata": {},
   "source": [
    "Here we plot the results in the form of a learing curve"
   ]
  },
  {
   "cell_type": "code",
   "execution_count": 104,
   "metadata": {
    "collapsed": false
   },
   "outputs": [
    {
     "data": {
      "image/png": "[encoded data removed]",
      "text/plain": [
       "<matplotlib.figure.Figure at 0x118f14940>"
      ]
     },
     "metadata": {},
     "output_type": "display_data"
    }
   ],
   "source": [
    "plt.figure()\n",
    "plt.title(\"Learning curve for our First Rank Model\")\n",
    "\n",
    "plt.xlabel(\"Training examples\")\n",
    "plt.ylabel(\"Score\")\n",
    "\n",
    "train_best_scores_mean = np.mean(train_best_scores, axis=1)\n",
    "train_best_scores_std = np.std(train_best_scores, axis=1)\n",
    "valid_best_scores_mean = np.mean(valid_best_scores, axis=1)\n",
    "valid_best_scores_std = np.std(valid_best_scores, axis=1)\n",
    "#plt.grid()\n",
    "plt.fill_between(train_best_sizes, train_best_scores_mean - train_best_scores_std,\n",
    "                train_best_scores_mean + train_best_scores_std, alpha=0.1,\n",
    "                     color=\"r\")\n",
    "plt.fill_between(train_best_sizes, valid_best_scores_mean - valid_best_scores_std,\n",
    "                     valid_best_scores_mean + valid_best_scores_std, alpha=0.1, color=\"g\")\n",
    "plt.plot(train_best_sizes, train_best_scores_mean, 'o-', color=\"r\",\n",
    "             label=\"Training score\")\n",
    "plt.plot(train_best_sizes, valid_best_scores_mean, 'o-', color=\"g\",\n",
    "             label=\"Cross-validation score\")\n",
    "\n",
    "plt.legend(loc=\"best\")\n",
    "\n",
    "plt.show()"
   ]
  },
  {
   "cell_type": "markdown",
   "metadata": {},
   "source": [
    "We can observe that the training score is always 1.0, so we are actually overfitting. The cross validation score doesn't show a show a clear sign of high bias which would be represented as a bad score for small training sample value. We can also notice a high variance as expected. "
   ]
  },
  {
   "cell_type": "markdown",
   "metadata": {},
   "source": [
    "Now we do the exat same thing but for a model that should be simple and thus should have a high bias and less variance. We put the max feature parameter to 2 and max leaf nodes to 14. We also let the standard n estimator value to 10."
   ]
  },
  {
   "cell_type": "code",
   "execution_count": 105,
   "metadata": {
    "collapsed": true
   },
   "outputs": [],
   "source": [
    "ForestClassifierWithBias = RandomForestClassifier(min_samples_leaf= 1, min_samples_split= 1, max_leaf_nodes=14,\n",
    "                                               max_features= 2, max_depth=None,\n",
    "                                         bootstrap= False, criterion = 'entropy')\n",
    "\n",
    "train_sizes, train_scores, valid_scores = learning_curve(\n",
    "ForestClassifierWithBias, features_train, labels_train, train_sizes=np.linspace(0.1, 1.0, 30), cv=20)"
   ]
  },
  {
   "cell_type": "code",
   "execution_count": 106,
   "metadata": {
    "collapsed": false
   },
   "outputs": [
    {
     "data": {
      "image/png": "[encoded data removed]",
      "text/plain": [
       "<matplotlib.figure.Figure at 0x118f17ac8>"
      ]
     },
     "metadata": {},
     "output_type": "display_data"
    }
   ],
   "source": [
    "fig = plt.figure()\n",
    "plt.title(\"Learning curve for our Bias Model Model\")\n",
    "plt.xlabel(\"Training examples\")\n",
    "plt.ylabel(\"Score\")\n",
    "\n",
    "train_scores_mean = np.mean(train_scores, axis=1)\n",
    "train_scores_std = np.std(train_scores, axis=1)\n",
    "valid_scores_mean = np.mean(valid_scores, axis=1)\n",
    "valid_scores_std = np.std(valid_scores, axis=1)\n",
    "#plt.grid()\n",
    "plt.fill_between(train_sizes, train_scores_mean - train_scores_std,\n",
    "                train_scores_mean + train_scores_std, alpha=0.1,\n",
    "                     color=\"r\")\n",
    "plt.fill_between(train_sizes, valid_scores_mean - valid_scores_std,\n",
    "                     valid_scores_mean + valid_scores_std, alpha=0.1, color=\"g\")\n",
    "plt.plot(train_sizes, train_scores_mean, 'o-', color=\"r\",\n",
    "             label=\"Training score\")\n",
    "plt.plot(train_sizes, valid_scores_mean, 'o-', color=\"g\",\n",
    "             label=\"Cross-validation score\")\n",
    "\n",
    "plt.legend(loc=\"best\")\n",
    "\n",
    "plt.show()"
   ]
  },
  {
   "cell_type": "markdown",
   "metadata": {},
   "source": [
    "Now we can observe two things. First, the training score is decreasing with the number of samples used. This is due to the simplification of the model and is expected. The model is simple and every training examples increase the chance of having error. Second, we can see a slight increase in the cross validation score. This increase is due to the bias. Also the variance is lower than in the other case as expected."
   ]
  },
  {
   "cell_type": "markdown",
   "metadata": {},
   "source": [
    "# Clustering\n",
    "For the second part of the exercise we will try clustering the cleaned data.\n",
    "We begin by extracting the of the raters and doing a mapping for the finding of different cluster representing different skin color."
   ]
  },
  {
   "cell_type": "markdown",
   "metadata": {},
   "source": [
    "We begin by extracting the of the raters and doing a mapping for the finding of different cluster representing different skin color."
   ]
  },
  {
   "cell_type": "code",
   "execution_count": 107,
   "metadata": {
    "collapsed": true
   },
   "outputs": [],
   "source": [
    "playerCluster = pd.read_csv('Data/playerData.csv')"
   ]
  },
  {
   "cell_type": "code",
   "execution_count": 108,
   "metadata": {
    "collapsed": true
   },
   "outputs": [],
   "source": [
    "#Removing the mean rating column and storing it into a new dataframe\n",
    "playersNorating = playerCluster.drop('meanRating',axis=1)\n",
    "\n",
    "#We will define the function to transform the ratings.\n",
    "\n",
    "def transform_rating(series):\n",
    "    if series < 0.4:\n",
    "        return 0\n",
    "    else:\n",
    "        return 1\n",
    "    \n",
    "labels = playerCluster['meanRating'].apply(transform_rating)"
   ]
  },
  {
   "cell_type": "code",
   "execution_count": 109,
   "metadata": {
    "collapsed": true
   },
   "outputs": [],
   "source": [
    "#We still have one NA value that we will remove\n",
    "playersNorating.dropna(inplace=True)"
   ]
  },
  {
   "cell_type": "markdown",
   "metadata": {},
   "source": [
    "Now we will iteratively add features and do the clustering, and compute the silhouette score."
   ]
  },
  {
   "cell_type": "markdown",
   "metadata": {},
   "source": [
    "<div align=\"justify\">\n",
    "Furthermore to find if the players have been classified in two groups corresponding to their skin type we will use metrics.accuracy_score. We will have clusters corresponding to skin if the score is very low or very high because we don't know for which skin type the 0 and 1 corresponds to. If they are opposed to what we used then a 0.1 accuracy score would mean that 90% of players are in the right cluster which is also good. </div>"
   ]
  },
  {
   "cell_type": "code",
   "execution_count": 110,
   "metadata": {
    "collapsed": false
   },
   "outputs": [],
   "source": [
    "silScore = []\n",
    "accuracy = []\n",
    "\n",
    "for i in range(2,playerCluster.shape[1]):\n",
    "    cluster = KMeans(n_clusters=2,random_state=0).fit(playersNorating.values[:,0:i])\n",
    "    sil = metrics.silhouette_score(playersNorating.values,cluster.labels_)\n",
    "    silScore.append(sil)\n",
    "    accuracy.append(metrics.accuracy_score(labels,cluster.labels_))"
   ]
  },
  {
   "cell_type": "markdown",
   "metadata": {},
   "source": [
    "And we take a look at the different silouhette scores. For a recall a score of 1 means that the clusters are well separated, a score of -1 means that they are not well separated."
   ]
  },
  {
   "cell_type": "code",
   "execution_count": 111,
   "metadata": {
    "collapsed": false
   },
   "outputs": [
    {
     "name": "stdout",
     "output_type": "stream",
     "text": [
      "Maximum accuracy : 0.716312056738\n"
     ]
    },
    {
     "data": {
      "image/png": "[encoded data removed]",
      "text/plain": [
       "<matplotlib.figure.Figure at 0x11aff6240>"
      ]
     },
     "metadata": {},
     "output_type": "display_data"
    }
   ],
   "source": [
    "plt.plot(silScore,label='Silhouette Score')\n",
    "plt.plot(accuracy,label='Accuracy')\n",
    "plt.title('Evolution of Silhouette + Accuracy score with different number of features',y=1.08)\n",
    "plt.xlabel('Number of features')\n",
    "plt.ylabel('Silouhette Score')\n",
    "plt.legend(loc=9, bbox_to_anchor=(0.3,0.3))\n",
    "print('Maximum accuracy :', max(accuracy))"
   ]
  },
  {
   "cell_type": "markdown",
   "metadata": {},
   "source": [
    "<div align=\"justify\">We can clearly see that we get the best silhouette score by using all of the features. At the same time we can see that at one point, using more than 17 features, we start having an accuracy that is very good, so we can assume that the two clusters start representing players of different colors.\n",
    "\n",
    "We also think that the score stays constant for the last features because for example, the \"games\" variable is a linear combination of \"ties\", \"defeats\" and \"victories\" so adding it does not add information to the model.\n",
    "\n",
    "We have also no tested for diffe combinations of removing columns, we will try again by looping through the colums and adding one at a time. We will check if we are able to obtain a better accuracy. </div>"
   ]
  },
  {
   "cell_type": "code",
   "execution_count": 183,
   "metadata": {
    "collapsed": false
   },
   "outputs": [],
   "source": [
    "otherSilscore = []\n",
    "otherAcc = []\n",
    "\n",
    "for i in range (1,playerCluster.shape[1]-1):\n",
    "    for j in range(i+1,playerCluster.shape[1]):\n",
    "          cluster = KMeans(n_clusters=2,random_state=0)\\\n",
    "            .fit(playersNorating[playersNorating.columns[i:j]].values)\n",
    "          sil = metrics.silhouette_score\\\n",
    "          (playersNorating[playersNorating.columns[i:j]].values,cluster.labels_)\n",
    "          otherSilscore.append(sil)\n",
    "\n",
    "          otherAcc.append(metrics.accuracy_score(labels,cluster.labels_))"
   ]
  },
  {
   "cell_type": "markdown",
   "metadata": {},
   "source": [
    "And we take a look again at the silhouette score for different combinations."
   ]
  },
  {
   "cell_type": "code",
   "execution_count": 221,
   "metadata": {
    "collapsed": false
   },
   "outputs": [
    {
     "name": "stdout",
     "output_type": "stream",
     "text": [
      "Maximum Accuracy : 0.584784010316\n"
     ]
    },
    {
     "data": {
      "image/png": "[encoded data removed]",
      "text/plain": [
       "<matplotlib.figure.Figure at 0x118b18160>"
      ]
     },
     "metadata": {},
     "output_type": "display_data"
    }
   ],
   "source": [
    "plt.plot(otherSilscore,label='Silhouette Score')\n",
    "plt.plot(otherAcc,label='Accuracy')\n",
    "plt.title('Evolution of Silhouette and accuracy score with different number of features')\n",
    "plt.xlabel('Combination')\n",
    "plt.ylabel('Silouhette Score')\n",
    "plt.legend(loc=9, bbox_to_anchor=(0.1,-0.1))\n",
    "print('Maximum Accuracy :',max(accuracy))"
   ]
  },
  {
   "cell_type": "markdown",
   "metadata": {},
   "source": [
    "We see that the maximum accuracy corresponds exactly to the one we found previously, that means that we have not found a better combination of features.\n",
    "\n",
    "We find that we need all of the features to obtain a high accuracy with a high silhouette score, which implies that all features contain information.\n",
    "\n",
    "#### Removing bias data\n",
    "\n",
    "This clustering has been done by using all of the features, which include the bias values of the referee, which could influence the clustering.\n",
    "\n",
    "Let's try to remove the bias data and only cluster the data that represents only the player."
   ]
  },
  {
   "cell_type": "code",
   "execution_count": 209,
   "metadata": {
    "collapsed": false
   },
   "outputs": [],
   "source": [
    "playerOnly = pd.concat([playerCluster[playerCluster.columns[2:14]],\n",
    "                       playerCluster[['yellowReds','meanRating']]],axis=1)"
   ]
  },
  {
   "cell_type": "code",
   "execution_count": 213,
   "metadata": {
    "collapsed": false
   },
   "outputs": [],
   "source": [
    "silScore1 = []\n",
    "accuracy1 = []\n",
    "\n",
    "for i in range(2,playerOnly.shape[1]):\n",
    "    cluster = KMeans(n_clusters=2,random_state=0).fit(playerOnly.values[:,0:i])\n",
    "    sil = metrics.silhouette_score(playerOnly.values,cluster.labels_)\n",
    "    silScore1.append(sil)\n",
    "    accuracy1.append(metrics.accuracy_score(labels,cluster.labels_))"
   ]
  },
  {
   "cell_type": "markdown",
   "metadata": {},
   "source": [
    "And we plot it again"
   ]
  },
  {
   "cell_type": "code",
   "execution_count": 218,
   "metadata": {
    "collapsed": false
   },
   "outputs": [
    {
     "name": "stdout",
     "output_type": "stream",
     "text": [
      "Maximum accuracy : 0.584784010316\n"
     ]
    },
    {
     "data": {
      "image/png": "[encoded data removed]",
      "text/plain": [
       "<matplotlib.figure.Figure at 0x118939780>"
      ]
     },
     "metadata": {},
     "output_type": "display_data"
    }
   ],
   "source": [
    "plt.plot(silScore1,label='Silhouette Score')\n",
    "plt.plot(accuracy1,label='Accuracy')\n",
    "plt.title('Evolution of Silhouette + Accuracy score with different number of features',y=1.08)\n",
    "plt.xlabel('Number of features')\n",
    "plt.ylabel('Silouhette Score')\n",
    "plt.legend(loc=9, bbox_to_anchor=(0.6,0.3))\n",
    "plt.ylim([0,1.0])\n",
    "print('Maximum accuracy :', max(accuracy))"
   ]
  },
  {
   "cell_type": "markdown",
   "metadata": {},
   "source": [
    "And this time we can see that's it hard to cluster (low silhouette) and that at the sime time the cluster are not containing players regarding skin color."
   ]
  },
  {
   "cell_type": "code",
   "execution_count": null,
   "metadata": {
    "collapsed": true
   },
   "outputs": [],
   "source": []
  }
 ],
 "metadata": {
  "anaconda-cloud": {},
  "kernelspec": {
   "display_name": "Python [Root]",
   "language": "python",
   "name": "Python [Root]"
  },
  "language_info": {
   "codemirror_mode": {
    "name": "ipython",
    "version": 3
   },
   "file_extension": ".py",
   "mimetype": "text/x-python",
   "name": "python",
   "nbconvert_exporter": "python",
   "pygments_lexer": "ipython3",
   "version": "3.5.2"
  }
 },
 "nbformat": 4,
 "nbformat_minor": 0
}
