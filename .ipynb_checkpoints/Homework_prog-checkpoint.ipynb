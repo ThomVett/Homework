{
 "cells": [
  {
   "cell_type": "markdown",
   "metadata": {},
   "source": [
    "In this notebook we will guide you through our solution for the second homework of ADA.\n",
    "\n",
    "# Part 1: Extracting the options from the dropdown menu\n",
    "\n",
    "We start with the URL from the [homepage](http://isa.epfl.ch/imoniteur_ISAP/%21gedpublicreports.htm?ww_i_reportmodel=133685247) where you can the select the different years/semesters etc.."
   ]
  },
  {
   "cell_type": "code",
   "execution_count": 2,
   "metadata": {
    "collapsed": true
   },
   "outputs": [],
   "source": [
    "import requests\n",
    "from bs4 import BeautifulSoup\n",
    "\n",
    "urlHome = 'http://isa.epfl.ch/imoniteur_ISAP/\\\n",
    "%21gedpublicreports.htm?ww_i_reportmodel=133685247'"
   ]
  },
  {
   "cell_type": "markdown",
   "metadata": {},
   "source": [
    "We then use requests and BeautifulSoup to import the HTML data from the homepage."
   ]
  },
  {
   "cell_type": "code",
   "execution_count": 3,
   "metadata": {
    "collapsed": false
   },
   "outputs": [],
   "source": [
    "home = requests.get(urlHome)\n",
    "homeSoup = BeautifulSoup(home.content,'lxml')\n"
   ]
  },
  {
   "cell_type": "markdown",
   "metadata": {},
   "source": [
    "The insepction tool of our browser helped learn that we were to access a #document that is in the fram of one of the framesets of the HTML page, the document is sourced from another page of IS-Academia that we have to access. To access it, we scroll through the framesets and create a list of all the frames. "
   ]
  },
  {
   "cell_type": "code",
   "execution_count": 4,
   "metadata": {
    "collapsed": false
   },
   "outputs": [
    {
     "name": "stdout",
     "output_type": "stream",
     "text": [
      "[<frame name=\"entete\" noresize=\"\" scrolling=\"no\" src=\"!GEDPUBLICREPORTS.entete?ww_i_reportModel=133685247\"/>, <frame name=\"toc\" src=\"!GEDPUBLICREPORTS.filter?ww_i_reportModel=133685247\"/>, <frame name=\"principal\" src=\"GEDPUBLICREPORTS.empty\"/>]\n",
      "!GEDPUBLICREPORTS.filter?ww_i_reportModel=133685247\n"
     ]
    }
   ],
   "source": [
    "iframe = []\n",
    "for frame in homeSoup.frameset.find_all('frame'):\n",
    "    iframe.append(frame)\n",
    "print (iframe)\n",
    "urlOptions = iframe[1]['src']\n",
    "#urlOptions (homeSoup.frameset.frameset.frame['src']) this can be more optimal.....\n",
    "print(urlOptions)"
   ]
  },
  {
   "cell_type": "markdown",
   "metadata": {},
   "source": [
    "The url of the source page is found, we can use it to get the other HTML page"
   ]
  },
  {
   "cell_type": "code",
   "execution_count": 672,
   "metadata": {
    "collapsed": false
   },
   "outputs": [
    {
     "name": "stdout",
     "output_type": "stream",
     "text": [
      "the unit list contains names from option tag as below:\n",
      "['ww_i_reportModel', 'ww_i_reportModelXsl', 'ww_x_UNITE_ACAD', 'ww_x_PERIODE_ACAD', 'ww_x_PERIODE_PEDAGO', 'ww_x_HIVERETE']\n"
     ]
    }
   ],
   "source": [
    "\n",
    "\n",
    "iframe = []\n",
    "for frame in homeSoup.frameset.find_all('frame'):\n",
    "    iframe.append(frame)\n",
    "#print (iframe)\n",
    "urlOptions = iframe[1]['src']\n",
    "#homeSoup.frameset.frameset.frame['src'] this can be more optimal.....\n",
    "#print(urlOptions)\n",
    "urlOptions = 'http://isa.epfl.ch/imoniteur_ISAP/' + urlOptions\n",
    "options = requests.get(urlOptions)\n",
    "soupOptions = BeautifulSoup(options.content,'lxml')\n",
    "\n",
    "################################################################################\n",
    "#soupOptions.body.find_all('div')\n",
    "#By inspection we have two divs. Its the second one that has the filters and options and correponding values we are looking for\n",
    "#divOptions=soupOptions.find_all('div', {'class':'filtres'})# the div with the filter.\n",
    "#from the options ablove let us get the cotents\n",
    "# Especially it contains  3 tables we extract those and filter out the parameters\n",
    "\n",
    "\n",
    "#################################################################################\n",
    "#### Part 1 name extraction\n",
    "\n",
    "unitStorage=[]\n",
    "\n",
    "model1 = homeSoup.frameset.frameset.frame['src']\n",
    "formater = model1[25:41]\n",
    "unitStorage.append(formater) ### appending formater \n",
    "\n",
    "# return the model formatter   and append to unit\n",
    "\n",
    "soupOptions.body.find_all('table')\n",
    "tab0= soupOptions.find(lambda tag: tag.name=='table' and  tag['id']==\"format\") \n",
    "formatSpec=  tab0.input['name'] # this brings out the name . We also need the values\n",
    "unitStorage.append(formatSpec)\n",
    "\n",
    "####for the other option selectors\n",
    "for l in  tableaux.find_all('select'):\n",
    "        unitStorage.append(l['name'])\n",
    "\n",
    "    \n",
    "print(\"the unit list contains names from option tag as below:\")    \n",
    "print(unitStorage)\n",
    "# the unit generated here will be used for the mappings later \n"
   ]
  },
  {
   "cell_type": "markdown",
   "metadata": {},
   "source": [
    "# Getting Parameter values "
   ]
  },
  {
   "cell_type": "code",
   "execution_count": 673,
   "metadata": {
    "collapsed": false
   },
   "outputs": [
    {
     "name": "stdout",
     "output_type": "stream",
     "text": [
      "We first generate the values for model and format generated above:\n",
      "133685247\n",
      "133685270\n",
      "\n",
      "\n",
      "lexicon is our dictionary of parameters and its contains key/value pairs below: \n",
      "{'Stage printemps master': '2227132', 'Mise à niveau': '2063602308', 'Architecture': '942293', 'Semestre de printemps': '2936295', 'Stage printemps 4ème année': '2226626', '2016-2017': '355925344', 'Science et génie des matériaux': '944917', 'EME (EPFL Middle East)': '637841336', None: 'null', 'Informatique': '249847', 'Microtechnique': '945244', 'Management de la technologie': '946882', '2012-2013': '123456101', 'Stage printemps 3ème année': '983606', 'Mineur semestre 2': '2335676', 'Semestre automne': '953159', 'Mathématiques': '944590', 'Stage automne 4ème année': '2226616', 'Systèmes de communication': '946228', 'Ingénierie financière': '120623110', 'Chimie et génie chimique': '246696', '2014-2015': '213637922', 'Bachelor semestre 4': '942163', '2010-2011': '39486325', 'Projet Master automne': '249127', '2009-2010': '978195', 'Projet Master printemps': '3781783', 'Master semestre 4': '2230140', 'Master semestre 3': '2230128', 'Bachelor semestre 2': '249114', 'Sciences et technologies du vivant': '945901', '2007-2008': '978181', 'Génie mécanique': '944263', 'Génie électrique et électronique ': '943936', 'Humanités digitales': '2054839157', 'Semestre printemps': '2754553', '2015-2016': '213638028', 'Stage automne 3ème année': '953137', '2008-2009': '978187', 'Génie civil': '942623', 'Master semestre 2': '942192', 'Bachelor semestre 6': '942175', 'Section FCUE': '1574548993', 'Bachelor semestre 1': '249108', 'Bachelor semestre 5b': '2226768', 'Bachelor semestre 3': '942155', \"Sciences et ingénierie de l'environnement\": '942953', 'Physique': '945571', 'Master semestre 1': '2230106', '2013-2014': '213637754', 'Bachelor semestre 6b': '2226785', \"Semestre d'automne\": '2936286', 'Bachelor semestre 5': '942120', 'Mineur semestre 1': '2335667', '2011-2012': '123455150', 'Cours de mathématiques spéciales': '943282'}\n",
      "\n",
      "\n",
      "249847\n",
      "['2936286', '2754553']\n",
      "{'2011-2012': '123455150', '2007-2008': '978181', '2014-2015': '213637922', '2012-2013': '123456101', '2015-2016': '213638028', '2008-2009': '978187', '2016-2017': '355925344', '2010-2011': '39486325', '2013-2014': '213637754', '2009-2010': '978195'}\n"
     ]
    }
   ],
   "source": [
    "### PArt 2 : we want to get parameter values in the  options. we make a dictionary called lexicon \n",
    "# this uses table 1\n",
    "# values for formatters\n",
    "print(\"We first generate the values for model and format generated above:\")\n",
    "value =   model1[42:53];\n",
    "print(value)\n",
    "formatVal = tab0.input['value'];\n",
    "print(formatVal)\n",
    "tableaux= soupOptions.find(lambda tag: tag.name=='table' and  tag['id']==\"filtre\") # table with parameters\n",
    "array1 = [];# array 1 to be zipped with array 2\n",
    "array2 = [];\n",
    "\n",
    "\n",
    "for el in tableaux.find_all('option'):\n",
    "    array1.append(el.string)\n",
    "    array2.append(el['value'])\n",
    "    \n",
    "lexicon ={};\n",
    "lexicon = dict(zip(array1,array2));\n",
    "print('\\n')\n",
    "print(\"lexicon is our dictionary of parameters and its contains key/value pairs below: \")\n",
    "print(lexicon)\n",
    "\n",
    "#################################################################################\n",
    "print('\\n')\n",
    "### Part 3:  from lexicon we extract the values we observed in postman and create another list with the\n",
    "# we create a new list for each of the parameters we care about.\n",
    "\n",
    "parameter_1 = (lexicon['Informatique']) # put the value for informatique in our parameters\n",
    "print(parameter_1)\n",
    "\n",
    "# for the semesters we have\n",
    "parameter_2=[]\n",
    "\n",
    "parameter_2.append(lexicon[\"Semestre d'automne\"])\n",
    "parameter_2.append(lexicon[\"Semestre printemps\"])\n",
    "\n",
    "print(parameter_2) # values for the two semesters available\n",
    "\n",
    "\n",
    "#generate third parameter for years and their values\n",
    "parameter_4={}; #this is dictionary\n",
    "\n",
    "for k,v in lexicon.items():\n",
    "    if k is not None: #checking for none because it exist in the keys. With this no error will be returned due to nonetype\n",
    "        if k.startswith('2'):\n",
    "            parameter_4[k]=v\n",
    "print(parameter_4)\n",
    "########Ordering the dictionary above###################\n",
    "\n",
    "import collections\n",
    "OrderedDict = { '2007-2008': '978181','2008-2009': '978187','2009-2010': '978195' ,'2010-2011': '39486325', '2012-2013': '123456101','2013-2014': '213637754',  '2014-2015': '213637922', '2015-2016': '213638028',  '2016-2017': '355925344'}          \n",
    "order= collections.OrderedDict(sorted(parameter_4.items()))\n",
    "\n",
    "###############end of ordering######################\n"
   ]
  },
  {
   "cell_type": "markdown",
   "metadata": {},
   "source": [
    "# Parameter Generation continues"
   ]
  },
  {
   "cell_type": "code",
   "execution_count": 674,
   "metadata": {
    "collapsed": false
   },
   "outputs": [
    {
     "name": "stdout",
     "output_type": "stream",
     "text": [
      "['978181', '978187', '978195', '39486325', '123455150', '123456101', '213637754', '213637922', '213638028', '355925344']\n"
     ]
    },
    {
     "data": {
      "text/plain": [
       "{'Bachelor semestre 1': '249108',\n",
       " 'Bachelor semestre 2': '249114',\n",
       " 'Bachelor semestre 3': '942155',\n",
       " 'Bachelor semestre 4': '942163',\n",
       " 'Bachelor semestre 5': '942120',\n",
       " 'Bachelor semestre 5b': '2226768',\n",
       " 'Bachelor semestre 6': '942175',\n",
       " 'Bachelor semestre 6b': '2226785',\n",
       " 'Management de la technologie': '946882',\n",
       " 'Master semestre 1': '2230106',\n",
       " 'Master semestre 2': '942192',\n",
       " 'Master semestre 3': '2230128',\n",
       " 'Master semestre 4': '2230140',\n",
       " 'Mathématiques': '944590',\n",
       " 'Mineur semestre 1': '2335667',\n",
       " 'Mineur semestre 2': '2335676',\n",
       " 'Mise à niveau': '2063602308',\n",
       " 'Projet Master automne': '249127',\n",
       " 'Projet Master printemps': '3781783',\n",
       " 'Semestre automne': '953159',\n",
       " \"Semestre d'automne\": '2936286',\n",
       " 'Semestre de printemps': '2936295',\n",
       " 'Semestre printemps': '2754553',\n",
       " 'Stage automne 3ème année': '953137',\n",
       " 'Stage automne 4ème année': '2226616',\n",
       " 'Stage printemps 3ème année': '983606',\n",
       " 'Stage printemps 4ème année': '2226626',\n",
       " 'Stage printemps master': '2227132'}"
      ]
     },
     "execution_count": 674,
     "metadata": {},
     "output_type": "execute_result"
    }
   ],
   "source": [
    "###creating list for the semesters#######\n",
    "parameter_4_list=[];\n",
    "for i,v in order.items():\n",
    "    parameter_4_list.append(v)\n",
    "print(parameter_4_list )   \n",
    "\n",
    "######the final part for the periode pedagogique\n",
    "\n",
    "test = [\"Ba\", \"Ma\",\"Min\",\"Mis\",\"Pro\",\"Sem\",\"Sta\"]\n",
    "parameter_5 = {};\n",
    "for k,v in lexicon.items():\n",
    "    if k is not None: #checking for none because it exist in the keys. With this no error will be returned due to nonetype\n",
    "        if k.startswith(tuple(test)):\n",
    "            parameter_5[k]=v\n",
    "parameter_5            \n",
    "            "
   ]
  },
  {
   "cell_type": "markdown",
   "metadata": {},
   "source": [
    "# Parameter aggregation"
   ]
  },
  {
   "cell_type": "code",
   "execution_count": 675,
   "metadata": {
    "collapsed": false
   },
   "outputs": [
    {
     "name": "stdout",
     "output_type": "stream",
     "text": [
      "['ww_i_reportModel', 'ww_i_reportModelXsl', 'ww_x_UNITE_ACAD', 'ww_x_PERIODE_ACAD', 'ww_x_PERIODE_PEDAGO', 'ww_x_HIVERETE']\n",
      "\n",
      "\n",
      "['133685247', '133685270', '249847', ['2936286', '2754553'], ['978181', '978187', '978195', '39486325', '123455150', '123456101', '213637754', '213637922', '213638028', '355925344'], {'Stage printemps master': '2227132', 'Mise à niveau': '2063602308', 'Master semestre 3': '2230128', 'Stage printemps 4ème année': '2226626', 'Projet Master printemps': '3781783', 'Bachelor semestre 2': '249114', 'Master semestre 4': '2230140', 'Semestre de printemps': '2936295', 'Bachelor semestre 5b': '2226768', 'Semestre printemps': '2754553', 'Stage automne 3ème année': '953137', 'Master semestre 2': '942192', 'Mineur semestre 1': '2335667', 'Bachelor semestre 6': '942175', 'Stage printemps 3ème année': '983606', 'Mineur semestre 2': '2335676', 'Semestre automne': '953159', 'Bachelor semestre 1': '249108', 'Bachelor semestre 3': '942155', 'Stage automne 4ème année': '2226616', 'Mathématiques': '944590', 'Management de la technologie': '946882', 'Master semestre 1': '2230106', 'Bachelor semestre 6b': '2226785', \"Semestre d'automne\": '2936286', 'Bachelor semestre 5': '942120', 'Bachelor semestre 4': '942163', 'Projet Master automne': '249127'}]\n",
      "['2227132', '2063602308', '2230128', '2226626', '3781783', '249114', '2230140', '2936295', '2226768', '2754553', '953137', '942192', '2335667', '942175', '983606', '2335676', '953159', '249108', '942155', '2226616', '944590', '946882', '2230106', '2226785', '2936286', '942120', '942163', '249127']\n",
      "\n",
      "\n"
     ]
    },
    {
     "data": {
      "text/plain": [
       "['133685247',\n",
       " '133685270',\n",
       " '249847',\n",
       " ['978181',\n",
       "  '978187',\n",
       "  '978195',\n",
       "  '39486325',\n",
       "  '123455150',\n",
       "  '123456101',\n",
       "  '213637754',\n",
       "  '213637922',\n",
       "  '213638028',\n",
       "  '355925344'],\n",
       " ['2227132',\n",
       "  '2063602308',\n",
       "  '2230128',\n",
       "  '2226626',\n",
       "  '3781783',\n",
       "  '249114',\n",
       "  '2230140',\n",
       "  '2936295',\n",
       "  '2226768',\n",
       "  '2754553',\n",
       "  '953137',\n",
       "  '942192',\n",
       "  '2335667',\n",
       "  '942175',\n",
       "  '983606',\n",
       "  '2335676',\n",
       "  '953159',\n",
       "  '249108',\n",
       "  '942155',\n",
       "  '2226616',\n",
       "  '944590',\n",
       "  '946882',\n",
       "  '2230106',\n",
       "  '2226785',\n",
       "  '2936286',\n",
       "  '942120',\n",
       "  '942163',\n",
       "  '249127'],\n",
       " ['2936286', '2754553']]"
      ]
     },
     "execution_count": 675,
     "metadata": {},
     "output_type": "execute_result"
    }
   ],
   "source": [
    " #####bringing all together\n",
    "    \n",
    "print(unitStorage)  \n",
    "print('\\n')\n",
    "parameter = [value,formatVal,parameter_1,parameter_2,parameter_4_list,parameter_5]\n",
    "print (parameter)\n",
    "\n",
    "# lets parametr 5 be list and return only values\n",
    "semesterList=[]\n",
    "\n",
    "for i,v in parameter_5.items():\n",
    "    semesterList.append(v)\n",
    "print(semesterList) \n",
    "\n",
    "parameter = [value,formatVal,parameter_1,parameter_4_list,semesterList,parameter_2]\n",
    "print('\\n')\n",
    "parameter"
   ]
  },
  {
   "cell_type": "markdown",
   "metadata": {},
   "source": [
    "# Create  mappings"
   ]
  },
  {
   "cell_type": "code",
   "execution_count": 683,
   "metadata": {
    "collapsed": false
   },
   "outputs": [
    {
     "name": "stdout",
     "output_type": "stream",
     "text": [
      "{'ww_x_HIVERETE': ['2936286', '2754553'], 'ww_x_PERIODE_ACAD': ['978181', '978187', '978195', '39486325', '123455150', '123456101', '213637754', '213637922', '213638028', '355925344'], 'ww_x_UNITE_ACAD': '249847', 'ww_x_PERIODE_PEDAGO': ['2227132', '2063602308', '2230128', '2226626', '3781783', '249114', '2230140', '2936295', '2226768', '2754553', '953137', '942192', '2335667', '942175', '983606', '2335676', '953159', '249108', '942155', '2226616', '944590', '946882', '2230106', '2226785', '2936286', '942120', '942163', '249127'], 'ww_i_reportModel': '133685247', 'ww_i_reportModelXsl': '133685270'}\n"
     ]
    },
    {
     "data": {
      "text/plain": [
       "OrderedDict([('ww_i_reportModel', '133685247'),\n",
       "             ('ww_i_reportModelXsl', '133685270'),\n",
       "             ('ww_x_HIVERETE', ['2936286', '2754553']),\n",
       "             ('ww_x_PERIODE_ACAD',\n",
       "              ['978181',\n",
       "               '978187',\n",
       "               '978195',\n",
       "               '39486325',\n",
       "               '123455150',\n",
       "               '123456101',\n",
       "               '213637754',\n",
       "               '213637922',\n",
       "               '213638028',\n",
       "               '355925344']),\n",
       "             ('ww_x_PERIODE_PEDAGO',\n",
       "              ['2227132',\n",
       "               '2063602308',\n",
       "               '2230128',\n",
       "               '2226626',\n",
       "               '3781783',\n",
       "               '249114',\n",
       "               '2230140',\n",
       "               '2936295',\n",
       "               '2226768',\n",
       "               '2754553',\n",
       "               '953137',\n",
       "               '942192',\n",
       "               '2335667',\n",
       "               '942175',\n",
       "               '983606',\n",
       "               '2335676',\n",
       "               '953159',\n",
       "               '249108',\n",
       "               '942155',\n",
       "               '2226616',\n",
       "               '944590',\n",
       "               '946882',\n",
       "               '2230106',\n",
       "               '2226785',\n",
       "               '2936286',\n",
       "               '942120',\n",
       "               '942163',\n",
       "               '249127']),\n",
       "             ('ww_x_UNITE_ACAD', '249847')])"
      ]
     },
     "execution_count": 683,
     "metadata": {},
     "output_type": "execute_result"
    }
   ],
   "source": [
    "# I have changed names so that it becomes obvious\n",
    "from collections import OrderedDict\n",
    "keys = unitStorage\n",
    "Values = parameter\n",
    "formParameter= dict(zip(keys, Values))\n",
    "print(formParameter)\n",
    "# force dictionary to be ordered\n",
    "OrderedDict = {'ww_i_reportModel', 'ww_i_reportModelXsl', 'ww_x_UNITE_ACAD', 'ww_x_PERIODE_ACAD', 'ww_x_PERIODE_PEDAGO', 'ww_x_HIVERETE'}\n",
    "\n",
    "formParameters =  collections.OrderedDict(sorted(formParameter.items()))\n",
    "formParameters"
   ]
  },
  {
   "cell_type": "code",
   "execution_count": null,
   "metadata": {
    "collapsed": true
   },
   "outputs": [],
   "source": [
    "\n",
    "####################TO_DO\n",
    "\n",
    "## ordered colection syntex to be corrected on the dictionary for parameter_4.  and same for fromalParameter\n",
    "\n",
    "### We have to include GPS\n",
    "\n",
    "### ok\n",
    "\n",
    "\n",
    "\n",
    "\n",
    "\n",
    "####################### from here downwards this is just for crosschecking. And All are to be deleted\n",
    "\n",
    "periode_acad = [978181,978187,978195,39486325,123455150,123456101,213637754,213637922,213638028,355925344] # 2007-2008 to 2016-2017\n",
    "    # 2007-2008 to 2016-2017 with S1 and s2\n",
    "    GPS = [(71297531,19561998),\n",
    "          (109576936,39494897),\n",
    "          (213617925,71297626),\n",
    "          (357704486,109577031),\n",
    "          (736308968,213618020),\n",
    "          (1378362092,357704613),\n",
    "          (1650771864,736309090),\n",
    "          (1744377893,1378362238),\n",
    "          (1897032870,1650772010),\n",
    "          (2021043255,1744378039)]\n",
    "    periode_pedago = [249108,942175] # S1-S2\n",
    "    hiverete = [2936286,2936295]\n",
    "\n",
    "    dic_param = {'ww_x_GPS':GPS[period][semester],\n",
    "               'ww_i_reportModel':133685247,\n",
    "               'ww_i_reportModelXsl':133685270,\n",
    "               'ww_x_UNITE_ACAD':249847,\n",
    "               'ww_x_PERIODE_ACAD':periode_acad[period],\n",
    "               'ww_x_PERIODE_PEDAGO':periode_pedago[semester],# Value (S1 or S6)\n",
    "               'ww_x_HIVERETE':hiverete[semester]}# Value (Automne or printemps)"
   ]
  },
  {
   "cell_type": "code",
   "execution_count": null,
   "metadata": {
    "collapsed": true
   },
   "outputs": [],
   "source": []
  },
  {
   "cell_type": "code",
   "execution_count": 662,
   "metadata": {
    "collapsed": false
   },
   "outputs": [
    {
     "data": {
      "text/plain": [
       "[<option value=\"null\"></option>,\n",
       " <option value=\"942293\">Architecture</option>,\n",
       " <option value=\"246696\">Chimie et génie chimique</option>,\n",
       " <option value=\"943282\">Cours de mathématiques spéciales</option>,\n",
       " <option value=\"637841336\">EME (EPFL Middle East)</option>,\n",
       " <option value=\"942623\">Génie civil</option>,\n",
       " <option value=\"944263\">Génie mécanique</option>,\n",
       " <option value=\"943936\">Génie électrique et électronique </option>,\n",
       " <option value=\"2054839157\">Humanités digitales</option>,\n",
       " <option value=\"249847\">Informatique</option>,\n",
       " <option value=\"120623110\">Ingénierie financière</option>,\n",
       " <option value=\"946882\">Management de la technologie</option>,\n",
       " <option value=\"944590\">Mathématiques</option>,\n",
       " <option value=\"945244\">Microtechnique</option>,\n",
       " <option value=\"945571\">Physique</option>,\n",
       " <option value=\"944917\">Science et génie des matériaux</option>,\n",
       " <option value=\"942953\">Sciences et ingénierie de l'environnement</option>,\n",
       " <option value=\"945901\">Sciences et technologies du vivant</option>,\n",
       " <option value=\"1574548993\">Section FCUE</option>,\n",
       " <option value=\"946228\">Systèmes de communication</option>,\n",
       " <option value=\"null\"></option>,\n",
       " <option value=\"355925344\">2016-2017</option>,\n",
       " <option value=\"213638028\">2015-2016</option>,\n",
       " <option value=\"213637922\">2014-2015</option>,\n",
       " <option value=\"213637754\">2013-2014</option>,\n",
       " <option value=\"123456101\">2012-2013</option>,\n",
       " <option value=\"123455150\">2011-2012</option>,\n",
       " <option value=\"39486325\">2010-2011</option>,\n",
       " <option value=\"978195\">2009-2010</option>,\n",
       " <option value=\"978187\">2008-2009</option>,\n",
       " <option value=\"978181\">2007-2008</option>,\n",
       " <option value=\"null\"></option>,\n",
       " <option value=\"249108\">Bachelor semestre 1</option>,\n",
       " <option value=\"249114\">Bachelor semestre 2</option>,\n",
       " <option value=\"942155\">Bachelor semestre 3</option>,\n",
       " <option value=\"942163\">Bachelor semestre 4</option>,\n",
       " <option value=\"942120\">Bachelor semestre 5</option>,\n",
       " <option value=\"2226768\">Bachelor semestre 5b</option>,\n",
       " <option value=\"942175\">Bachelor semestre 6</option>,\n",
       " <option value=\"2226785\">Bachelor semestre 6b</option>,\n",
       " <option value=\"2230106\">Master semestre 1</option>,\n",
       " <option value=\"942192\">Master semestre 2</option>,\n",
       " <option value=\"2230128\">Master semestre 3</option>,\n",
       " <option value=\"2230140\">Master semestre 4</option>,\n",
       " <option value=\"2335667\">Mineur semestre 1</option>,\n",
       " <option value=\"2335676\">Mineur semestre 2</option>,\n",
       " <option value=\"2063602308\">Mise à niveau</option>,\n",
       " <option value=\"249127\">Projet Master automne</option>,\n",
       " <option value=\"3781783\">Projet Master printemps</option>,\n",
       " <option value=\"953159\">Semestre automne</option>,\n",
       " <option value=\"2754553\">Semestre printemps</option>,\n",
       " <option value=\"953137\">Stage automne 3ème année</option>,\n",
       " <option value=\"2226616\">Stage automne 4ème année</option>,\n",
       " <option value=\"983606\">Stage printemps 3ème année</option>,\n",
       " <option value=\"2226626\">Stage printemps 4ème année</option>,\n",
       " <option value=\"2227132\">Stage printemps master</option>,\n",
       " <option value=\"null\"></option>,\n",
       " <option value=\"2936286\">Semestre d'automne</option>,\n",
       " <option value=\"2936295\">Semestre de printemps</option>]"
      ]
     },
     "execution_count": 662,
     "metadata": {},
     "output_type": "execute_result"
    }
   ],
   "source": [
    "tableaux.find_all('option') # this is just for the group. It is to be deleted latter"
   ]
  },
  {
   "cell_type": "code",
   "execution_count": null,
   "metadata": {
    "collapsed": false
   },
   "outputs": [],
   "source": [
    "\n"
   ]
  },
  {
   "cell_type": "code",
   "execution_count": null,
   "metadata": {
    "collapsed": false
   },
   "outputs": [],
   "source": []
  },
  {
   "cell_type": "code",
   "execution_count": null,
   "metadata": {
    "collapsed": false
   },
   "outputs": [],
   "source": []
  },
  {
   "cell_type": "code",
   "execution_count": null,
   "metadata": {
    "collapsed": true
   },
   "outputs": [],
   "source": []
  },
  {
   "cell_type": "code",
   "execution_count": null,
   "metadata": {
    "collapsed": true
   },
   "outputs": [],
   "source": []
  },
  {
   "cell_type": "code",
   "execution_count": null,
   "metadata": {
    "collapsed": true
   },
   "outputs": [],
   "source": []
  },
  {
   "cell_type": "code",
   "execution_count": null,
   "metadata": {
    "collapsed": true
   },
   "outputs": [],
   "source": []
  },
  {
   "cell_type": "code",
   "execution_count": null,
   "metadata": {
    "collapsed": true
   },
   "outputs": [],
   "source": []
  },
  {
   "cell_type": "code",
   "execution_count": null,
   "metadata": {
    "collapsed": true
   },
   "outputs": [],
   "source": []
  },
  {
   "cell_type": "code",
   "execution_count": null,
   "metadata": {
    "collapsed": false
   },
   "outputs": [],
   "source": []
  },
  {
   "cell_type": "code",
   "execution_count": null,
   "metadata": {
    "collapsed": true
   },
   "outputs": [],
   "source": []
  },
  {
   "cell_type": "code",
   "execution_count": null,
   "metadata": {
    "collapsed": true
   },
   "outputs": [],
   "source": []
  },
  {
   "cell_type": "code",
   "execution_count": null,
   "metadata": {
    "collapsed": true
   },
   "outputs": [],
   "source": []
  },
  {
   "cell_type": "code",
   "execution_count": null,
   "metadata": {
    "collapsed": true
   },
   "outputs": [],
   "source": []
  },
  {
   "cell_type": "code",
   "execution_count": null,
   "metadata": {
    "collapsed": true
   },
   "outputs": [],
   "source": []
  },
  {
   "cell_type": "code",
   "execution_count": null,
   "metadata": {
    "collapsed": true
   },
   "outputs": [],
   "source": []
  },
  {
   "cell_type": "code",
   "execution_count": null,
   "metadata": {
    "collapsed": true
   },
   "outputs": [],
   "source": []
  },
  {
   "cell_type": "code",
   "execution_count": null,
   "metadata": {
    "collapsed": false
   },
   "outputs": [],
   "source": []
  },
  {
   "cell_type": "code",
   "execution_count": null,
   "metadata": {
    "collapsed": true
   },
   "outputs": [],
   "source": []
  },
  {
   "cell_type": "code",
   "execution_count": null,
   "metadata": {
    "collapsed": true
   },
   "outputs": [],
   "source": []
  },
  {
   "cell_type": "code",
   "execution_count": null,
   "metadata": {
    "collapsed": true
   },
   "outputs": [],
   "source": []
  },
  {
   "cell_type": "code",
   "execution_count": null,
   "metadata": {
    "collapsed": true
   },
   "outputs": [],
   "source": []
  },
  {
   "cell_type": "code",
   "execution_count": null,
   "metadata": {
    "collapsed": true
   },
   "outputs": [],
   "source": []
  },
  {
   "cell_type": "code",
   "execution_count": null,
   "metadata": {
    "collapsed": true
   },
   "outputs": [],
   "source": []
  },
  {
   "cell_type": "code",
   "execution_count": null,
   "metadata": {
    "collapsed": true
   },
   "outputs": [],
   "source": []
  },
  {
   "cell_type": "code",
   "execution_count": null,
   "metadata": {
    "collapsed": true
   },
   "outputs": [],
   "source": []
  },
  {
   "cell_type": "code",
   "execution_count": null,
   "metadata": {
    "collapsed": true
   },
   "outputs": [],
   "source": []
  },
  {
   "cell_type": "code",
   "execution_count": null,
   "metadata": {
    "collapsed": true
   },
   "outputs": [],
   "source": []
  },
  {
   "cell_type": "code",
   "execution_count": null,
   "metadata": {
    "collapsed": true
   },
   "outputs": [],
   "source": []
  },
  {
   "cell_type": "code",
   "execution_count": null,
   "metadata": {
    "collapsed": true
   },
   "outputs": [],
   "source": []
  },
  {
   "cell_type": "code",
   "execution_count": null,
   "metadata": {
    "collapsed": true
   },
   "outputs": [],
   "source": []
  },
  {
   "cell_type": "code",
   "execution_count": null,
   "metadata": {
    "collapsed": true
   },
   "outputs": [],
   "source": []
  },
  {
   "cell_type": "code",
   "execution_count": null,
   "metadata": {
    "collapsed": true
   },
   "outputs": [],
   "source": []
  }
 ],
 "metadata": {
  "anaconda-cloud": {},
  "kernelspec": {
   "display_name": "Python [Root]",
   "language": "python",
   "name": "Python [Root]"
  },
  "language_info": {
   "codemirror_mode": {
    "name": "ipython",
    "version": 3
   },
   "file_extension": ".py",
   "mimetype": "text/x-python",
   "name": "python",
   "nbconvert_exporter": "python",
   "pygments_lexer": "ipython3",
   "version": "3.5.2"
  }
 },
 "nbformat": 4,
 "nbformat_minor": 0
}
